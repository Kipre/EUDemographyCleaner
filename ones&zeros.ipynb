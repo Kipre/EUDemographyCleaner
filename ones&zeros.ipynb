{
 "cells": [
  {
   "cell_type": "code",
   "execution_count": 1,
   "metadata": {},
   "outputs": [],
   "source": [
    "import pandas as pd\n",
    "import tensorflow as tf\n",
    "import numpy as np\n",
    "import matplotlib.pyplot as plt\n",
    "\n",
    "import firebase_admin\n",
    "from firebase_admin import credentials\n",
    "from firebase_admin import firestore"
   ]
  },
  {
   "cell_type": "code",
   "execution_count": 2,
   "metadata": {},
   "outputs": [],
   "source": [
    "cred = credentials.Certificate(\"C:/Users/kipr/Downloads/surf-16cf2-firebase-adminsdk-l3b7y-a9b657bdb9.json\")\n",
    "firebase_admin.initialize_app(cred, {\n",
    "  'projectId': 'surf-16cf2',\n",
    "})\n",
    "\n",
    "db = firestore.client()"
   ]
  },
  {
   "cell_type": "code",
   "execution_count": 13,
   "metadata": {},
   "outputs": [],
   "source": [
    "examples = []\n",
    "labels = []\n",
    "\n",
    "users_ref = db.collection(u'dataset')\n",
    "docs = users_ref.stream()\n",
    "\n",
    "for doc in docs:\n",
    "    current = doc.to_dict()\n",
    "    examples.append(current['data'])\n",
    "    labels.append([1, 0] if current['label'] == '0' else [0, 1])"
   ]
  },
  {
   "cell_type": "code",
   "execution_count": 19,
   "metadata": {},
   "outputs": [],
   "source": [
    "examples = np.array(examples)\n",
    "labels = np.array(labels)"
   ]
  },
  {
   "cell_type": "code",
   "execution_count": 39,
   "metadata": {},
   "outputs": [],
   "source": [
    "model = tf.keras.Sequential([tf.keras.layers.Dense(100, 'relu'),\n",
    "                             tf.keras.layers.Dropout(0.2),\n",
    "                             tf.keras.layers.Dense(100, 'relu'),\n",
    "                             tf.keras.layers.Dense(2)])\n",
    "\n",
    "loss_fn = tf.keras.losses.BinaryCrossentropy()\n",
    "\n",
    "model.compile(optimizer='adam',\n",
    "              loss=loss_fn,\n",
    "              metrics=['accuracy'])"
   ]
  },
  {
   "cell_type": "code",
   "execution_count": 40,
   "metadata": {},
   "outputs": [
    {
     "name": "stdout",
     "output_type": "stream",
     "text": [
      "Epoch 1/10\n",
      "14/14 [==============================] - 0s 855us/step - loss: 1.7610 - accuracy: 0.6429\n",
      "Epoch 2/10\n",
      "14/14 [==============================] - 0s 712us/step - loss: 0.5920 - accuracy: 0.8795\n",
      "Epoch 3/10\n",
      "14/14 [==============================] - 0s 784us/step - loss: 0.3899 - accuracy: 0.9040\n",
      "Epoch 4/10\n",
      "14/14 [==============================] - 0s 855us/step - loss: 0.3258 - accuracy: 0.9129\n",
      "Epoch 5/10\n",
      "14/14 [==============================] - 0s 784us/step - loss: 0.2727 - accuracy: 0.9487\n",
      "Epoch 6/10\n",
      "14/14 [==============================] - 0s 784us/step - loss: 0.2653 - accuracy: 0.9353\n",
      "Epoch 7/10\n",
      "14/14 [==============================] - 0s 783us/step - loss: 0.2134 - accuracy: 0.9554\n",
      "Epoch 8/10\n",
      "14/14 [==============================] - 0s 712us/step - loss: 0.1755 - accuracy: 0.9621\n",
      "Epoch 9/10\n",
      "14/14 [==============================] - 0s 784us/step - loss: 0.1655 - accuracy: 0.9665\n",
      "Epoch 10/10\n",
      "14/14 [==============================] - 0s 784us/step - loss: 0.1735 - accuracy: 0.9665\n"
     ]
    },
    {
     "data": {
      "text/plain": [
       "<tensorflow.python.keras.callbacks.History at 0x2e7cbbaa730>"
      ]
     },
     "execution_count": 40,
     "metadata": {},
     "output_type": "execute_result"
    }
   ],
   "source": [
    "model.fit(examples, labels, epochs=10, batch_size=32)"
   ]
  },
  {
   "cell_type": "code",
   "execution_count": 123,
   "metadata": {},
   "outputs": [
    {
     "name": "stdout",
     "output_type": "stream",
     "text": [
      "Actual label: 0\n",
      "Predicted label: [[ 2.1367118 -0.9827288]]\n"
     ]
    },
    {
     "data": {
      "image/png": "[encoded data removed]",
      "text/plain": [
       "<Figure size 432x288 with 1 Axes>"
      ]
     },
     "metadata": {
      "needs_background": "light"
     },
     "output_type": "display_data"
    }
   ],
   "source": [
    "n = np.random.randint(len(labels))\n",
    "ex = examples[n]\n",
    "\n",
    "plt.imshow(ex.reshape(20, 20))\n",
    "print(f\"Actual label: {labels[n][1]}\")\n",
    "prediction = model.predict(ex[np.newaxis ,...])\n",
    "print(f\"Predicted label: {prediction}\")"
   ]
  },
  {
   "cell_type": "code",
   "execution_count": 126,
   "metadata": {},
   "outputs": [
    {
     "name": "stderr",
     "output_type": "stream",
     "text": [
      "C:\\Users\\kipr\\AppData\\Roaming\\Python\\Python38\\site-packages\\tensorflowjs\\converters\\keras_h5_conversion.py:123: H5pyDeprecationWarning: The default file mode will change to 'r' (read-only) in h5py 3.0. To suppress this warning, pass the mode you need to h5py.File(), or set the global default h5.get_config().default_file_mode, or set the environment variable H5PY_DEFAULT_READONLY=1. Available modes are: 'r', 'r+', 'w', 'w-'/'x', 'a'. See the docs for details.\n",
      "  return h5py.File(h5file)\n"
     ]
    }
   ],
   "source": [
    "\n",
    "import tensorflowjs as tfjs\n",
    "\n",
    "tfjs.converters.save_keras_model(model, \"C:/Users/kipr/Downloads/\")"
   ]
  }
 ],
 "metadata": {
  "kernelspec": {
   "display_name": "Python 3",
   "language": "python",
   "name": "python3"
  },
  "language_info": {
   "codemirror_mode": {
    "name": "ipython",
    "version": 3
   },
   "file_extension": ".py",
   "mimetype": "text/x-python",
   "name": "python",
   "nbconvert_exporter": "python",
   "pygments_lexer": "ipython3",
   "version": "3.8.2"
  }
 },
 "nbformat": 4,
 "nbformat_minor": 4
}
