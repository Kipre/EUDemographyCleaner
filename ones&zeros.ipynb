{
 "cells": [
  {
   "cell_type": "code",
   "execution_count": 1,
   "metadata": {},
   "outputs": [],
   "source": [
    "import pandas as pd\n",
    "import tensorflow as tf\n",
    "import numpy as np\n",
    "import matplotlib.pyplot as plt\n",
    "import tensorflowjs as tfjs\n",
    "\n",
    "\n",
    "import firebase_admin\n",
    "from firebase_admin import credentials\n",
    "from firebase_admin import firestore"
   ]
  },
  {
   "cell_type": "code",
   "execution_count": 2,
   "metadata": {},
   "outputs": [],
   "source": [
    "cred = credentials.Certificate(\"C:/Users/kipr/Downloads/surf-16cf2-firebase-adminsdk-l3b7y-a9b657bdb9.json\")\n",
    "firebase_admin.initialize_app(cred, {\n",
    "  'projectId': 'surf-16cf2',\n",
    "})\n",
    "\n",
    "db = firestore.client()"
   ]
  },
  {
   "cell_type": "code",
   "execution_count": 13,
   "metadata": {},
   "outputs": [],
   "source": [
    "examples = []\n",
    "labels = []\n",
    "\n",
    "users_ref = db.collection(u'dataset')\n",
    "docs = users_ref.stream()\n",
    "\n",
    "for doc in docs:\n",
    "    current = doc.to_dict()\n",
    "    examples.append(current['data'])\n",
    "    labels.append([1, 0] if current['label'] == '0' else [0, 1])"
   ]
  },
  {
   "cell_type": "code",
   "execution_count": 19,
   "metadata": {},
   "outputs": [],
   "source": [
    "examples = np.array(examples)\n",
    "labels = np.array(labels)"
   ]
  },
  {
   "cell_type": "code",
   "execution_count": 127,
   "metadata": {},
   "outputs": [],
   "source": [
    "model = tf.keras.Sequential([tf.keras.layers.Dense(100, 'relu'),\n",
    "                             tf.keras.layers.Dropout(0.2),\n",
    "                             tf.keras.layers.Dense(100, 'relu'),\n",
    "                             tf.keras.layers.Dense(2)])\n",
    "\n",
    "loss_fn = tf.keras.losses.BinaryCrossentropy()\n",
    "\n",
    "model.compile(optimizer='adam',\n",
    "              loss=loss_fn,\n",
    "              metrics=['accuracy'])"
   ]
  },
  {
   "cell_type": "code",
   "execution_count": 128,
   "metadata": {},
   "outputs": [
    {
     "name": "stdout",
     "output_type": "stream",
     "text": [
      "Epoch 1/10\n",
      "14/14 [==============================] - 0s 995us/step - loss: 1.7884 - accuracy: 0.7031\n",
      "Epoch 2/10\n",
      "14/14 [==============================] - 0s 783us/step - loss: 0.4795 - accuracy: 0.8594\n",
      "Epoch 3/10\n",
      "14/14 [==============================] - 0s 855us/step - loss: 0.4583 - accuracy: 0.8795\n",
      "Epoch 4/10\n",
      "14/14 [==============================] - 0s 784us/step - loss: 0.3527 - accuracy: 0.9330\n",
      "Epoch 5/10\n",
      "14/14 [==============================] - 0s 783us/step - loss: 0.2974 - accuracy: 0.9420\n",
      "Epoch 6/10\n",
      "14/14 [==============================] - 0s 784us/step - loss: 0.2945 - accuracy: 0.9464\n",
      "Epoch 7/10\n",
      "14/14 [==============================] - 0s 855us/step - loss: 0.2087 - accuracy: 0.9509\n",
      "Epoch 8/10\n",
      "14/14 [==============================] - 0s 784us/step - loss: 0.1878 - accuracy: 0.9576\n",
      "Epoch 9/10\n",
      "14/14 [==============================] - 0s 784us/step - loss: 0.1856 - accuracy: 0.9688\n",
      "Epoch 10/10\n",
      "14/14 [==============================] - 0s 712us/step - loss: 0.1459 - accuracy: 0.9710\n"
     ]
    },
    {
     "data": {
      "text/plain": [
       "<tensorflow.python.keras.callbacks.History at 0x2e7cb8c96a0>"
      ]
     },
     "execution_count": 128,
     "metadata": {},
     "output_type": "execute_result"
    }
   ],
   "source": [
    "model.fit(examples, labels, epochs=10, batch_size=32)"
   ]
  },
  {
   "cell_type": "code",
   "execution_count": 129,
   "metadata": {},
   "outputs": [
    {
     "name": "stdout",
     "output_type": "stream",
     "text": [
      "Actual label: 1\n",
      "Predicted label: [[-0.12393065  1.0098512 ]]\n"
     ]
    },
    {
     "data": {
      "image/png": "[encoded data removed]",
      "text/plain": [
       "<Figure size 432x288 with 1 Axes>"
      ]
     },
     "metadata": {
      "needs_background": "light"
     },
     "output_type": "display_data"
    }
   ],
   "source": [
    "n = np.random.randint(len(labels))\n",
    "ex = examples[n]\n",
    "\n",
    "plt.imshow(ex.reshape(20, 20))\n",
    "print(f\"Actual label: {labels[n][1]}\")\n",
    "prediction = model.predict(ex[np.newaxis ,...])\n",
    "print(f\"Predicted label: {prediction}\")"
   ]
  },
  {
   "cell_type": "code",
   "execution_count": 130,
   "metadata": {},
   "outputs": [],
   "source": [
    "tfjs.converters.save_keras_model(model, \"C:/Users/kipr/Downloads/\")"
   ]
  }
 ],
 "metadata": {
  "kernelspec": {
   "display_name": "Python 3",
   "language": "python",
   "name": "python3"
  },
  "language_info": {
   "codemirror_mode": {
    "name": "ipython",
    "version": 3
   },
   "file_extension": ".py",
   "mimetype": "text/x-python",
   "name": "python",
   "nbconvert_exporter": "python",
   "pygments_lexer": "ipython3",
   "version": "3.8.2"
  }
 },
 "nbformat": 4,
 "nbformat_minor": 4
}
