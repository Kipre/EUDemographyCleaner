{
 "cells": [
  {
   "cell_type": "code",
   "execution_count": 2,
   "metadata": {},
   "outputs": [],
   "source": [
    "import pymongo"
   ]
  },
  {
   "cell_type": "code",
   "execution_count": 3,
   "metadata": {},
   "outputs": [],
   "source": [
    "from pymongo import MongoClient\n",
    "client = MongoClient('mongodb://localhost:27017/')"
   ]
  },
  {
   "cell_type": "code",
   "execution_count": 4,
   "metadata": {},
   "outputs": [],
   "source": [
    "db = client.EUDemographics"
   ]
  },
  {
   "cell_type": "code",
   "execution_count": 5,
   "metadata": {
    "scrolled": true
   },
   "outputs": [
    {
     "name": "stderr",
     "output_type": "stream",
     "text": [
      "C:\\Users\\admin\\Anaconda3\\lib\\site-packages\\ipykernel_launcher.py:1: DeprecationWarning: update is deprecated. Use replace_one, update_one or update_many instead.\n",
      "  \"\"\"Entry point for launching an IPython kernel.\n",
      "C:\\Users\\admin\\Anaconda3\\lib\\site-packages\\ipykernel_launcher.py:2: DeprecationWarning: update is deprecated. Use replace_one, update_one or update_many instead.\n",
      "  \n",
      "C:\\Users\\admin\\Anaconda3\\lib\\site-packages\\ipykernel_launcher.py:3: DeprecationWarning: update is deprecated. Use replace_one, update_one or update_many instead.\n",
      "  This is separate from the ipykernel package so we can avoid doing imports until\n",
      "C:\\Users\\admin\\Anaconda3\\lib\\site-packages\\ipykernel_launcher.py:4: DeprecationWarning: update is deprecated. Use replace_one, update_one or update_many instead.\n",
      "  after removing the cwd from sys.path.\n"
     ]
    },
    {
     "data": {
      "text/plain": [
       "{'n': 248, 'nModified': 248, 'ok': 1.0, 'updatedExisting': True}"
      ]
     },
     "execution_count": 5,
     "metadata": {},
     "output_type": "execute_result"
    }
   ],
   "source": [
    "db.countries.update({}, {'$unset': {'intermediate-region-code':1}} , multi=True)\n",
    "db.countries.update({}, {'$unset': {'iso_3166-2':1}} , multi=True)\n",
    "db.countries.update({}, {'$unset': {'intermediate-region':1}} , multi=True)\n",
    "db.countries.update({}, {'$unset': {'sub-region-code':1}} , multi=True)"
   ]
  },
  {
   "cell_type": "code",
   "execution_count": 33,
   "metadata": {},
   "outputs": [
    {
     "name": "stdout",
     "output_type": "stream",
     "text": [
      "0.5185185185185185\n"
     ]
    }
   ],
   "source": [
    "from difflib import SequenceMatcher\n",
    "\n",
    "def similar(a, b):\n",
    "    return SequenceMatcher(None, a.lower(), b.lower()).ratio()\n",
    "\n",
    "print(similar(\"United states\", \"united kingdom\"))"
   ]
  },
  {
   "cell_type": "code",
   "execution_count": 173,
   "metadata": {},
   "outputs": [],
   "source": [
    "def find_country_code(name):\n",
    "    db = client.EUDemographics\n",
    "    countries = db.countries.find({})\n",
    "    distances = []\n",
    "    for post in countries:\n",
    "        predistances = []\n",
    "        predistances.append(similar(post['name'],name))\n",
    "        predistances.append(similar(post['alpha-2'],name))\n",
    "        predistances.append(similar(post['alpha-3'],name))\n",
    "        alternatives = post.get('alternative_names')\n",
    "        if alternatives:\n",
    "            for nom in post.get('alternative_names'):\n",
    "                predistances.append(similar(nom,name))\n",
    "        distances.append([max(predistances),post['alpha-2'],post['name']])\n",
    "    f = sorted(distances,key=lambda x: (x[0],x[1]))[-1]\n",
    "    if f[0] > 0.95:\n",
    "        return f[1], f[2]\n",
    "    else :\n",
    "        response = input(str(f[1]) +  \" \" + str(f[2]) + \" =? \" + name + '\\n')\n",
    "        if response == 'y':\n",
    "            db.countries.update_one({\"alpha-2\" : f[1]}, {\"$addToSet\" :{\"alternative_names\" : name}})\n",
    "            return f[1], f[2]\n",
    "        elif response == 'n':\n",
    "            return 'delete',0\n",
    "        else:\n",
    "            db.countries.update_one({\"alpha-2\" : response}, {\"$addToSet\" :{\"alternative_names\" : name}})\n",
    "            return response, db.countries.find_one({\"alpha-2\" : response})['name']\n",
    "            \n",
    "    "
   ]
  },
  {
   "cell_type": "code",
   "execution_count": 183,
   "metadata": {},
   "outputs": [],
   "source": [
    "import re\n",
    "\n",
    "collections = ['alcohol', 'average_income', 'child_mortality', 'criminality', 'smokers', 'social_protection' \n",
    "               'divorce', 'female_school_achievement', 'fertility', 'first_maternity', \n",
    "               'life_expectancy', 'purchasing_power', 'teen_mothers', 'unemployement']\n",
    "\n",
    "def clean_collection(collection):\n",
    "    documents = db[collection].find({})\n",
    "    for document in documents:\n",
    "        print(document['country'])\n",
    "        field = list(document.keys())\n",
    "        for key in ['_id', 'country', 'alpha-2']:\n",
    "            if key in field: field.remove(key)\n",
    "        assert(len(field) == 1)\n",
    "        field = field[0]\n",
    "        initial_country = document['country']\n",
    "        dirty_value = ''.join(document[field].split())\n",
    "        dirty_value = re.findall(r\"[-+]?\\d*\\.\\d+|\\d+\", dirty_value)\n",
    "        print(dirty_value)\n",
    "        iso, country = find_country_code(initial_country)\n",
    "        if len(dirty_value) == 0 or iso == \"delete\":\n",
    "            db[collection].delete_one({\"country\": initial_country})\n",
    "            print(\"Missing value deleted\")\n",
    "        else:\n",
    "            value = float(dirty_value[0])\n",
    "            db[collection].update_one({\"country\":initial_country},{\"$set\" :{\"country\":country,\"alpha-2\":iso,field:value}})\n",
    "    \n"
   ]
  },
  {
   "cell_type": "code",
   "execution_count": 184,
   "metadata": {},
   "outputs": [
    {
     "name": "stdout",
     "output_type": "stream",
     "text": [
      "Norvège\n",
      "['6865']\n",
      "Suisse\n",
      "['6770']\n",
      "Luxembourg\n",
      "['5965']\n",
      "Danemark\n",
      "['4751']\n",
      "États-Unis\n",
      "['4734']\n",
      "Islande\n",
      "['4732']\n",
      "Suède\n",
      "['4540']\n",
      "Australie\n",
      "['4519']\n",
      "Irlande\n",
      "['4334']\n",
      "Singapour\n",
      "['4323']\n",
      "Pays-Bas\n",
      "['3884']\n",
      "Autriche\n",
      "['3822']\n",
      "Finlande\n",
      "['3754']\n",
      "Allemagne\n",
      "['3661']\n",
      "Canada\n",
      "['3640']\n",
      "Royaume-Uni\n",
      "['3530']\n",
      "Belgique\n",
      "['3488']\n",
      "Émirats Arabes Unis\n",
      "['3373']\n",
      "Nouvelle-Zélande\n",
      "['3228']\n",
      "France\n",
      "['3226']\n",
      "Japon\n",
      "['3160']\n",
      "Koweït\n",
      "['2907']\n",
      "Brunei\n",
      "['2738']\n",
      "Italie\n",
      "['2643']\n",
      "Corée du Sud\n",
      "['2300']\n",
      "Espagne\n",
      "['2298']\n",
      "Bahamas\n",
      "['2207']\n",
      "Chypre\n",
      "['2026']\n",
      "Malte\n",
      "['2015']\n",
      "Arabie Saoudite\n",
      "['1810']\n",
      "Slovénie\n",
      "['1801']\n",
      "Portugal\n",
      "['1656']\n",
      "Grèce\n",
      "['1587']\n",
      "Estonie\n",
      "['1480']\n",
      "Tchéquie\n",
      "['1460']\n",
      "Slovaquie\n",
      "['1400']\n",
      "Trinité-et-Tobago\n",
      "['1353']\n",
      "Saint-Christophe-et-Niévès\n",
      "['1307']\n",
      "Seychelles\n",
      "['1284']\n",
      "Uruguay\n",
      "['1269']\n",
      "Barbade\n",
      "['1267']\n",
      "Lituanie\n",
      "['1230']\n",
      "Lettonie\n",
      "['1214']\n",
      "Antigua-et-Barbuda\n",
      "['1130']\n",
      "Chili\n",
      "['1128']\n",
      "Pologne\n",
      "['1056']\n",
      "Hongrie\n",
      "['1047']\n",
      "Îles Palaos\n",
      "['1027']\n",
      "SV El Salvador =? Îles Palaos\n",
      "n\n",
      "Missing value deleted\n",
      "Panama\n",
      "['1011']\n",
      "Croatie\n",
      "['1010']\n",
      "\n"
     ]
    },
    {
     "ename": "AttributeError",
     "evalue": "'NoneType' object has no attribute 'split'",
     "output_type": "error",
     "traceback": [
      "\u001b[1;31m---------------------------------------------------------------------------\u001b[0m",
      "\u001b[1;31mAttributeError\u001b[0m                            Traceback (most recent call last)",
      "\u001b[1;32m<ipython-input-184-03099f16715e>\u001b[0m in \u001b[0;36m<module>\u001b[1;34m()\u001b[0m\n\u001b[1;32m----> 1\u001b[1;33m \u001b[0mclean_collection\u001b[0m\u001b[1;33m(\u001b[0m\u001b[1;34m\"average_income\"\u001b[0m\u001b[1;33m)\u001b[0m\u001b[1;33m\u001b[0m\u001b[0m\n\u001b[0m",
      "\u001b[1;32m<ipython-input-183-33d2c98604ac>\u001b[0m in \u001b[0;36mclean_collection\u001b[1;34m(collection)\u001b[0m\n\u001b[0;32m     15\u001b[0m         \u001b[0mfield\u001b[0m \u001b[1;33m=\u001b[0m \u001b[0mfield\u001b[0m\u001b[1;33m[\u001b[0m\u001b[1;36m0\u001b[0m\u001b[1;33m]\u001b[0m\u001b[1;33m\u001b[0m\u001b[0m\n\u001b[0;32m     16\u001b[0m         \u001b[0minitial_country\u001b[0m \u001b[1;33m=\u001b[0m \u001b[0mdocument\u001b[0m\u001b[1;33m[\u001b[0m\u001b[1;34m'country'\u001b[0m\u001b[1;33m]\u001b[0m\u001b[1;33m\u001b[0m\u001b[0m\n\u001b[1;32m---> 17\u001b[1;33m         \u001b[0mdirty_value\u001b[0m \u001b[1;33m=\u001b[0m \u001b[1;34m''\u001b[0m\u001b[1;33m.\u001b[0m\u001b[0mjoin\u001b[0m\u001b[1;33m(\u001b[0m\u001b[0mdocument\u001b[0m\u001b[1;33m[\u001b[0m\u001b[0mfield\u001b[0m\u001b[1;33m]\u001b[0m\u001b[1;33m.\u001b[0m\u001b[0msplit\u001b[0m\u001b[1;33m(\u001b[0m\u001b[1;33m)\u001b[0m\u001b[1;33m)\u001b[0m\u001b[1;33m\u001b[0m\u001b[0m\n\u001b[0m\u001b[0;32m     18\u001b[0m         \u001b[0mdirty_value\u001b[0m \u001b[1;33m=\u001b[0m \u001b[0mre\u001b[0m\u001b[1;33m.\u001b[0m\u001b[0mfindall\u001b[0m\u001b[1;33m(\u001b[0m\u001b[1;34mr\"[-+]?\\d*\\.\\d+|\\d+\"\u001b[0m\u001b[1;33m,\u001b[0m \u001b[0mdirty_value\u001b[0m\u001b[1;33m)\u001b[0m\u001b[1;33m\u001b[0m\u001b[0m\n\u001b[0;32m     19\u001b[0m         \u001b[0mprint\u001b[0m\u001b[1;33m(\u001b[0m\u001b[0mdirty_value\u001b[0m\u001b[1;33m)\u001b[0m\u001b[1;33m\u001b[0m\u001b[0m\n",
      "\u001b[1;31mAttributeError\u001b[0m: 'NoneType' object has no attribute 'split'"
     ]
    }
   ],
   "source": [
    "clean_collection(\"average_income\")"
   ]
  }
 ],
 "metadata": {
  "kernelspec": {
   "display_name": "Python 3",
   "language": "python",
   "name": "python3"
  },
  "language_info": {
   "codemirror_mode": {
    "name": "ipython",
    "version": 3
   },
   "file_extension": ".py",
   "mimetype": "text/x-python",
   "name": "python",
   "nbconvert_exporter": "python",
   "pygments_lexer": "ipython3",
   "version": "3.6.5"
  }
 },
 "nbformat": 4,
 "nbformat_minor": 2
}
