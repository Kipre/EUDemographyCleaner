{
 "cells": [
  {
   "cell_type": "markdown",
   "metadata": {},
   "source": [
    "## Resumé de l'algo\n",
    "\n",
    "Je te mets ici quelqes explications pous si jamais, et [là t'as l'article original](https://www.pnas.org/content/113/15/3932).\n",
    "\n",
    "#### 1. Make two matrices \n",
    "<!-- Let's say that we have observed the system at $t_1, t_2, ..., t_m$ and either observed or numerically computed its time derivative at those time points, then we can construct the two following matrices: -->\n",
    "\n",
    "$$\\dot{X} = \n",
    "\\begin{bmatrix}\n",
    "\\dot{x}(t_1) \\\\\n",
    "\\dot{x}(t_2) \\\\\n",
    "\\vdots \\\\\n",
    "\\dot{x}(t_m)\n",
    "\\end{bmatrix}\n",
    "\\text{ and }\n",
    "X = \n",
    "\\begin{bmatrix}\n",
    "x(t_1) \\\\\n",
    "x(t_2) \\\\\n",
    "\\vdots \\\\\n",
    "x(t_m)\n",
    "\\end{bmatrix}\n",
    "$$\n",
    "\n",
    "#### 2. Augment the state matrix\n",
    "<!-- And then we can augment the $X$ matrix with the candidate functions $f_1, f_2, \\dots, f_p$ this will yield $\\theta(X)$: -->\n",
    "$$\\theta(X) = \n",
    "\\begin{bmatrix}\n",
    "f_1(x(t_1)) & f_2(x(t_1)) & \\cdots & f_p(x(t_1))\\\\\n",
    "f_1(x(t_2)) & f_2(x(t_2)) & \\cdots & f_p(x(t_2))\\\\\n",
    "\\vdots & \\vdots  & \\ddots & \\vdots\\\\\n",
    "f_1(x(t_m)) & f_2(x(t_m)) & \\cdots & f_p(x(t_m))\\\\\n",
    "\\end{bmatrix}\n",
    "=\n",
    "\\begin{bmatrix}\n",
    "1 & x(t_1) & x(t_1)^2 & \\cdots & x(t_1)^n\\\\\n",
    "1 & x(t_2) & x(t_2)^2 & \\cdots & x(t_2)^n\\\\\n",
    "\\vdots & \\vdots  & \\vdots  & \\ddots & \\vdots\\\\\n",
    "1 & x(t_m) & x(t_m)^2 & \\cdots & x(t_m)^n\\\\\n",
    "\\end{bmatrix}\n",
    "$$\n",
    "\n",
    "La derniere matrice c'est que dans le cas ou t'as un etat scalaire, si il a plus d'une variable in faudrait considerer tout les termes possibles.\n",
    "\n",
    "#### 3. Solve the linear least squares\n",
    "\n",
    "Now we want to find a matrix $\\xi$ that is a solution to:\n",
    "\n",
    "$$\\hat{\\xi} = argmin_\\xi || \\dot{X} - \\theta(X)\\xi ||_2^2$$\n",
    "\n",
    "in the least squares sense. The sparsity is achieved by running the optimization several times and gradually zeroing out the values that are under a cut-off value.\n",
    "\n",
    "#### Remarque\n",
    "\n",
    "Tout ça marche aussi bien si tu mets l'etat suivant au lieu de la dérivée, pour une time-series $x_1, x_2, ... x_m$:\n",
    "\n",
    "$$X_1 = \n",
    "\\begin{bmatrix}\n",
    "x_1 \\\\\n",
    "x_2 \\\\\n",
    "\\vdots \\\\\n",
    "x_{m-1}\n",
    "\\end{bmatrix}\n",
    "\\text{ and }\n",
    "X_2 = \n",
    "\\begin{bmatrix}\n",
    "x_2 \\\\\n",
    "x_3 \\\\\n",
    "\\vdots \\\\\n",
    "x_m\n",
    "\\end{bmatrix}\n",
    "$$\n",
    "\n",
    "ce qui evite de calculer numériquement la dérivée et d'introduire de l'erreur supplémentaire. Du coup tu cherches:\n",
    "\n",
    "$$\\hat{\\xi} = argmin_\\xi || X_2 - \\theta(X_1)\\xi ||_2^2$$\n"
   ]
  },
  {
   "cell_type": "code",
   "execution_count": 1,
   "metadata": {},
   "outputs": [],
   "source": [
    "import pandas as pd\n",
    "import numpy as np\n",
    "import matplotlib.pyplot as plt\n",
    "\n",
    "# imports locaux\n",
    "import codebase\n",
    "from codebase.sparse_regression import *\n",
    "from codebase.utils import *"
   ]
  },
  {
   "cell_type": "code",
   "execution_count": 4,
   "metadata": {},
   "outputs": [
    {
     "data": {
      "image/png": "[encoded data removed]",
      "text/plain": [
       "<Figure size 432x288 with 1 Axes>"
      ]
     },
     "metadata": {
      "needs_background": "light"
     },
     "output_type": "display_data"
    }
   ],
   "source": [
    "# une classe qui nous aide a acceder aux differentes donnes du COVID\n",
    "ds = CountryDataset()\n",
    "\n",
    "# par exemple si on veut le numbre de cas cumulatifs pour un pays:\n",
    "country_data = ds.cumulative('Austria')\n",
    "plt.plot(country_data, 'k.')\n",
    "plt.show()"
   ]
  },
  {
   "cell_type": "markdown",
   "metadata": {},
   "source": [
    "Maintenant qu'on a les donées on peut commencer par faire un fitting tout simple"
   ]
  },
  {
   "cell_type": "code",
   "execution_count": 6,
   "metadata": {},
   "outputs": [
    {
     "data": {
      "text/markdown": [
       "| function   |   $x_{k+1}$ |\n",
       "|:-----------|------------:|\n",
       "| $1$        |    0        |\n",
       "| $ x$       |    1.31965  |\n",
       "| $ x^2$     |   -0.382343 |\n",
       "| $ x^3$     |    0.115088 |"
      ],
      "text/plain": [
       "<IPython.core.display.Markdown object>"
      ]
     },
     "metadata": {},
     "output_type": "display_data"
    }
   ],
   "source": [
    "rescaling = 10000  # il faut rendre les chiffres plus petits sinon ça ne marche pas\n",
    "\n",
    "country_data = country_data.reshape(-1, 1)/rescaling # toutes mes methodes s'attendent a des vecteurs colonnes\n",
    "\n",
    "# on fait les deux matrices\n",
    "targets, states = country_data[1:], country_data[:-1]\n",
    "\n",
    "# on augmente l'etat avec des termes polynomiaux\n",
    "augmented, _ = make_polynomials(states, max_degree=3)\n",
    "\n",
    "# on execute l'algo\n",
    "weights, _ = sparse_regression(augmented, targets, cutoff=1e-4)\n",
    "\n",
    "show_weights(weights)"
   ]
  },
  {
   "cell_type": "markdown",
   "metadata": {},
   "source": [
    "Maintenant on peut integrer la solution"
   ]
  },
  {
   "cell_type": "code",
   "execution_count": 9,
   "metadata": {},
   "outputs": [
    {
     "data": {
      "image/png": "[encoded data removed]",
      "text/plain": [
       "<Figure size 432x288 with 1 Axes>"
      ]
     },
     "metadata": {
      "needs_background": "light"
     },
     "output_type": "display_data"
    }
   ],
   "source": [
    "t = range(len(country_data))\n",
    "\n",
    "guess = integrate(weights, [0.1], t)\n",
    "\n",
    "plt.plot(country_data*rescaling, 'k.')\n",
    "plt.plot(guess*rescaling)\n",
    "plt.show()"
   ]
  }
 ],
 "metadata": {
  "kernelspec": {
   "display_name": "Python 3",
   "language": "python",
   "name": "python3"
  },
  "language_info": {
   "codemirror_mode": {
    "name": "ipython",
    "version": 3
   },
   "file_extension": ".py",
   "mimetype": "text/x-python",
   "name": "python",
   "nbconvert_exporter": "python",
   "pygments_lexer": "ipython3",
   "version": "3.8.2"
  }
 },
 "nbformat": 4,
 "nbformat_minor": 4
}
