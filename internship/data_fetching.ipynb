{
 "cells": [
  {
   "cell_type": "code",
   "execution_count": null,
   "metadata": {},
   "outputs": [],
   "source": [
    "import requests\n",
    "import json\n",
    "\n",
    "isos = \";\".join([iso.lower() for _, iso in countries.items()][:-1])\n",
    "\n",
    "indicators_description = {'SH.MED.BEDS.ZS': 'Hospital beds (per 1,000 people)',\n",
    "                         'SH.MED.PHYS.ZS': 'Physicians (per 1,000 people)',\n",
    "                         'SH.MED.NUMW.P3': 'Nurses and midwives (per 1,000 people)',\n",
    "                         'SH.UHC.SRVS.CV.XD': 'UHC service coverage index',\n",
    "                         'SH.XPD.CHEX.GD.ZS': 'Current health expenditure (% of GDP)',\n",
    "                         'SH.XPD.CHEX.PC.CD': 'Current health expenditure per capita (current US$)',\n",
    "                         'SH.XPD.CHEX.PP.CD': 'Current health expenditure per capita, PPP (current international $)',\n",
    "                         'SH.XPD.OOPC.CH.ZS': 'Out-of-pocket expenditure (% of current health expenditure)',\n",
    "                         'SH.XPD.OOPC.PC.CD': 'Out-of-pocket expenditure per capita (current US$)',\n",
    "                         'SH.XPD.OOPC.PP.CD': 'Out-of-pocket expenditure per capita, PPP (current international $)',\n",
    "                         'SH.STA.DIAB.ZS': 'Diabetes prevalence (% of population ages 20 to 79)',\n",
    "                         'SP.DYN.LE00.FE.IN': 'Life expectancy at birth, female (years)',\n",
    "                         'SP.DYN.LE00.IN': 'Life expectancy at birth, total (years)',\n",
    "                         'SP.DYN.LE00.MA.IN': 'Life expectancy at birth, male (years)',\n",
    "                         'SP.DYN.AMRT.FE': 'Mortality rate, adult, female (per 1,000 female adults)',\n",
    "                         'SP.DYN.AMRT.MA': 'Mortality rate, adult, male (per 1,000 male adults)',\n",
    "                         'SH.DYN.NCOM.ZS': 'Mortality from CVD, cancer, diabetes or CRD between exact ages 30 and 70 (%)',\n",
    "                         'SH.DYN.NCOM.FE.ZS': 'Mortality from CVD, cancer, diabetes or CRD between exact ages 30 and 70, female (%)',\n",
    "                         'SH.DYN.NCOM.MA.ZS': 'Mortality from CVD, cancer, diabetes or CRD between exact ages 30 and 70, male (%)',\n",
    "                         'SH.DTH.COMM.ZS': 'Cause of death, by communicable diseases and maternal, prenatal and nutrition conditions (% of total)',\n",
    "                         'SH.DTH.INJR.ZS': 'Cause of death, by injury (% of total)',\n",
    "                         'SH.DTH.NCOM.ZS': 'Cause of death, by non-communicable diseases (% of total)',\n",
    "                         'SH.H2O.BASW.ZS': 'People using at least basic drinking water services (% of population)',\n",
    "                         'SH.STA.BASS.ZS': 'People using at least basic sanitation services (% of population)',\n",
    "                         'SP.POP.80UP.FE.5Y': 'Population ages 80 and above, female (% of female population)',\n",
    "                         'SP.POP.80UP.MA.5Y': 'Population ages 80 and above, male (% of male population)',\n",
    "                         'SP.POP.65UP.FE.ZS': 'Population ages 65 and above, female (% of total)',\n",
    "                         'SP.POP.65UP.MA.ZS': 'Population ages 65 and above, male (% of total)',\n",
    "                         'SP.POP.65UP.TO.ZS': 'Population ages 65 and above (% of total)',\n",
    "                         'SP.POP.0014.FE.ZS': 'Population ages 0-14, female (% of female population)',\n",
    "                         'SP.POP.0014.MA.ZS': 'Population ages 0-14, male (% of male population)',\n",
    "                         'SP.POP.0014.TO.ZS': 'Population ages 0-14 (% of total population)',\n",
    "                         'SP.POP.1564.FE.ZS': 'Population ages 15-64, female (% of female population)',\n",
    "                         'SP.POP.1564.MA.ZS': 'Population ages 15-64, male (% of male population)',\n",
    "                         'SP.POP.1564.TO.ZS': 'Population ages 15-64 (% of total population)',\n",
    "                         'SP.POP.TOTL': 'Total population'}\n",
    "\n",
    "indicators = indicators_description.keys()\n",
    "\n",
    "result = {country: [] for _, country in countries.items()}\n",
    "for indicator in tqdm(indicators):\n",
    "    URL = f\"https://api.worldbank.org/v2/country/{isos}/indicators/{indicator}\"\n",
    "    PARAMS = {'mrnev':1, 'format':'json', 'per_page': 150}\n",
    "    try:\n",
    "        r = requests.get(url=URL, params=PARAMS)\n",
    "        done = []\n",
    "#         missing = []\n",
    "        for country in r.json()[1]:\n",
    "            result[country['countryiso3code']].append(country['value'])\n",
    "            done.append(country['countryiso3code'])\n",
    "        for _, country in countries.items():\n",
    "            if country not in done:\n",
    "                result[country].append(np.nan)\n",
    "#                 missing.append(country)\n",
    "#         print(indicator, missing)\n",
    "                \n",
    "    except json.JSONDecodeError:\n",
    "        print(f'Could not retreive info for indicator {indicator}')"
   ]
  },
  {
   "cell_type": "code",
   "execution_count": null,
   "metadata": {},
   "outputs": [],
   "source": [
    "hdis = {'ABW': np.nan, 'AFG': 0.496, 'AGO': 0.574, 'ALB': 0.791, 'AND': 0.857, 'ARE': 0.866, 'ARG': 0.83, 'AUS': 0.938, 'AUT': 0.914, 'AZE': 0.754, 'BDI': 0.423, 'BEL': 0.919, 'BFA': 0.434, 'BGD': 0.614, 'BGR': 0.816, 'BHR': 0.838, 'BIH': 0.769, 'BLZ': 0.72, 'BMU': np.nan, 'BOL': 0.703, 'BRA': 0.761, 'BRB': 0.813, 'BRN': 0.845, 'BWA': 0.728, 'CAN': 0.922, 'CHE': 0.946, 'CHL': 0.847, 'CHN': 0.758, 'CMR': 0.563, 'COD': 0.459, 'COL': 0.761, 'CRI': 0.794, 'CUB': 0.778, 'CYP': 0.873, 'CZE': 0.891, 'DEU': 0.939, 'DJI': 0.495, 'DNK': 0.93, 'DOM': 0.745, 'DZA': 0.759, 'ECU': 0.758, 'EGY': 0.7, 'ESP': 0.893, 'EST': 0.882, 'FIN': 0.925, 'FRA': 0.891, 'GBR': 0.92, 'GHA': 0.596, 'GMB': 0.466, 'GRC': 0.872, 'GRL': np.nan, 'GTM': 0.651, 'GUM': np.nan, 'GUY': 0.67, 'HKG': 0.939, 'HND': 0.623, 'HRV': 0.837, 'HUN': 0.845, 'IDN': 0.707, 'IND': 0.647, 'IRL': 0.942, 'IRN': 0.797, 'IRQ': 0.689, 'ISL': 0.938, 'ISR': 0.906, 'ITA': 0.883, 'JAM': 0.726, 'JOR': 0.723, 'JPN': 0.915, 'KAZ': 0.817, 'KEN': 0.579, 'KGZ': 0.674, 'KOR': 0.906, 'KWT': 0.808, 'LAO': 0.604, 'LBN': 0.73, 'LBY': 0.708, 'LKA': 0.78, 'LSO': 0.518, 'LUX': 0.909, 'MAC': np.nan, 'MAR': 0.676, 'MDG': 0.521, 'MEX': 0.767, 'MLI': 0.427, 'MMR': 0.584, 'MNG': 0.735, 'MOZ': 0.446, 'MRT': 0.527, 'MUS': 0.796, 'MWI': 0.485, 'MYS': 0.804, 'NAM': 0.645, 'NER': 0.377, 'NGA': 0.534, 'NIC': 0.651, 'NLD': 0.934, 'NOR': 0.954, 'NZL': 0.921, 'OMN': 0.834, 'PAK': 0.56, 'PAN': 0.795, 'PER': 0.759, 'PHL': 0.712, 'PNG': 0.543, 'POL': 0.872, 'PRI': np.nan, 'PRT': 0.85, 'PRY': 0.724, 'QAT': 0.848, 'ROU': 0.816, 'RUS': 0.824, 'RWA': 0.536, 'SAU': 0.857, 'SDN': 0.508, 'SGP': 0.935, 'SLE': 0.438, 'SLV': 0.667, 'SMR': np.nan, 'SRB': 0.799, 'SSD': 0.413, 'SVK': 0.857, 'SVN': 0.902, 'SWE': 0.937, 'SWZ': 0.608, 'SYC': 0.801, 'SYR': 0.549, 'TCD': 0.401, 'THA': 0.765, 'TTO': 0.799, 'TUN': 0.739, 'TUR': 0.807, 'TZA': 0.528, 'UGA': 0.528, 'UKR': 0.75, 'URY': 0.808, 'USA': 0.92, 'UZB': 0.71, 'VEN': 0.726, 'VNM': 0.693, 'ZAF': 0.705, 'ZMB': 0.591, 'ZWE': 0.563, 'TWN': np.nan, 'RKS': np.nan}\n",
    "hdi_df = pd.DataFrame.from_dict(hdis, orient='index', columns=['HDI'])\n",
    "hdi_df"
   ]
  },
  {
   "cell_type": "code",
   "execution_count": null,
   "metadata": {},
   "outputs": [],
   "source": []
  }
 ],
 "metadata": {
  "kernelspec": {
   "display_name": "Python 3",
   "language": "python",
   "name": "python3"
  },
  "language_info": {
   "codemirror_mode": {
    "name": "ipython",
    "version": 3
   },
   "file_extension": ".py",
   "mimetype": "text/x-python",
   "name": "python",
   "nbconvert_exporter": "python",
   "pygments_lexer": "ipython3",
   "version": "3.8.2"
  }
 },
 "nbformat": 4,
 "nbformat_minor": 4
}
