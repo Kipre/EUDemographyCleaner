{
 "cells": [
  {
   "cell_type": "code",
   "execution_count": 2,
   "metadata": {},
   "outputs": [],
   "source": [
    "import codebase\n",
    "from codebase.data_generation import *\n",
    "from codebase.sparse_regression import *\n",
    "from codebase.utils import *"
   ]
  },
  {
   "cell_type": "code",
   "execution_count": 3,
   "metadata": {
    "colab": {
     "base_uri": "https://localhost:8080/",
     "height": 34
    },
    "colab_type": "code",
    "id": "YesEnU49UYuF",
    "outputId": "e1f9c38c-873d-4627-b50e-5d7905569aec"
   },
   "outputs": [],
   "source": [
    "import tensorflow as tf\n",
    "from scipy.io import loadmat\n",
    "import numpy as np\n",
    "import matplotlib.pyplot as plt\n",
    "from itertools import combinations_with_replacement\n",
    "from tabulate import tabulate\n",
    "from mpl_toolkits.mplot3d import Axes3D"
   ]
  },
  {
   "cell_type": "code",
   "execution_count": 4,
   "metadata": {
    "colab": {},
    "colab_type": "code",
    "id": "e1tDvBy7UYuS"
   },
   "outputs": [],
   "source": [
    "py_data = loadmat('data/py_odes.mat')"
   ]
  },
  {
   "cell_type": "code",
   "execution_count": 31,
   "metadata": {
    "colab": {
     "base_uri": "https://localhost:8080/",
     "height": 122
    },
    "colab_type": "code",
    "id": "2QDxO4ZpUYua",
    "outputId": "fd80e634-efa1-40da-abb4-630fe184aa81",
    "scrolled": false
   },
   "outputs": [
    {
     "data": {
      "image/png": "[encoded data removed]",
      "text/plain": [
       "<Figure size 432x288 with 1 Axes>"
      ]
     },
     "metadata": {
      "needs_background": "light"
     },
     "output_type": "display_data"
    }
   ],
   "source": [
    "from scipy.integrate import solve_ivp\n",
    "\n",
    "def f(t, y):\n",
    "    return (y - y**2)\n",
    "t = np.linspace(0, 4, 100)\n",
    "\n",
    "res = solve_ivp(f, (t[0], t[-1]), [0.01], t_eval=t)\n",
    "plt.plot(t, res['y'][0])\n",
    "plt.show()\n",
    "values = res['y'][0].reshape(-1, 1)"
   ]
  },
  {
   "cell_type": "code",
   "execution_count": 35,
   "metadata": {},
   "outputs": [],
   "source": [
    "functions = {}"
   ]
  },
  {
   "cell_type": "code",
   "execution_count": 36,
   "metadata": {
    "colab": {
     "base_uri": "https://localhost:8080/",
     "height": 439
    },
    "colab_type": "code",
    "id": "c_3cOoJlUYuk",
    "outputId": "42486bf4-20a1-4d66-ebed-9a08ae7d73a8",
    "scrolled": true
   },
   "outputs": [
    {
     "name": "stdout",
     "output_type": "stream",
     "text": [
      "mse=2.6236298467097185e-08\n"
     ]
    },
    {
     "data": {
      "text/markdown": [
       "| function   |   $\\dot{x}$ |\n",
       "|:-----------|------------:|\n",
       "| $1$        |    0        |\n",
       "| $ x$       |    0.996103 |\n",
       "| $ x^2$     |   -0.945821 |\n",
       "| $ x^3$     |   -0.128079 |"
      ],
      "text/plain": [
       "<IPython.core.display.Markdown object>"
      ]
     },
     "metadata": {},
     "output_type": "display_data"
    }
   ],
   "source": [
    "targets, m = make_targets(values, derivative=(derivative:=True))\n",
    "targets /= t[1]\n",
    "augmented, _ = make_polynomials(m, 3, functions=functions)\n",
    "weights, _ = sparse_regression(augmented, targets, cutoff=1e-2)\n",
    "\n",
    "print(f'mse={((targets - tf.matmul(augmented, weights))**2).numpy().mean()}')\n",
    "show_weights(weights, derivative=derivative, variables=['1', 'x'], functions=functions, max_degree=3)"
   ]
  },
  {
   "cell_type": "code",
   "execution_count": 30,
   "metadata": {},
   "outputs": [
    {
     "data": {
      "image/png": "[encoded data removed]",
      "text/plain": [
       "<Figure size 432x288 with 1 Axes>"
      ]
     },
     "metadata": {
      "needs_background": "light"
     },
     "output_type": "display_data"
    }
   ],
   "source": [
    "guess = ivp_integrate(weights, [0.01], t)\n",
    "\n",
    "plt.plot(t, guess.T)\n",
    "plt.show()"
   ]
  },
  {
   "cell_type": "code",
   "execution_count": 23,
   "metadata": {},
   "outputs": [],
   "source": [
    "from itertools import product\n",
    "def make_polynomials(data, max_degree=3, functions={}):\n",
    "    \"\"\"Returns the augmented array and the number of transformations\"\"\"\n",
    "    def handle_row(example, nb_variables):\n",
    "        row = []\n",
    "        example = np.concatenate([[1], example.reshape(-1)])\n",
    "        for indexes in combinations_with_replacement(range(nb_variables + 1), max_degree):\n",
    "            product = np.take(example, indexes).prod()\n",
    "            row.append(product)\n",
    "        for name, function in functions.items():\n",
    "            for var in example[1:].reshape(-1):\n",
    "                row.append(function(var))\n",
    "        return row\n",
    "\n",
    "    if len(data.shape) == 2:\n",
    "        nb_variables = data.shape[1]\n",
    "        result = []\n",
    "        for example in data:\n",
    "            result.append(handle_row(example, nb_variables))\n",
    "        return np.array(result, dtype=np.float32), len(result[-1])\n",
    "    elif len(data.shape) == 1:\n",
    "        nb_variables = data.shape[0]\n",
    "        result = handle_row(data, nb_variables)\n",
    "        return np.array(result, dtype=np.float32), len(result)\n",
    "    else:\n",
    "        raise Exception('Shape not understood')\n",
    "        \n",
    "def show_weights(weights, \n",
    "                 functions={},\n",
    "                 derivative=False, \n",
    "                 variables=None, \n",
    "                 max_degree=6, \n",
    "                 raw=False, \n",
    "                 warn=True, \n",
    "                 pde=False):\n",
    "    if not pde:\n",
    "        nb_variables = weights.shape[1]\n",
    "        if not variables:\n",
    "            variables = ['1', 'x', 'y', 'z']\n",
    "        variables = variables[:1 + nb_variables]\n",
    "    else:\n",
    "        nb_variables = weights.shape[0]\n",
    "        if not variables:\n",
    "            variables = ['1', 'u', 'u_x', 'u_{xx}', 'u_{xxx}'][:min(pde + 2, 5)]\n",
    "    candidate_functions = [reduce(name, variables) for name in combinations_with_replacement(variables, max_degree)]\n",
    "    candidate_functions += [f'${func}({variable})$' for func, variable in product(functions.keys(), variables[1:])]\n",
    "    params = [[name] + list(val)\n",
    "              for name, val in zip(candidate_functions, weights.numpy())]\n",
    "    headers = ['function'] + ['$\\dot{' + str(var) + '}$' if derivative else '$' + str(var) + '_{k+1}$'\n",
    "                              for var in variables[1:1 + nb_variables]]\n",
    "    if raw:\n",
    "        print(tabulate(params, headers=headers, tablefmt=\"pipe\"))\n",
    "    else:\n",
    "        display(Markdown(tabulate(params, headers=headers, tablefmt=\"pipe\")))"
   ]
  }
 ],
 "metadata": {
  "colab": {
   "name": "sparse_regression3",
   "provenance": []
  },
  "kernelspec": {
   "display_name": "Python 3",
   "language": "python",
   "name": "python3"
  },
  "language_info": {
   "codemirror_mode": {
    "name": "ipython",
    "version": 3
   },
   "file_extension": ".py",
   "mimetype": "text/x-python",
   "name": "python",
   "nbconvert_exporter": "python",
   "pygments_lexer": "ipython3",
   "version": "3.8.2"
  }
 },
 "nbformat": 4,
 "nbformat_minor": 1
}
