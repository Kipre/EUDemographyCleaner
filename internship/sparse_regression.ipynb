{
 "cells": [
  {
   "cell_type": "code",
   "execution_count": 1,
   "metadata": {},
   "outputs": [],
   "source": [
    "import importlib\n",
    "import codebase\n",
    "codebase = importlib.reload(codebase)\n",
    "from codebase.data_generation import *\n",
    "from codebase.sparse_regression import *\n",
    "from codebase.utils import *"
   ]
  },
  {
   "cell_type": "code",
   "execution_count": 2,
   "metadata": {
    "colab": {
     "base_uri": "https://localhost:8080/",
     "height": 34
    },
    "colab_type": "code",
    "id": "YesEnU49UYuF",
    "outputId": "e1f9c38c-873d-4627-b50e-5d7905569aec"
   },
   "outputs": [],
   "source": [
    "import tensorflow as tf\n",
    "from scipy.io import loadmat\n",
    "import numpy as np\n",
    "import matplotlib.pyplot as plt\n",
    "from itertools import combinations_with_replacement\n",
    "from tabulate import tabulate\n",
    "from mpl_toolkits.mplot3d import Axes3D"
   ]
  },
  {
   "cell_type": "code",
   "execution_count": 3,
   "metadata": {
    "colab": {},
    "colab_type": "code",
    "id": "e1tDvBy7UYuS"
   },
   "outputs": [
    {
     "data": {
      "text/plain": [
       "dict_keys(['linear_oscillator', 'cubic_oscillator', 'oscillator_3d', 'lorenz', 'mean_field', 'van_der_pol', 't'])"
      ]
     },
     "execution_count": 3,
     "metadata": {},
     "output_type": "execute_result"
    }
   ],
   "source": [
    "py_data = loadmat('data/py_odes.mat')\n",
    "oct_data = loadmat('data/oct_odes.mat')\n",
    "mult_data = loadmat('data/py_odes_mult_traj.mat')\n",
    "timestep = py_data['t'][0, 1]\n",
    "oct_data.keys()"
   ]
  },
  {
   "cell_type": "code",
   "execution_count": 5,
   "metadata": {
    "colab": {
     "base_uri": "https://localhost:8080/",
     "height": 122
    },
    "colab_type": "code",
    "id": "2QDxO4ZpUYua",
    "outputId": "fd80e634-efa1-40da-abb4-630fe184aa81",
    "scrolled": false
   },
   "outputs": [],
   "source": [
    "function = 'van_der_pol'\n",
    "\n",
    "data = mult_data[function]\n",
    "\n",
    "derivatives, dm, m = make_targets(data)\n",
    "derivatives = derivatives/timestep\n",
    "real_derivatives = np.array([functions[function](0, x) for x in m], dtype=np.float32)\n",
    "nb_variables = m.shape[1]\n",
    "variables = ['1', 'x', 'y', 'z']\n",
    "X, nb_funcs = make_polynomials(m, max_degree=5)"
   ]
  },
  {
   "cell_type": "code",
   "execution_count": 6,
   "metadata": {},
   "outputs": [
    {
     "data": {
      "image/png": "[encoded data removed]",
      "text/plain": [
       "<Figure size 432x288 with 1 Axes>"
      ]
     },
     "metadata": {
      "needs_background": "light"
     },
     "output_type": "display_data"
    }
   ],
   "source": [
    "for dim in range(nb_variables):\n",
    "    plt.plot(derivatives[:, dim] - real_derivatives[:, dim], label=variables[1:][dim])\n",
    "plt.legend()\n",
    "plt.show()"
   ]
  },
  {
   "cell_type": "code",
   "execution_count": 10,
   "metadata": {
    "colab": {
     "base_uri": "https://localhost:8080/",
     "height": 439
    },
    "colab_type": "code",
    "id": "c_3cOoJlUYuk",
    "outputId": "42486bf4-20a1-4d66-ebed-9a08ae7d73a8",
    "scrolled": true
   },
   "outputs": [
    {
     "name": "stdout",
     "output_type": "stream",
     "text": [
      "|   iterations |   examples |       loss |\n",
      "|-------------:|-----------:|-----------:|\n",
      "|            2 |        298 | 0.00338224 |\n",
      "\n",
      "| function   |   $\\dot{x}$ |   $\\dot{y}$ |\n",
      "|:-----------|------------:|------------:|\n",
      "| $1$        |    0        |    0        |\n",
      "| $ x$       |    0        |   -0.99125  |\n",
      "| $ y$       |    0.999718 |    0.98747  |\n",
      "| $ x^2$     |    0        |    0        |\n",
      "| $ x y$     |    0        |    0        |\n",
      "| $ y^2$     |    0        |    0        |\n",
      "| $ x^3$     |    0        |    0        |\n",
      "| $ x^2 y$   |    0        |   -0.983185 |\n",
      "| $ x y^2$   |    0        |    0        |\n",
      "| $ y^3$     |    0        |    0        |\n"
     ]
    }
   ],
   "source": [
    "cutoff = 1e-1\n",
    "max_degree = 3\n",
    "function = 'van_der_pol'\n",
    "loss = tf.keras.metrics.MeanSquaredError()\n",
    "\n",
    "data = py_data[function]\n",
    "derivatives, dm, m = make_targets(data)\n",
    "derivatives = derivatives/timestep\n",
    "nb_variables = m.shape[1]\n",
    "X, nb_funcs = make_polynomials(m, max_degree=max_degree)\n",
    "weights, iterations = sparse_regression(X, derivatives, cutoff=cutoff)\n",
    "\n",
    "    \n",
    "metrics = {'iterations':[iterations],\n",
    "           'examples':[len(dm)],\n",
    "           'loss':[loss(derivatives, tf.matmul(X, weights))]} # tf.matmul(X, weights)\n",
    "params = [[reduce(''.join(name), variables)] + list(val)\n",
    "          for name, val in zip(combinations_with_replacement(variables[:1 + nb_variables], 5), weights.numpy())]\n",
    "\n",
    "print(tabulate(metrics, headers=metrics.keys(), tablefmt=\"pipe\"))\n",
    "print()\n",
    "print(tabulate(params, headers=['function', '$\\dot{x}$', '$\\dot{y}$', '$\\dot{z}$'], tablefmt=\"pipe\"))"
   ]
  }
 ],
 "metadata": {
  "colab": {
   "name": "sparse_regression3",
   "provenance": []
  },
  "kernelspec": {
   "display_name": "Python 3",
   "language": "python",
   "name": "python3"
  },
  "language_info": {
   "codemirror_mode": {
    "name": "ipython",
    "version": 3
   },
   "file_extension": ".py",
   "mimetype": "text/x-python",
   "name": "python",
   "nbconvert_exporter": "python",
   "pygments_lexer": "ipython3",
   "version": "3.8.2"
  }
 },
 "nbformat": 4,
 "nbformat_minor": 1
}
