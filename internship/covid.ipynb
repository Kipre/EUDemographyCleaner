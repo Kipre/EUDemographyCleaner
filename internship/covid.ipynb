{
 "cells": [
  {
   "cell_type": "code",
   "execution_count": 2,
   "metadata": {},
   "outputs": [],
   "source": [
    "import tensorflow as tf\n",
    "from scipy.io import loadmat\n",
    "import pandas as pd\n",
    "import numpy as np\n",
    "import matplotlib.pyplot as plt\n",
    "from itertools import combinations_with_replacement\n",
    "from tabulate import tabulate\n",
    "from mpl_toolkits.mplot3d import Axes3D\n",
    "import importlib"
   ]
  },
  {
   "cell_type": "code",
   "execution_count": 3,
   "metadata": {},
   "outputs": [],
   "source": [
    "import codebase\n",
    "codebase = importlib.reload(codebase)\n",
    "from codebase.data_generation import *\n",
    "from codebase.sparse_regression import *\n",
    "from codebase.utils import *"
   ]
  },
  {
   "cell_type": "code",
   "execution_count": 64,
   "metadata": {},
   "outputs": [
    {
     "name": "stderr",
     "output_type": "stream",
     "text": [
      "C:\\Users\\kipr\\AppData\\Roaming\\Python\\Python38\\site-packages\\pandas\\core\\indexing.py:965: SettingWithCopyWarning: \n",
      "A value is trying to be set on a copy of a slice from a DataFrame.\n",
      "Try using .loc[row_indexer,col_indexer] = value instead\n",
      "\n",
      "See the caveats in the documentation: https://pandas.pydata.org/pandas-docs/stable/user_guide/indexing.html#returning-a-view-versus-a-copy\n",
      "  self.obj[item] = s\n"
     ]
    },
    {
     "data": {
      "text/plain": [
       "[]"
      ]
     },
     "execution_count": 64,
     "metadata": {},
     "output_type": "execute_result"
    },
    {
     "data": {
      "image/png": "[encoded data removed]",
      "text/plain": [
       "<Figure size 432x288 with 1 Axes>"
      ]
     },
     "metadata": {
      "needs_background": "light"
     },
     "output_type": "display_data"
    }
   ],
   "source": [
    "data = pd.read_csv('C:/Users/kipr/Downloads/téléchargement.csv', )\n",
    "country_data = data[data['geoId'] == 'RU']\n",
    "country_data.loc[:, 'dateRep'] = pd.to_datetime(country_data['dateRep'], dayfirst=True)\n",
    "values = country_data.sort_values('dateRep')[['cases', 'deaths']].values\n",
    "\n",
    "plt.plot(values[:, 0], label='cases')\n",
    "plt.plot(values[:, 1], label='deaths')\n",
    "plt.plot(np.cumsum(values[:, 0]), label='cumulative_cases')\n",
    "plt.legend()\n",
    "plt.plot()"
   ]
  },
  {
   "cell_type": "code",
   "execution_count": 37,
   "metadata": {},
   "outputs": [
    {
     "name": "stdout",
     "output_type": "stream",
     "text": [
      "|   iterations |   examples |        loss |\n",
      "|-------------:|-----------:|------------:|\n",
      "|            0 |         89 | 3.31527e+09 |\n",
      "\n",
      "| function   |   $\\dot{var}$ |\n",
      "|:-----------|--------------:|\n",
      "| $1$        |   5.05648e-15 |\n",
      "| $ x$       |   1.73003e-10 |\n",
      "| $ x^2$     |   5.04417e-06 |\n",
      "| $ x^3$     |  -6.25159e-11 |\n"
     ]
    }
   ],
   "source": [
    "derivatives, dm, m = make_targets(np.cumsum(values[:, 0]).reshape(-1, 1))\n",
    "nb_variables = m.shape[1]\n",
    "X, nb_funcs = make_polynomials(m, max_degree=3)\n",
    "weights, iterations = sparse_regression(X, derivatives, cutoff=1e-15)\n",
    "variables = ['1', 'x', 'y']\n",
    "loss = tf.keras.metrics.MeanSquaredError()\n",
    "\n",
    "metrics = {'iterations':[iterations],\n",
    "           'examples':[len(derivatives)],\n",
    "           'loss':[loss(dm, tf.matmul(X, weights))]} # tf.matmul(X, weights)\n",
    "params = [[reduce(''.join(name), variables)] + list(val)\n",
    "          for name, val in zip(combinations_with_replacement(variables[:1 + nb_variables], 5), weights.numpy())]\n",
    "print(tabulate(metrics, headers=metrics.keys(), tablefmt=\"pipe\"))\n",
    "print()\n",
    "print(tabulate(params, headers=['function'] + [f'$\\dot{{var}}$' for var in variables[1:]], tablefmt=\"pipe\"))"
   ]
  },
  {
   "cell_type": "code",
   "execution_count": 36,
   "metadata": {},
   "outputs": [
    {
     "data": {
      "image/png": "[encoded data removed]",
      "text/plain": [
       "<Figure size 432x288 with 1 Axes>"
      ]
     },
     "metadata": {
      "needs_background": "light"
     },
     "output_type": "display_data"
    }
   ],
   "source": [
    "def naive_integrate(weights,\n",
    "                    initial_state,\n",
    "                    timesteps=200):\n",
    "    states = [np.array(initial_state)]\n",
    "    for k in range(timesteps-1):\n",
    "        new_state, _ = make_polynomials(states[k], max_degree=3)\n",
    "        states.append(tf.matmul(new_state.reshape(1, -1), weights).numpy().reshape(-1))\n",
    "    return np.array(states, dtype=np.float32)\n",
    "\n",
    "guess = naive_integrate(weights, np.array([1]).reshape(-1))\n",
    "plt.plot(guess[:, 0])\n",
    "plt.show()"
   ]
  },
  {
   "cell_type": "code",
   "execution_count": 12,
   "metadata": {},
   "outputs": [
    {
     "data": {
      "image/png": "[encoded data removed]",
      "text/plain": [
       "<Figure size 432x288 with 1 Axes>"
      ]
     },
     "metadata": {
      "needs_background": "light"
     },
     "output_type": "display_data"
    }
   ],
   "source": [
    "from scipy.integrate import solve_ivp\n",
    "\n",
    "sigmoid = lambda t, x: 30*x*((1 - x)/6000)\n",
    "\n",
    "t = np.linspace(0, 2000, 300)\n",
    "\n",
    "res = solve_ivp(sigmoid, (t[0], t[-1]), [0.01], t_eval=t)\n",
    "simulated = res['y']\n",
    "plt.plot(simulated[0])\n",
    "plt.show()"
   ]
  },
  {
   "cell_type": "code",
   "execution_count": 38,
   "metadata": {},
   "outputs": [
    {
     "name": "stdout",
     "output_type": "stream",
     "text": [
      "|   iterations |   examples |       loss |\n",
      "|-------------:|-----------:|-----------:|\n",
      "|            2 |        298 | 0.00185444 |\n",
      "\n",
      "| function   |   $\\dot{x}$ |\n",
      "|:-----------|------------:|\n",
      "| $1$        |   0         |\n",
      "| $ x$       |   1.04271   |\n",
      "| $ x^2$     |  -0.0442875 |\n",
      "| $ x^3$     |   0         |\n"
     ]
    }
   ],
   "source": [
    "derivatives, dm, m = make_targets(simulated.reshape(-1, 1))\n",
    "derivatives = derivatives/t[1]\n",
    "nb_variables = m.shape[1]\n",
    "X, nb_funcs = make_polynomials(m, max_degree=3)\n",
    "weights, iterations = sparse_regression(X, dm, cutoff=1e-3)\n",
    "variables = ['1', 'x', 'y']\n",
    "loss = tf.keras.metrics.MeanSquaredError()\n",
    "\n",
    "metrics = {'iterations':[iterations],\n",
    "           'examples':[len(dm)],\n",
    "           'loss':[loss(derivatives, tf.matmul(X, weights))]} # tf.matmul(X, weights)\n",
    "params = [[reduce(''.join(name), variables)] + list(val)\n",
    "          for name, val in zip(combinations_with_replacement(variables[:1 + nb_variables], 5), weights.numpy())]\n",
    "print(tabulate(metrics, headers=metrics.keys(), tablefmt=\"pipe\"))\n",
    "print()\n",
    "print(tabulate(params, headers=['function'] + ['$\\dot{' + str(var) + '}$' for var in variables[1:]], tablefmt=\"pipe\"))"
   ]
  },
  {
   "cell_type": "code",
   "execution_count": 25,
   "metadata": {},
   "outputs": [
    {
     "data": {
      "image/png": "[encoded data removed]",
      "text/plain": [
       "<Figure size 432x288 with 1 Axes>"
      ]
     },
     "metadata": {
      "needs_background": "light"
     },
     "output_type": "display_data"
    }
   ],
   "source": [
    "from scipy.integrate import solve_ivp\n",
    "\n",
    "sigmoid = lambda t, x: 30*x*((1 - x)/6000)\n",
    "\n",
    "t = np.linspace(0, 2500, 300)\n",
    "\n",
    "res = solve_ivp(sigmoid, (t[0], t[-1]), [0.000001], t_eval=t)\n",
    "simulated = res['y']\n",
    "plt.plot(simulated[0])\n",
    "plt.show()"
   ]
  },
  {
   "cell_type": "code",
   "execution_count": 27,
   "metadata": {},
   "outputs": [
    {
     "name": "stdout",
     "output_type": "stream",
     "text": [
      "|   iterations |   examples |       loss |\n",
      "|-------------:|-----------:|-----------:|\n",
      "|            1 |        298 | 1.9301e-14 |\n",
      "\n",
      "| function   |   $\\dot{x}$ |\n",
      "|:-----------|------------:|\n",
      "| $1$        |  0          |\n",
      "| $ x$       |  0.00500567 |\n",
      "| $ x^2$     | -0.00503137 |\n",
      "| $ x^3$     |  0          |\n"
     ]
    }
   ],
   "source": [
    "derivatives, dm, m = make_targets(simulated.reshape(-1, 1))\n",
    "derivatives = derivatives/t[1]\n",
    "nb_variables = m.shape[1]\n",
    "X, nb_funcs = make_polynomials(m, max_degree=3)\n",
    "weights, iterations = sparse_regression(X, derivatives, cutoff=1e-3)\n",
    "variables = ['1', 'x', 'y']\n",
    "loss = tf.keras.metrics.MeanSquaredError()\n",
    "\n",
    "metrics = {'iterations':[iterations],\n",
    "           'examples':[len(derivatives)],\n",
    "           'loss':[loss(derivatives, tf.matmul(X, weights))]} # tf.matmul(X, weights)\n",
    "params = [[reduce(''.join(name), variables)] + list(val)\n",
    "          for name, val in zip(combinations_with_replacement(variables[:1 + nb_variables], 5), weights.numpy())]\n",
    "print(tabulate(metrics, headers=metrics.keys(), tablefmt=\"pipe\"))\n",
    "print()\n",
    "print(tabulate(params, headers=['function'] + ['$\\dot{' + str(var) + '}$' for var in variables[1:]], tablefmt=\"pipe\"))"
   ]
  },
  {
   "cell_type": "code",
   "execution_count": 62,
   "metadata": {},
   "outputs": [
    {
     "data": {
      "text/html": [
       "<div>\n",
       "<style scoped>\n",
       "    .dataframe tbody tr th:only-of-type {\n",
       "        vertical-align: middle;\n",
       "    }\n",
       "\n",
       "    .dataframe tbody tr th {\n",
       "        vertical-align: top;\n",
       "    }\n",
       "\n",
       "    .dataframe thead th {\n",
       "        text-align: right;\n",
       "    }\n",
       "</style>\n",
       "<table border=\"1\" class=\"dataframe\">\n",
       "  <thead>\n",
       "    <tr style=\"text-align: right;\">\n",
       "      <th></th>\n",
       "      <th>cases</th>\n",
       "    </tr>\n",
       "    <tr>\n",
       "      <th>dateRep</th>\n",
       "      <th></th>\n",
       "    </tr>\n",
       "  </thead>\n",
       "  <tbody>\n",
       "    <tr>\n",
       "      <th>01/01/2020</th>\n",
       "      <td>0</td>\n",
       "    </tr>\n",
       "    <tr>\n",
       "      <th>01/02/2020</th>\n",
       "      <td>2120</td>\n",
       "    </tr>\n",
       "    <tr>\n",
       "      <th>01/03/2020</th>\n",
       "      <td>1821</td>\n",
       "    </tr>\n",
       "    <tr>\n",
       "      <th>02/01/2020</th>\n",
       "      <td>0</td>\n",
       "    </tr>\n",
       "    <tr>\n",
       "      <th>02/02/2020</th>\n",
       "      <td>2608</td>\n",
       "    </tr>\n",
       "    <tr>\n",
       "      <th>...</th>\n",
       "      <td>...</td>\n",
       "    </tr>\n",
       "    <tr>\n",
       "      <th>29/03/2020</th>\n",
       "      <td>65169</td>\n",
       "    </tr>\n",
       "    <tr>\n",
       "      <th>30/01/2020</th>\n",
       "      <td>1756</td>\n",
       "    </tr>\n",
       "    <tr>\n",
       "      <th>30/03/2020</th>\n",
       "      <td>58520</td>\n",
       "    </tr>\n",
       "    <tr>\n",
       "      <th>31/01/2020</th>\n",
       "      <td>2003</td>\n",
       "    </tr>\n",
       "    <tr>\n",
       "      <th>31/12/2019</th>\n",
       "      <td>27</td>\n",
       "    </tr>\n",
       "  </tbody>\n",
       "</table>\n",
       "<p>91 rows × 1 columns</p>\n",
       "</div>"
      ],
      "text/plain": [
       "            cases\n",
       "dateRep          \n",
       "01/01/2020      0\n",
       "01/02/2020   2120\n",
       "01/03/2020   1821\n",
       "02/01/2020      0\n",
       "02/02/2020   2608\n",
       "...           ...\n",
       "29/03/2020  65169\n",
       "30/01/2020   1756\n",
       "30/03/2020  58520\n",
       "31/01/2020   2003\n",
       "31/12/2019     27\n",
       "\n",
       "[91 rows x 1 columns]"
      ]
     },
     "execution_count": 62,
     "metadata": {},
     "output_type": "execute_result"
    }
   ],
   "source": [
    "data[['cases', 'dateRep']].groupby(['dateRep']).sum()\n"
   ]
  }
 ],
 "metadata": {
  "kernelspec": {
   "display_name": "Python 3",
   "language": "python",
   "name": "python3"
  },
  "language_info": {
   "codemirror_mode": {
    "name": "ipython",
    "version": 3
   },
   "file_extension": ".py",
   "mimetype": "text/x-python",
   "name": "python",
   "nbconvert_exporter": "python",
   "pygments_lexer": "ipython3",
   "version": "3.8.2"
  }
 },
 "nbformat": 4,
 "nbformat_minor": 4
}
