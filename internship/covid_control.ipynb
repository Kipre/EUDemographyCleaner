{
 "cells": [
  {
   "cell_type": "code",
   "execution_count": 1,
   "metadata": {},
   "outputs": [],
   "source": [
    "import pandas as pd\n",
    "import numpy as np\n",
    "import scipy\n",
    "import matplotlib.pyplot as plt\n",
    "from tqdm import tqdm\n",
    "import ipywidgets as widgets\n",
    "%load_ext autoreload"
   ]
  },
  {
   "cell_type": "code",
   "execution_count": 13,
   "metadata": {},
   "outputs": [],
   "source": [
    "%autoreload\n",
    "import codebase\n",
    "from codebase.data_generation import *\n",
    "from codebase.sparse_regression import *\n",
    "from codebase.utils import *\n",
    "\n",
    "\n",
    "categories = ['C1_School closing', 'C2_Workplace closing', 'C3_Cancel public events',\n",
    "              'C4_Restrictions on gatherings', 'C5_Close public transport', 'C6_Stay at home requirements',\n",
    "              'C7_Restrictions on internal movement', 'C8_International travel controls']\n",
    "colors = [\"#1f77b4\", \"#ff7f0e\", \"#2ca02c\", \"#d62728\", \"#9467bd\", \"#8c564b\", \"#e377c2\", \"#7f7f7f\", \"#bcbd22\", \"#17becf\"]\n",
    "\n",
    "def events(values, flag=None):\n",
    "    events = []\n",
    "    current_value = values[0]\n",
    "    start = 0\n",
    "    for i, value in enumerate(values):\n",
    "        if value != current_value:\n",
    "            if not flag is None:\n",
    "                if flag[i-1] == 0:\n",
    "                    fl = '///'\n",
    "                else:\n",
    "                    fl = None\n",
    "            else:\n",
    "                fl = None\n",
    "            events.append((start, i - start, current_value, fl))\n",
    "            current_value = value\n",
    "            start = i\n",
    "    \n",
    "    \n",
    "    if not flag is None:\n",
    "        if flag[i-1] == 0:\n",
    "            fl = '///'\n",
    "        else:\n",
    "            fl = None\n",
    "    else:\n",
    "        fl = None\n",
    "    events.append((start, i - start, current_value, fl))\n",
    "    return events\n",
    "            \n",
    "    \n",
    "def plot_stringency(df, ax):\n",
    "    import matplotlib.patches as mpatches\n",
    "    circ1 = mpatches.Patch( facecolor='white' , hatch=r'///', label='Targeted measures')\n",
    "    total_length = len(df.index)\n",
    "    y_ticks = []\n",
    "    for i, col in enumerate(categories):\n",
    "        flag_col = col[:3] + 'Flag'\n",
    "        if flag_col != 'C8_Flag':\n",
    "            current_events = events(df[[col]].values.flatten(), df[[flag_col]].values.flatten())\n",
    "        else:\n",
    "            current_events = events(df[[col]].values.flatten())\n",
    "        for event in current_events:\n",
    "            ax.broken_barh([(event[0], event[1])], (10*i, 2*event[2]), facecolors=colors[i], hatch=event[3])\n",
    "        y_ticks.append(i*10)\n",
    "    ax.set_ylim(0, 10*(i+1))\n",
    "    ax.set_xlim(0, total_length)\n",
    "    ax.set_xlabel('days')\n",
    "    ax.set_yticks(y_ticks)\n",
    "    ax.set_yticklabels([cat[3:] for cat in categories])\n",
    "    ax.legend(handles = [circ1],loc=2)\n",
    "    ax.grid(True)\n",
    "\n",
    "dataset = CountryDataset()"
   ]
  },
  {
   "cell_type": "markdown",
   "metadata": {},
   "source": [
    "## Raw stringency"
   ]
  },
  {
   "cell_type": "code",
   "execution_count": 3,
   "metadata": {},
   "outputs": [],
   "source": [
    "stri_cols = ['C1_School closing', 'C2_Workplace closing', \n",
    "             'C3_Cancel public events',\n",
    "             'C4_Restrictions on gatherings', 'C5_Close public transport', 'C6_Stay at home requirements',\n",
    "             'C7_Restrictions on internal movement',\n",
    "             'C8_International travel controls', \n",
    "             # 'C1_Flag', 'C2_Flag', 'C3_Flag', 'C4_Flag', 'C5_Flag', 'C6_Flag', 'C7_Flag'\n",
    "            ]\n",
    "\n",
    "cols = {'variables': ['ConfirmedCases'] + stri_cols,\n",
    "        'time_dependent_variables': ['ConfirmedCases'] + stri_cols,\n",
    "        'predicted_variables': ['ConfirmedCases'],\n",
    "        'max_degree': 3}"
   ]
  },
  {
   "cell_type": "code",
   "execution_count": 44,
   "metadata": {
    "scrolled": true
   },
   "outputs": [
    {
     "data": {
      "application/vnd.jupyter.widget-view+json": {
       "model_id": "fb45d28e479e4018ac726f706c810288",
       "version_major": 2,
       "version_minor": 0
      },
      "text/plain": [
       "interactive(children=(Dropdown(description='country', options=(0, 'Aruba', 'Afghanistan', 'Angola', 'Albania',…"
      ]
     },
     "metadata": {},
     "output_type": "display_data"
    }
   ],
   "source": [
    "\n",
    "def plot_measures(country):\n",
    "    country_data = dataset.ox_for(country, rescaling=1)\n",
    "    f, ax1 = plt.subplots()\n",
    "    ax1.set_title(country)\n",
    "    ax2 = ax1.twinx()\n",
    "    plot_stringency(country_data, ax1)\n",
    "    ax2.plot(list(country_data['ConfirmedCases']), 'k.')\n",
    "    plt.show()\n",
    "    \n",
    "a = widgets.interact(plot_measures, country=dataset.all_ox_countries())"
   ]
  },
  {
   "cell_type": "code",
   "execution_count": 36,
   "metadata": {},
   "outputs": [
    {
     "data": {
      "image/png": "[encoded data removed]",
      "text/plain": [
       "<Figure size 432x288 with 2 Axes>"
      ]
     },
     "metadata": {
      "needs_background": "light"
     },
     "output_type": "display_data"
    }
   ],
   "source": [
    "country = \"France\"\n",
    "country_data = dataset.ox_for(country, rescaling=1)\n",
    "f, ax1 = plt.subplots()\n",
    "ax1.set_title(country)\n",
    "ax1.plot(list(country_data['ConfirmedCases']), 'k.')\n",
    "ax2 = ax1.twinx()\n",
    "plot_stringency(country_data, ax2)\n",
    "plt.show()"
   ]
  },
  {
   "cell_type": "code",
   "execution_count": 25,
   "metadata": {
    "scrolled": true
   },
   "outputs": [],
   "source": [
    "country = \"Afghanistan\"\n",
    "\n",
    "m2, m1 = make_targets_df(dataset.ox_for(country, rescaling=(rescaling:=10000)))\n",
    "\n",
    "augmented, integration_args = make_polynomials_df(m1, **cols)\n",
    "\n",
    "weights, _ = sparse_regression(augmented, m2[cols['predicted_variables']].values, cutoff=5e-4)\n",
    "# integration_args['weights'] = weights\n",
    "# weights\n"
   ]
  },
  {
   "cell_type": "code",
   "execution_count": 5,
   "metadata": {},
   "outputs": [
    {
     "name": "stderr",
     "output_type": "stream",
     "text": [
      "100%|████████████| 50/50 [00:00<00:00, 203.96it/s]\n"
     ]
    },
    {
     "data": {
      "text/plain": [
       "[]"
      ]
     },
     "execution_count": 5,
     "metadata": {},
     "output_type": "execute_result"
    },
    {
     "data": {
      "image/png": "[encoded data removed]",
      "text/plain": [
       "<Figure size 600x400 with 2 Axes>"
      ]
     },
     "metadata": {
      "needs_background": "light"
     },
     "output_type": "display_data"
    }
   ],
   "source": [
    "cutoffs = np.logspace(-6, 3, num=50)\n",
    "sparsity = []\n",
    "mses = []\n",
    "all_weights = []\n",
    "\n",
    "for k in tqdm(cutoffs, ncols=50):\n",
    "    weights, _ = sparse_regression(augmented, m2[cols['predicted_variables']].values, cutoff=k)\n",
    "    mse = ((tf.matmul(tf.cast(augmented, dtype=tf.float32), tf.cast(weights, dtype=tf.float32)) - m2[cols['predicted_variables']].values)**2).numpy().mean()\n",
    "    mses.append(mse)\n",
    "    sparsity.append((weights.numpy() == 0).sum()/len(weights.numpy().flatten()))\n",
    "    all_weights.append(weights)\n",
    "\n",
    "fig, ax1 = plt.subplots(dpi=100)\n",
    "\n",
    "color = 'tab:red'\n",
    "ax1.set_xlabel('Cutoff value')\n",
    "ax1.set_ylabel('Mean squared error', color=color)\n",
    "ax1.tick_params(axis='y', labelcolor=color)\n",
    "ax1.set_xscale('log')\n",
    "ax1.set_yscale('log')\n",
    "ax1.plot(cutoffs, mses, color=color, label='train mse')\n",
    "ax1.tick_params(axis='y')\n",
    "\n",
    "handles, labels = ax1.get_legend_handles_labels()\n",
    "\n",
    "ax2 = ax1.twinx()\n",
    "\n",
    "color = 'tab:blue'\n",
    "ax2.set_ylabel('Sparsity', color=color)\n",
    "ax2.plot(cutoffs, sparsity, color=color, label='sparsity')\n",
    "ax2.set_xscale('log')\n",
    "ax2.tick_params(axis='y', labelcolor=color)\n",
    "handles2, labels2 = ax2.get_legend_handles_labels()\n",
    "handles += handles2\n",
    "labels += labels2\n",
    "\n",
    "fig.legend(handles, labels, loc='upper left')\n",
    "\n",
    "fig.tight_layout()\n",
    "plt.plot()\n",
    "# plt.savefig('sparsity_vs_mse.png', dpi=100)\n"
   ]
  },
  {
   "cell_type": "code",
   "execution_count": 6,
   "metadata": {},
   "outputs": [
    {
     "data": {
      "application/vnd.jupyter.widget-view+json": {
       "model_id": "53ee9bca757a438495709a8f0b783731",
       "version_major": 2,
       "version_minor": 0
      },
      "text/plain": [
       "interactive(children=(Dropdown(description='a', options=(((1.1334903, 0.0005689866029018299), 0), ((1.1281972,…"
      ]
     },
     "metadata": {},
     "output_type": "display_data"
    }
   ],
   "source": [
    "candidates = [(e, i) for i, e in enumerate(dict(zip(mses, cutoffs)).items())]\n",
    "    \n",
    "    \n",
    "extrapolation = 20\n",
    "def select_weights(a):\n",
    "    f, (ax1, ax2) = plt.subplots(2, 1, sharex='col', figsize=(10, 8))\n",
    "    country_data = m1\n",
    "    t = range(len(country_data.index) + extrapolation)\n",
    "    high_data = country_data[country_data['ConfirmedCases'] > 2]\n",
    "    real_t = len(high_data.index)\n",
    "    guess = integrate_df(real_trajectory=high_data, extrapolation=extrapolation, **integration_args, **cols, weights=all_weights[a])\n",
    "    ax1.plot(t[:-extrapolation], country_data['ConfirmedCases'], 'k.', label='real data')\n",
    "    ax1.plot(t[-real_t-extrapolation:], guess[:, 0], label='predictions')\n",
    "    ax1.legend()\n",
    "    ax1.set_title(country)\n",
    "    plot_stringency(country_data, ax2)\n",
    "    # plt.show()\n",
    "\n",
    "_ = widgets.interact(select_weights, a=candidates)"
   ]
  },
  {
   "cell_type": "code",
   "execution_count": 7,
   "metadata": {},
   "outputs": [
    {
     "data": {
      "text/plain": [
       "<tf.Tensor: shape=(55, 1), dtype=float64, numpy=\n",
       "array([[0.],\n",
       "       [0.],\n",
       "       [0.],\n",
       "       [0.],\n",
       "       [0.],\n",
       "       [0.],\n",
       "       [0.],\n",
       "       [0.],\n",
       "       [0.],\n",
       "       [0.],\n",
       "       [0.],\n",
       "       [0.],\n",
       "       [0.],\n",
       "       [0.],\n",
       "       [0.],\n",
       "       [0.],\n",
       "       [0.],\n",
       "       [0.],\n",
       "       [0.],\n",
       "       [0.],\n",
       "       [0.],\n",
       "       [0.],\n",
       "       [0.],\n",
       "       [0.],\n",
       "       [0.],\n",
       "       [0.],\n",
       "       [0.],\n",
       "       [0.],\n",
       "       [0.],\n",
       "       [0.],\n",
       "       [0.],\n",
       "       [0.],\n",
       "       [0.],\n",
       "       [0.],\n",
       "       [0.],\n",
       "       [0.],\n",
       "       [0.],\n",
       "       [0.],\n",
       "       [0.],\n",
       "       [0.],\n",
       "       [0.],\n",
       "       [0.],\n",
       "       [0.],\n",
       "       [0.],\n",
       "       [0.],\n",
       "       [0.],\n",
       "       [0.],\n",
       "       [0.],\n",
       "       [0.],\n",
       "       [0.],\n",
       "       [0.],\n",
       "       [0.],\n",
       "       [0.],\n",
       "       [0.],\n",
       "       [0.]])>"
      ]
     },
     "execution_count": 7,
     "metadata": {},
     "output_type": "execute_result"
    }
   ],
   "source": [
    "all_weights[-1]"
   ]
  },
  {
   "cell_type": "code",
   "execution_count": 102,
   "metadata": {
    "scrolled": true
   },
   "outputs": [
    {
     "name": "stderr",
     "output_type": "stream",
     "text": [
      "C:\\Users\\kipr\\AppData\\Roaming\\Python\\Python38\\site-packages\\numpy\\core\\fromnumeric.py:90: RuntimeWarning: overflow encountered in reduce\n",
      "  return ufunc.reduce(obj, axis, dtype, out, **passkwargs)\n",
      "C:\\Users\\kipr\\AppData\\Roaming\\Python\\Python38\\site-packages\\numpy\\core\\fromnumeric.py:90: RuntimeWarning: invalid value encountered in reduce\n",
      "  return ufunc.reduce(obj, axis, dtype, out, **passkwargs)\n",
      "C:\\Users\\kipr\\Documents\\GitHub\\files\\internship\\codebase\\utils.py:251: RuntimeWarning: invalid value encountered in matmul\n",
      "  predicted_values.append(current_filter @ constant_terms)\n"
     ]
    },
    {
     "data": {
      "image/png": "[encoded data removed]",
      "text/plain": [
       "<Figure size 432x288 with 1 Axes>"
      ]
     },
     "metadata": {
      "needs_background": "light"
     },
     "output_type": "display_data"
    }
   ],
   "source": [
    "country_data = m1\n",
    "t = range(len(country_data.index) + (extrapolation:=40))\n",
    "high_data = country_data[country_data['ConfirmedCases'] > 0.1]\n",
    "real_t = len(high_data.index)\n",
    "guess = integrate_df(real_trajectory=high_data, extrapolation=extrapolation, **integration_args, **cols, weights=all_weights[0])\n",
    "plt.plot(t[:-extrapolation], country_data['ConfirmedCases'], 'k.', label='real data')\n",
    "plt.plot(t[-real_t-extrapolation:], guess[:, 0], label='predictions')\n",
    "plt.legend()\n",
    "plt.title(country)\n",
    "plt.show()\n"
   ]
  },
  {
   "cell_type": "code",
   "execution_count": 11,
   "metadata": {},
   "outputs": [
    {
     "data": {
      "text/plain": [
       "<tf.Tensor: shape=(153, 1), dtype=float32, numpy=\n",
       "array([[ 1.0097812 ],\n",
       "       [-0.07646948],\n",
       "       [ 0.        ],\n",
       "       [ 0.03992122],\n",
       "       [ 0.        ],\n",
       "       [ 0.08587456],\n",
       "       [ 0.        ],\n",
       "       [ 0.        ],\n",
       "       [ 0.        ],\n",
       "       [ 0.        ],\n",
       "       [ 0.        ],\n",
       "       [ 0.        ],\n",
       "       [ 0.        ],\n",
       "       [ 0.        ],\n",
       "       [ 0.01275127],\n",
       "       [ 0.        ],\n",
       "       [ 0.        ],\n",
       "       [ 0.06678031],\n",
       "       [-3.07522   ],\n",
       "       [ 0.29193038],\n",
       "       [-0.05049528],\n",
       "       [-0.10054695],\n",
       "       [ 0.9974977 ],\n",
       "       [ 0.        ],\n",
       "       [ 1.9949954 ],\n",
       "       [ 0.        ],\n",
       "       [-0.15997513],\n",
       "       [ 0.        ],\n",
       "       [ 1.0526471 ],\n",
       "       [ 0.        ],\n",
       "       [-2.0452409 ],\n",
       "       [ 0.        ],\n",
       "       [ 0.06369219],\n",
       "       [ 0.        ],\n",
       "       [ 0.        ],\n",
       "       [ 0.00593761],\n",
       "       [-0.02104353],\n",
       "       [ 0.        ],\n",
       "       [ 0.        ],\n",
       "       [ 0.        ],\n",
       "       [ 0.        ],\n",
       "       [ 0.01224786],\n",
       "       [ 0.        ],\n",
       "       [-0.0205911 ],\n",
       "       [ 0.        ],\n",
       "       [ 0.        ],\n",
       "       [ 0.        ],\n",
       "       [ 0.        ],\n",
       "       [ 0.03992122],\n",
       "       [ 0.        ],\n",
       "       [ 0.08587456],\n",
       "       [ 0.        ],\n",
       "       [ 0.        ],\n",
       "       [ 0.        ],\n",
       "       [ 0.        ],\n",
       "       [-0.09076869],\n",
       "       [ 0.        ],\n",
       "       [ 0.        ],\n",
       "       [ 0.        ],\n",
       "       [-0.09076869],\n",
       "       [ 0.        ],\n",
       "       [ 0.        ],\n",
       "       [ 0.        ],\n",
       "       [-0.02104353],\n",
       "       [ 0.        ],\n",
       "       [ 0.        ],\n",
       "       [ 0.00791681],\n",
       "       [ 0.        ],\n",
       "       [ 0.01224786],\n",
       "       [ 0.        ],\n",
       "       [ 0.        ],\n",
       "       [ 0.        ],\n",
       "       [ 0.        ],\n",
       "       [ 0.        ],\n",
       "       [ 0.        ],\n",
       "       [ 0.08587456],\n",
       "       [-0.01346033],\n",
       "       [ 0.        ],\n",
       "       [-0.02692067],\n",
       "       [ 0.        ],\n",
       "       [ 0.        ],\n",
       "       [ 0.        ],\n",
       "       [-0.01613351],\n",
       "       [ 0.        ],\n",
       "       [ 0.        ],\n",
       "       [ 0.        ],\n",
       "       [ 0.        ],\n",
       "       [ 0.        ],\n",
       "       [ 0.        ],\n",
       "       [ 0.        ],\n",
       "       [ 0.        ],\n",
       "       [ 0.        ],\n",
       "       [ 0.        ],\n",
       "       [ 0.        ],\n",
       "       [ 0.        ],\n",
       "       [ 0.02550253],\n",
       "       [ 0.        ],\n",
       "       [ 0.        ],\n",
       "       [ 0.        ],\n",
       "       [ 0.        ],\n",
       "       [ 0.        ],\n",
       "       [ 0.        ],\n",
       "       [ 0.        ],\n",
       "       [ 0.        ],\n",
       "       [ 0.        ],\n",
       "       [ 0.        ],\n",
       "       [ 0.        ],\n",
       "       [ 0.        ],\n",
       "       [-0.00571156],\n",
       "       [ 0.        ],\n",
       "       [ 0.        ],\n",
       "       [ 0.        ],\n",
       "       [ 0.        ],\n",
       "       [ 0.        ],\n",
       "       [ 0.05100507],\n",
       "       [ 0.        ],\n",
       "       [ 0.        ],\n",
       "       [ 0.        ],\n",
       "       [ 0.        ],\n",
       "       [ 0.        ],\n",
       "       [ 0.        ],\n",
       "       [ 0.        ],\n",
       "       [ 0.        ],\n",
       "       [ 0.        ],\n",
       "       [ 0.        ],\n",
       "       [ 0.        ],\n",
       "       [ 0.        ],\n",
       "       [ 0.0220679 ],\n",
       "       [ 0.        ],\n",
       "       [ 0.        ],\n",
       "       [ 0.        ],\n",
       "       [ 0.00576931],\n",
       "       [ 0.        ],\n",
       "       [ 0.        ],\n",
       "       [ 0.        ],\n",
       "       [ 0.        ],\n",
       "       [ 0.        ],\n",
       "       [ 0.        ],\n",
       "       [-0.01794734],\n",
       "       [ 0.        ],\n",
       "       [ 0.        ],\n",
       "       [ 0.        ],\n",
       "       [-0.02228846],\n",
       "       [ 0.        ],\n",
       "       [ 0.        ],\n",
       "       [ 0.        ],\n",
       "       [ 0.        ],\n",
       "       [ 0.0243694 ],\n",
       "       [ 0.        ],\n",
       "       [ 0.        ],\n",
       "       [ 0.        ],\n",
       "       [ 0.        ],\n",
       "       [ 0.        ]], dtype=float32)>"
      ]
     },
     "execution_count": 11,
     "metadata": {},
     "output_type": "execute_result"
    }
   ],
   "source": [
    "all_weights[25]"
   ]
  }
 ],
 "metadata": {
  "kernelspec": {
   "display_name": "Python 3",
   "language": "python",
   "name": "python3"
  },
  "language_info": {
   "codemirror_mode": {
    "name": "ipython",
    "version": 3
   },
   "file_extension": ".py",
   "mimetype": "text/x-python",
   "name": "python",
   "nbconvert_exporter": "python",
   "pygments_lexer": "ipython3",
   "version": "3.8.2"
  }
 },
 "nbformat": 4,
 "nbformat_minor": 4
}
