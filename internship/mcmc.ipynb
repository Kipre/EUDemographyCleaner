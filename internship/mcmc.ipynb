{
 "cells": [
  {
   "cell_type": "code",
   "execution_count": 1,
   "metadata": {},
   "outputs": [],
   "source": [
    "import numpy as np\n",
    "import matplotlib.pyplot as plt\n",
    "import tensorflow as tf\n",
    "import tensorflow_probability as tfp\n",
    "tfd = tfp.distributions"
   ]
  },
  {
   "cell_type": "code",
   "execution_count": 77,
   "metadata": {},
   "outputs": [
    {
     "data": {
      "text/plain": [
       "[<matplotlib.lines.Line2D at 0x1a8911dce50>]"
      ]
     },
     "execution_count": 77,
     "metadata": {},
     "output_type": "execute_result"
    },
    {
     "data": {
      "image/png": "[encoded data removed]",
      "text/plain": [
       "<Figure size 432x288 with 1 Axes>"
      ]
     },
     "metadata": {
      "needs_background": "light"
     },
     "output_type": "display_data"
    }
   ],
   "source": [
    "def tanh(x, a, b, c, d):\n",
    "    return d + a*(1 - np.exp(-2*b*(x - c)))/(1 + np.exp(-2*b*(x - c)))\n",
    "\n",
    "\n",
    "# def tanh(x, a, b, c, d):\n",
    "#     return a - 0.5*(1 + (1 - np.exp(-2*(x - c)/b))/(1 + np.exp(-2*(x - c)/b)))*(a-d)\n",
    "\n",
    "y = np.array([ 2.53444834,  1.29839826,  2.12567736,  1.68491959,  0.30719816,\n",
    "               2.03921835, -2.21389361,  0.65146105,  2.17400376,  1.07440058,\n",
    "               1.27088244,  0.7021657 ,  1.08158121,  0.88390459,  1.97486261,\n",
    "               2.18127158,  1.35044717,  1.56053974,  1.37238021,  0.68595416,\n",
    "               0.97933556,  1.31938937,  1.63256274,  1.68976574,  1.56069396,\n",
    "               1.38868713,  1.01459752,  0.98762897,  1.19343952,  1.31562195,\n",
    "               1.40062881,  1.25166442,  0.93065927,  0.8508729 ,  0.86572389,\n",
    "               0.99759427,  1.15234267,  1.16510213,  1.10032437,  0.69125199,\n",
    "               0.61540056,  0.63528541,  0.6036495 ,  0.92830299,  0.97396159,\n",
    "               1.1261418 ,  0.82554978,  0.53274701,  0.74502987,  0.71385674,\n",
    "               0.86454217,  1.08778154,  0.94655936,  0.68552462,  0.6304205 ,\n",
    "               0.67366643,  0.71898202,  0.91553078,  1.02274545,  0.78086267,\n",
    "               0.54372404,  0.48466796,  0.46600064,  0.76528263,  1.06106885,\n",
    "               1.07848824,  1.07413992,  0.78059478,  0.71770195,  0.71002082,\n",
    "               0.68888306,  0.94284608,  0.88556398,  0.49011939,  0.64872396,\n",
    "               1.07112544,  0.58410991,  1.26975144,  1.40841865,  0.91846669,\n",
    "               0.84291321,  0.72509505,  0.47390028,  0.33605206,  1.13365434,\n",
    "               1.15193504,  1.11608076,  1.33395766,  0.92361073,  0.55689185], dtype=np.float64)\n",
    "t = np.linspace(0, 1, len(y), dtype=np.float32)\n",
    "\n",
    "\n",
    "g = tanh(t,  1.6965615 , -0.12801182,  1.9767526 ,  1.9743298)\n",
    "\n",
    "plt.plot(t, y)\n",
    "plt.plot(t, g)"
   ]
  },
  {
   "cell_type": "code",
   "execution_count": 75,
   "metadata": {},
   "outputs": [
    {
     "name": "stderr",
     "output_type": "stream",
     "text": [
      "c:\\program files\\python38\\lib\\site-packages\\tensorflow_probability\\python\\mcmc\\sample.py:333: UserWarning: Tracing all kernel results by default is deprecated. Set the `trace_fn` argument to None (the future default value) or an explicit callback that traces the values you are interested in.\n",
      "  warnings.warn(\"Tracing all kernel results by default is deprecated. Set \"\n",
      "<ipython-input-74-4cedbf722a91>:2: RuntimeWarning: overflow encountered in exp\n",
      "  return d + a*(1 - np.exp(-2*b*(x - c)))/(1 + np.exp(-2*b*(x - c)))\n"
     ]
    }
   ],
   "source": [
    "# Specify model.\n",
    "def make_prior(dims):\n",
    "    return tfd.MultivariateNormalDiag(\n",
    "      loc=[2.5, 1.5, 10, 2.5],\n",
    "      scale_diag=[2, 3, 10, 2.])\n",
    "\n",
    "def make_likelihood(weights, factors):\n",
    "    result = np.zeros([len(weights), len(factors)], dtype=np.float32)\n",
    "#     print(weights.shape, factors.shape, result.shape)\n",
    "    for i, w in enumerate(weights):\n",
    "        a, b, c, d = tf.split(w, [1, 1, 1, 1], axis=0)\n",
    "        result[i] = tf.squeeze(tanh(factors, a, b, c, d))\n",
    "    return tfd.MultivariateNormalDiag(\n",
    "      loc=result)\n",
    "\n",
    "# Setup data.\n",
    "num_weights = 4 # == d\n",
    "num_factors = len(y) # == n\n",
    "num_chains = 5\n",
    "\n",
    "# weights = np.array([[0.23, 3]], dtype=np.float32)\n",
    "# factors = tf.random.normal([num_factors, num_weights])\n",
    "factors = np.c_[t]\n",
    "# x = make_likelihood(weights, factors).sample()\n",
    "x = y\n",
    "\n",
    "def unnormalized_log_posterior(w):\n",
    "    def joint_log_prob(num_weights, factors, x, w):\n",
    "        return (make_prior(num_weights).log_prob(w) + make_likelihood(w, factors).log_prob(x))\n",
    "    return joint_log_prob(num_weights, factors, x, w)\n",
    "\n",
    "# Sample from Hamiltonian Monte Carlo Markov Chain.\n",
    "\n",
    "# Get `num_results` samples from `num_chains` independent chains.\n",
    "chains_states, kernels_results = tfp.mcmc.sample_chain(\n",
    "    num_results=10000,\n",
    "    num_burnin_steps=5000,\n",
    "    current_state=tf.zeros([num_chains, num_weights], name='init_weights'),\n",
    "    kernel=tfp.mcmc.HamiltonianMonteCarlo(\n",
    "      target_log_prob_fn=unnormalized_log_posterior,\n",
    "      step_size=0.1,\n",
    "      num_leapfrog_steps=2\n",
    "    )\n",
    ")\n",
    "\n",
    "# Compute sample stats.\n",
    "sample_mean = tf.reduce_mean(chains_states, axis=[0, 1])\n",
    "# ==> approx equal to weights\n",
    "\n",
    "sample_var = tf.reduce_mean(\n",
    "    (chains_states - sample_mean)**2,\n",
    "    axis=[0, 1])\n",
    "# ==> less than 1"
   ]
  },
  {
   "cell_type": "code",
   "execution_count": 76,
   "metadata": {
    "scrolled": false
   },
   "outputs": [
    {
     "data": {
      "text/plain": [
       "<tf.Tensor: shape=(4,), dtype=float32, numpy=array([ 1.6965615 , -0.12801182,  1.9767526 ,  1.9743298 ], dtype=float32)>"
      ]
     },
     "execution_count": 76,
     "metadata": {},
     "output_type": "execute_result"
    }
   ],
   "source": [
    "sample_mean"
   ]
  },
  {
   "cell_type": "code",
   "execution_count": 66,
   "metadata": {},
   "outputs": [
    {
     "data": {
      "text/plain": [
       "True"
      ]
     },
     "execution_count": 66,
     "metadata": {},
     "output_type": "execute_result"
    }
   ],
   "source": [
    "chains_states.numpy().any()"
   ]
  }
 ],
 "metadata": {
  "kernelspec": {
   "display_name": "Python 3",
   "language": "python",
   "name": "python3"
  },
  "language_info": {
   "codemirror_mode": {
    "name": "ipython",
    "version": 3
   },
   "file_extension": ".py",
   "mimetype": "text/x-python",
   "name": "python",
   "nbconvert_exporter": "python",
   "pygments_lexer": "ipython3",
   "version": "3.8.2"
  }
 },
 "nbformat": 4,
 "nbformat_minor": 4
}
