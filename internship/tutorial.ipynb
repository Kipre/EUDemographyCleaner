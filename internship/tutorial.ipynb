{
 "cells": [
  {
   "cell_type": "markdown",
   "metadata": {},
   "source": [
    "# Examples of usage"
   ]
  },
  {
   "cell_type": "code",
   "execution_count": 23,
   "metadata": {},
   "outputs": [
    {
     "name": "stdout",
     "output_type": "stream",
     "text": [
      "The autoreload extension is already loaded. To reload it, use:\n",
      "  %reload_ext autoreload\n"
     ]
    }
   ],
   "source": [
    "%autoreload\n",
    "import codebase\n",
    "from codebase.data_generation import *\n",
    "from codebase.sparse_regression import *\n",
    "from codebase.utils import *\n",
    "\n",
    "import pandas as pd\n",
    "import numpy as np\n",
    "import scipy\n",
    "import matplotlib.pyplot as plt\n",
    "from tqdm import tqdm\n",
    "%load_ext autoreload"
   ]
  },
  {
   "cell_type": "code",
   "execution_count": 5,
   "metadata": {},
   "outputs": [],
   "source": [
    "dataset = CountryDataset()"
   ]
  },
  {
   "cell_type": "markdown",
   "metadata": {},
   "source": [
    "## Simple fitting"
   ]
  },
  {
   "cell_type": "code",
   "execution_count": 7,
   "metadata": {},
   "outputs": [
    {
     "data": {
      "text/markdown": [
       "| function   |    $x_{k+1}$ |\n",
       "|:-----------|-------------:|\n",
       "| $1$        |  0.0537954   |\n",
       "| $ x$       |  1.13167     |\n",
       "| $ x^2$     | -0.000636907 |\n",
       "| $ x^3$     | -6.35146e-07 |"
      ],
      "text/plain": [
       "<IPython.core.display.Markdown object>"
      ]
     },
     "metadata": {},
     "output_type": "display_data"
    }
   ],
   "source": [
    "x = dataset.cumulative('France', rescaling=1000)\n",
    "\n",
    "m2, m1 = make_targets(x.reshape(-1, 1))\n",
    "\n",
    "augmented, _ = make_polynomials(m1, max_degree=3)\n",
    "\n",
    "weights, _ = sparse_regression(augmented, m2, cutoff=1e-10)\n",
    "\n",
    "show_weights(weights)"
   ]
  },
  {
   "cell_type": "code",
   "execution_count": 9,
   "metadata": {},
   "outputs": [
    {
     "data": {
      "text/plain": [
       "[<matplotlib.lines.Line2D at 0x214ba8afbe0>]"
      ]
     },
     "execution_count": 9,
     "metadata": {},
     "output_type": "execute_result"
    },
    {
     "data": {
      "image/png": "[encoded data removed]",
      "text/plain": [
       "<Figure size 432x288 with 1 Axes>"
      ]
     },
     "metadata": {
      "needs_background": "light"
     },
     "output_type": "display_data"
    }
   ],
   "source": [
    "t = range(len(x))\n",
    "\n",
    "guess = integrate(weights, [0.1], t)\n",
    "\n",
    "plt.plot(x, 'k.')\n",
    "plt.plot(guess)"
   ]
  },
  {
   "cell_type": "markdown",
   "metadata": {},
   "source": [
    "## DF fitting"
   ]
  },
  {
   "cell_type": "code",
   "execution_count": 6,
   "metadata": {},
   "outputs": [
    {
     "name": "stdout",
     "output_type": "stream",
     "text": [
      "Train samples:  7910\n"
     ]
    }
   ],
   "source": [
    "data = dataset.ox_augmented()\n",
    "\n",
    "m2, m1 = make_targets_df(data)\n",
    "different = m1['ConfirmedCases'].reset_index(drop=True) != m2['ConfirmedCases'].reset_index(drop=True)\n",
    "m2, m1 = m2.loc[different], m1.loc[different]\n",
    "print('Train samples: ', len(m1.index))"
   ]
  },
  {
   "cell_type": "code",
   "execution_count": 7,
   "metadata": {},
   "outputs": [],
   "source": [
    "poly_args = {\n",
    "    'variables': ['ConfirmedCases', 'StringencyIndexForDisplay', 'SH.MED.BEDS.ZS', 'SH.MED.PHYS.ZS', 'SP.POP.TOTL'],\n",
    "    'time_dependent_variables': ['ConfirmedCases', 'StringencyIndexForDisplay'],\n",
    "    'predicted_variables': ['ConfirmedCases'],\n",
    "    'max_degree': 3\n",
    "}\n",
    "\n",
    "\n",
    "X, integration_args = make_polynomials_df(m1, **poly_args)"
   ]
  },
  {
   "cell_type": "code",
   "execution_count": 25,
   "metadata": {},
   "outputs": [
    {
     "data": {
      "text/plain": [
       "<tf.Tensor: shape=(21, 1), dtype=float32, numpy=\n",
       "array([[ 1.4317710e+00],\n",
       "       [ 1.4837592e-07],\n",
       "       [-8.1677246e-01],\n",
       "       [-1.2883226e-02],\n",
       "       [-3.8314691e-01],\n",
       "       [-2.2228117e+00],\n",
       "       [ 0.0000000e+00],\n",
       "       [-8.7026092e-07],\n",
       "       [ 1.1060908e-06],\n",
       "       [-3.3965765e-07],\n",
       "       [ 1.1838139e-06],\n",
       "       [ 5.4761499e-01],\n",
       "       [-2.3175746e-02],\n",
       "       [ 2.8944224e-01],\n",
       "       [ 3.0782580e-01],\n",
       "       [ 2.0609950e-01],\n",
       "       [-3.0290303e-01],\n",
       "       [-3.8556929e+00],\n",
       "       [-1.6119553e-02],\n",
       "       [ 8.4761429e+00],\n",
       "       [ 1.1267170e+00]], dtype=float32)>"
      ]
     },
     "execution_count": 25,
     "metadata": {},
     "output_type": "execute_result"
    }
   ],
   "source": [
    "weights, _ =  sparse_regression(X.values, m2[poly_args['predicted_variables']].values, cutoff=1e-10)\n",
    "integration_args['weights'] = weights\n",
    "weights"
   ]
  },
  {
   "cell_type": "markdown",
   "metadata": {},
   "source": [
    "### Cutoff plot"
   ]
  },
  {
   "cell_type": "code",
   "execution_count": 17,
   "metadata": {
    "hideCode": true
   },
   "outputs": [
    {
     "name": "stderr",
     "output_type": "stream",
     "text": [
      "100%|█████████████| 40/40 [00:01<00:00, 20.62it/s]\n"
     ]
    },
    {
     "data": {
      "text/plain": [
       "[]"
      ]
     },
     "execution_count": 17,
     "metadata": {},
     "output_type": "execute_result"
    },
    {
     "data": {
      "image/png": "[encoded data removed]",
      "text/plain": [
       "<Figure size 600x400 with 2 Axes>"
      ]
     },
     "metadata": {
      "needs_background": "light"
     },
     "output_type": "display_data"
    }
   ],
   "source": [
    "cutoffs = np.logspace(-3, 0, num=40)\n",
    "sparsity = []\n",
    "mses = []\n",
    "all_weights = []\n",
    "\n",
    "for k in tqdm(cutoffs, ncols=50):\n",
    "    weights, _ = sparse_regression(X.values, m2[poly_args['predicted_variables']].values, cutoff=k)\n",
    "    mse = ((tf.matmul(tf.cast(X.values, dtype=tf.float32), tf.cast(weights, dtype=tf.float32)) - m2[poly_args['predicted_variables']].values)**2).numpy().mean()\n",
    "    mses.append(mse)\n",
    "    sparsity.append((weights.numpy() == 0).sum()/len(weights.numpy().flatten()))\n",
    "    all_weights.append(weights)\n",
    "\n",
    "fig, ax1 = plt.subplots(dpi=100)\n",
    "\n",
    "color = 'tab:red'\n",
    "ax1.set_xlabel('Cutoff value')\n",
    "ax1.set_ylabel('Mean squared error', color=color)\n",
    "ax1.tick_params(axis='y', labelcolor=color)\n",
    "ax1.set_xscale('log')\n",
    "ax1.set_yscale('log')\n",
    "ax1.plot(cutoffs, mses, color=color, label='train mse')\n",
    "ax1.tick_params(axis='y')\n",
    "\n",
    "handles, labels = ax1.get_legend_handles_labels()\n",
    "\n",
    "ax2 = ax1.twinx()\n",
    "\n",
    "color = 'tab:blue'\n",
    "ax2.set_ylabel('Sparsity', color=color)\n",
    "ax2.plot(cutoffs, sparsity, color=color, label='sparsity')\n",
    "ax2.set_xscale('log')\n",
    "ax2.tick_params(axis='y', labelcolor=color)\n",
    "handles2, labels2 = ax2.get_legend_handles_labels()\n",
    "handles += handles2\n",
    "labels += labels2\n",
    "\n",
    "fig.legend(handles, labels, loc='upper left')\n",
    "\n",
    "fig.tight_layout()\n",
    "plt.plot()\n",
    "# plt.savefig('sparsity_vs_mse.png', dpi=100)\n"
   ]
  },
  {
   "cell_type": "markdown",
   "metadata": {},
   "source": [
    "### Integration"
   ]
  },
  {
   "cell_type": "code",
   "execution_count": 27,
   "metadata": {},
   "outputs": [
    {
     "data": {
      "image/png": "[encoded data removed]",
      "text/plain": [
       "<Figure size 432x288 with 1 Axes>"
      ]
     },
     "metadata": {
      "needs_background": "light"
     },
     "output_type": "display_data"
    }
   ],
   "source": [
    "country = 'France'\n",
    "\n",
    "country_data = data[data['CountryName'] == country]\n",
    "t = range(len(country_data.index) + (extrapolation:=40))\n",
    "high_data = data[(data['CountryName'] == country) & (data['ConfirmedCases'] > 50)]\n",
    "real_t = len(high_data.index)\n",
    "guess = integrate_df(real_trajectory=high_data, extrapolation=extrapolation, **integration_args, **poly_args)\n",
    "plt.plot(t[-real_t-extrapolation:], guess[:, 0], label='predictions')\n",
    "plt.plot(t[:-extrapolation], country_data['ConfirmedCases'], 'k.', label='real data')\n",
    "plt.legend()\n",
    "plt.title(country)\n",
    "plt.show()"
   ]
  }
 ],
 "metadata": {
  "kernelspec": {
   "display_name": "Python 3",
   "language": "python",
   "name": "python3"
  },
  "language_info": {
   "codemirror_mode": {
    "name": "ipython",
    "version": 3
   },
   "file_extension": ".py",
   "mimetype": "text/x-python",
   "name": "python",
   "nbconvert_exporter": "python",
   "pygments_lexer": "ipython3",
   "version": "3.8.2"
  }
 },
 "nbformat": 4,
 "nbformat_minor": 4
}
