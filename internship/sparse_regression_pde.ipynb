{
 "cells": [
  {
   "cell_type": "code",
   "execution_count": 1,
   "metadata": {},
   "outputs": [],
   "source": [
    "import tensorflow as tf\n",
    "import scipy.io as sio\n",
    "import numpy as np\n",
    "import matplotlib.pyplot as plt\n",
    "from itertools import combinations_with_replacement\n",
    "from tabulate import tabulate\n",
    "from mpl_toolkits.mplot3d import Axes3D\n",
    "\n",
    "def make_candidate_functions(data, max_derivation=3, max_degree=3, functions={}):\n",
    "    \"\"\"Returns the array and the number of transformations\"\"\"\n",
    "    def make_example(row, state_space):\n",
    "        example = [np.ones(state_space), row]\n",
    "        for k in range(max_derivation):\n",
    "            example.append(np.gradient(example[k + 1]))\n",
    "        return example\n",
    "    assert len(data.shape) == 2\n",
    "    state_space = data.shape[1]\n",
    "    result = []\n",
    "    for example in data:\n",
    "        row = []\n",
    "        # making an array with [1, x, y, ...]\n",
    "        example = make_example(example, state_space)\n",
    "        for indexes in combinations_with_replacement(range(max_derivation + 2), max_degree):\n",
    "            product = np.take(example, indexes, axis=0).prod(axis=0)\n",
    "            row.append(product)\n",
    "        result.append(row)\n",
    "    return np.transpose(np.array(result, dtype=np.float32), (0, 2, 1)), len(row)\n",
    "\n",
    "def flatten_data(augmented, targets):\n",
    "    augmented = augmented.reshape(augmented.shape[0]*augmented.shape[1], augmented.shape[2])\n",
    "    targets = targets.reshape(targets.shape[0]*targets.shape[1], 1)\n",
    "    return augmented, targets"
   ]
  },
  {
   "cell_type": "code",
   "execution_count": 2,
   "metadata": {},
   "outputs": [],
   "source": [
    "import codebase\n",
    "from codebase.data_generation import *\n",
    "from codebase.sparse_regression import *\n",
    "from codebase.utils import *"
   ]
  },
  {
   "cell_type": "code",
   "execution_count": 6,
   "metadata": {},
   "outputs": [],
   "source": [
    "heat = sio.loadmat('C:/Users/kipr/Downloads/heat.mat')['simple']\n",
    "hidden = sio.loadmat('C:/Users/kipr/Downloads/produced_data.mat')['solution']"
   ]
  },
  {
   "cell_type": "code",
   "execution_count": 13,
   "metadata": {},
   "outputs": [],
   "source": [
    "targets, m = make_targets(hidden, derivative=True)\n",
    "augmented, _ = make_candidate_functions(m, max_derivation=(deriv_deg:=2), max_degree=2)\n",
    "augmented, targets = flatten_data(augmented, targets)"
   ]
  },
  {
   "cell_type": "code",
   "execution_count": 15,
   "metadata": {},
   "outputs": [
    {
     "name": "stdout",
     "output_type": "stream",
     "text": [
      "mse=0.0002315423625987023\n"
     ]
    },
    {
     "data": {
      "text/markdown": [
       "| function      |   $\\dot{u}$ |\n",
       "|:--------------|------------:|\n",
       "| $1$           |      0      |\n",
       "| $ u$          |      0      |\n",
       "| $ u_x$        |      0      |\n",
       "| $ u_{xx}$     |     10.8436 |\n",
       "| $ u^2$        |      0      |\n",
       "| $ u u_x$      |      0      |\n",
       "| $ u u_{xx}$   |      0      |\n",
       "| $ u_x^2$      |      0      |\n",
       "| $ u_x u_{xx}$ |      0      |\n",
       "| $ u_{xx}^2$   |      0      |"
      ],
      "text/plain": [
       "<IPython.core.display.Markdown object>"
      ]
     },
     "metadata": {},
     "output_type": "display_data"
    }
   ],
   "source": [
    "weights, _ = sparse_regression(augmented, targets, cutoff=1e-1)\n",
    "\n",
    "print(f'mse={((targets - tf.matmul(augmented, weights))**2).numpy().mean()}')\n",
    "show_weights(weights, derivative=True, pde=deriv_deg)"
   ]
  },
  {
   "cell_type": "code",
   "execution_count": null,
   "metadata": {},
   "outputs": [],
   "source": []
  }
 ],
 "metadata": {
  "kernelspec": {
   "display_name": "Python 3",
   "language": "python",
   "name": "python3"
  },
  "language_info": {
   "codemirror_mode": {
    "name": "ipython",
    "version": 3
   },
   "file_extension": ".py",
   "mimetype": "text/x-python",
   "name": "python",
   "nbconvert_exporter": "python",
   "pygments_lexer": "ipython3",
   "version": "3.8.2"
  }
 },
 "nbformat": 4,
 "nbformat_minor": 4
}
