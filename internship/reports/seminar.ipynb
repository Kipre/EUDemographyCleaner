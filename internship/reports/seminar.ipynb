{
 "cells": [
  {
   "cell_type": "code",
   "execution_count": null,
   "metadata": {
    "slideshow": {
     "slide_type": "skip"
    }
   },
   "outputs": [],
   "source": [
    "!jupyter nbconvert seminar.ipynb --to slides --post serve "
   ]
  },
  {
   "cell_type": "code",
   "execution_count": 2,
   "metadata": {
    "hideCode": false,
    "hidePrompt": false,
    "slideshow": {
     "slide_type": "skip"
    }
   },
   "outputs": [],
   "source": [
    "import numpy as np\n",
    "import sys\n",
    "import os\n",
    "from scipy.io import loadmat\n",
    "import pandas as pd\n",
    "import matplotlib.pyplot as plt\n",
    "import matplotlib.image as mpimg\n",
    "import ipywidgets as widgets\n",
    "from IPython.display import display\n",
    "sys.path.append(os.path.abspath('..'))\n",
    "import codebase\n",
    "from codebase.data_generation import *\n",
    "from codebase.sparse_regression import *\n",
    "from codebase.utils import *\n",
    "%load_ext autoreload"
   ]
  },
  {
   "cell_type": "code",
   "execution_count": 3,
   "metadata": {
    "hideCode": false,
    "hidePrompt": false,
    "slideshow": {
     "slide_type": "skip"
    }
   },
   "outputs": [],
   "source": [
    "raw_data = pd.read_csv('https://raw.githubusercontent.com/OxCGRT/covid-policy-tracker/master/data/OxCGRT_latest.csv', parse_dates=['Date'])\n",
    "original_data = raw_data.sort_values(['CountryCode', 'Date']).copy()\n",
    "first_values = original_data.sort_values(['CountryCode', 'Date'])['CountryCode'].drop_duplicates()\n",
    "today_values = original_data[original_data['Date'].dt.date == pd.Timestamp.today().date()]\n",
    "original_data = original_data[['CountryName', 'CountryCode', 'Date', 'ConfirmedCases', 'ConfirmedDeaths', 'StringencyIndexForDisplay']].drop(today_values.index)\n",
    "original_data.loc[first_values.index] = 0\n",
    "original_data = original_data.fillna(method='bfill')\n",
    "\n",
    "py_odes = loadmat('C:/Users/kipr/Documents/GitHub/files/internship/data/py_odes.mat')\n",
    "cubic_oscillator = py_odes['cubic_oscillator']\n",
    "t = py_odes['t'][0]\n",
    "\n",
    "\n",
    "def get_data(country):\n",
    "    return original_data[original_data['CountryName'] == country].copy()\n",
    "\n",
    "def get_trajectory(country, rescaling=1000):\n",
    "    return get_data(country)['ConfirmedCases'].values.reshape(-1, 1)/rescaling\n",
    "\n",
    "\n",
    "def show_trajectory(country, length=100):\n",
    "    trajectory = get_trajectory(country)\n",
    "    guess = integrate(weights, [0.5], \n",
    "                      np.arange(0, length), \n",
    "                      derivative=derivative)\n",
    "\n",
    "    guess = np.clip(guess, a_min=-1, a_max=2*max(trajectory))\n",
    "\n",
    "    plt.figure(dpi=100)\n",
    "    plt.plot(trajectory, 'k.', label='real')\n",
    "    plt.plot(guess, label='predicted')\n",
    "    plt.title(country)\n",
    "    plt.legend()\n",
    "    plt.show()\n"
   ]
  },
  {
   "cell_type": "markdown",
   "metadata": {
    "hideCode": false,
    "hidePrompt": false,
    "slideshow": {
     "slide_type": "slide"
    }
   },
   "source": [
    "\n",
    "# Data-driven COVID-19 modeling\n",
    "\n",
    "<center><img src=\"image.png\" width=\"400\"></img></center>\n",
    "\n",
    "\n",
    "Cyprien Neverov<small><sup>1</sup></small>\n",
    "\n",
    "May 5<sup>th</sup>, 2020\n",
    "\n",
    "\n",
    "---\n",
    "<small>\n",
    "<sup>1</sup>\n",
    "Student at IMT Mines Ales and intern at FAU Erlangen-Nurnberg under the supervision of Prof. Zuazua.\n",
    "</small>"
   ]
  },
  {
   "cell_type": "markdown",
   "metadata": {
    "hideCode": false,
    "hidePrompt": false,
    "slideshow": {
     "slide_type": "slide"
    }
   },
   "source": [
    "## Table of Contents\n",
    "\n",
    "1. Introduction and data-driven system identification\n",
    "2. COVID-19 evolution in different countries\n",
    "3. Global evolution\n",
    "\n"
   ]
  },
  {
   "cell_type": "markdown",
   "metadata": {
    "hideCode": false,
    "hidePrompt": false,
    "slideshow": {
     "slide_type": "slide"
    }
   },
   "source": [
    "## 1. Introduction and data-driven system identification\n",
    "\n",
    "Identifying the dynamics from data is becoming a key challenge because:\n",
    " - Data acquisition is getting cheaper\n",
    " - Problems are getting more complex\n",
    " - Computational power is cheap\n",
    "\n",
    "\n"
   ]
  },
  {
   "cell_type": "markdown",
   "metadata": {
    "hideCode": false,
    "hidePrompt": false,
    "slideshow": {
     "slide_type": "slide"
    }
   },
   "source": [
    "### Sparse identification of nonlinear dynamical systems\n",
    "\n",
    "Approach proposed by S. Brunton in [1]. \n",
    "\n",
    "- Uses sparse regression\n",
    "- Relies on a set of candidate functions\n",
    "\n",
    "Expresses the dynamics as a function $f$ which is a linear combination of the candidate functions:\n",
    "\n",
    "$$\\frac{dx}{dt}(t) = f(x(t))$$\n",
    "\n",
    "where $x$ is the state of the system."
   ]
  },
  {
   "cell_type": "markdown",
   "metadata": {
    "hideCode": false,
    "hidePrompt": false,
    "slideshow": {
     "slide_type": "subslide"
    }
   },
   "source": [
    "#### 1. Make two matrices \n",
    "Let's say that we have observed the system at $t_1, t_2, ..., t_m$ and either observed or numerically computed its time derivative at those time points, then we can construct the two following matrices:\n",
    "\n",
    "$$\\dot{X} = \n",
    "\\begin{bmatrix}\n",
    "\\frac{dx}{dt}(t_1) \\\\\n",
    "\\frac{dx}{dt}(t_2) \\\\\n",
    "\\vdots \\\\\n",
    "\\frac{dx}{dt}(t_m)\n",
    "\\end{bmatrix}\n",
    "\\text{ and }\n",
    "X = \n",
    "\\begin{bmatrix}\n",
    "x(t_1) \\\\\n",
    "x(t_2) \\\\\n",
    "\\vdots \\\\\n",
    "x(t_m)\n",
    "\\end{bmatrix}\n",
    "$$\n"
   ]
  },
  {
   "cell_type": "markdown",
   "metadata": {
    "hideCode": false,
    "hidePrompt": false,
    "slideshow": {
     "slide_type": "subslide"
    }
   },
   "source": [
    "#### 2. Augment the state matrix\n",
    "And then we can augment the $X$ matrix with the candidate functions $f_1, f_2, \\dots, f_p$ this will yield $\\theta(X)$:\n",
    "$$\\theta(X) = \n",
    "\\begin{bmatrix}\n",
    "f_1(x(t_1)) & f_2(x(t_1)) & \\cdots & f_p(x(t_1))\\\\\n",
    "f_1(x(t_2)) & f_2(x(t_2)) & \\cdots & f_p(x(t_2))\\\\\n",
    "\\vdots & \\vdots  & \\ddots & \\vdots\\\\\n",
    "f_1(x(t_m)) & f_2(x(t_m)) & \\cdots & f_p(x(t_m))\\\\\n",
    "\\end{bmatrix}\n",
    "$$\n",
    "\n"
   ]
  },
  {
   "cell_type": "markdown",
   "metadata": {
    "hideCode": false,
    "hidePrompt": false,
    "slideshow": {
     "slide_type": "subslide"
    }
   },
   "source": [
    "#### 3. Solve the linear least squares\n",
    "\n",
    "Now we want to find a matrix $\\xi$ that is a solution to:\n",
    "\n",
    "$$\\dot{X} = \\theta(X)\\xi$$\n",
    "\n",
    "in the least squares sense. The sparsity is achieved by running the optimization several times and gradually zeroing out the values that are under a cut-off value."
   ]
  },
  {
   "cell_type": "markdown",
   "metadata": {
    "hideCode": false,
    "hidePrompt": false,
    "slideshow": {
     "slide_type": "subslide"
    }
   },
   "source": [
    "#### Discretized formulation\n",
    "\n",
    "This algorithm also works in an iterative manner, when instead of $\\dot{X}$ we have $X_2$:\n",
    "\n",
    "$$\n",
    "X_2 = \n",
    "\\begin{bmatrix}\n",
    "x(t_2) \\\\\n",
    "x(t_3) \\\\\n",
    "\\vdots \\\\\n",
    "x(t_m)\n",
    "\\end{bmatrix}\n",
    "\\text{ and }\n",
    "X = \n",
    "\\begin{bmatrix}\n",
    "x(t_1) \\\\\n",
    "x(t_2) \\\\\n",
    "\\vdots \\\\\n",
    "x(t_{m-1})\n",
    "\\end{bmatrix}\n",
    "$$\n",
    "\n",
    "and then we seek to solve $X_2 = \\theta(X)\\xi$\n"
   ]
  },
  {
   "cell_type": "markdown",
   "metadata": {
    "hideCode": false,
    "hidePrompt": false,
    "slideshow": {
     "slide_type": "slide"
    }
   },
   "source": [
    "### Simple example\n",
    "\n",
    "Oscillator with a cubic nonlinearity:\n",
    "\n",
    "\\begin{align}\n",
    "    \\dot{x} & = -0.1x^3 + 2y^3 \\\\\n",
    "    \\dot{y} & = -2x^3 -0.1y^3 \n",
    "\\end{align}\n",
    "\n",
    "From now on we will consider only polynomial terms of the variables as candidate functions: $x, y, x^2, xy, y^2, x^3, \\dots, y^p$.\n"
   ]
  },
  {
   "cell_type": "code",
   "execution_count": 3,
   "metadata": {
    "hideCode": true,
    "hidePrompt": false,
    "scrolled": false,
    "slideshow": {
     "slide_type": "fragment"
    }
   },
   "outputs": [
    {
     "data": {
      "image/png": "[encoded data removed]",
      "text/plain": [
       "<Figure size 600x400 with 1 Axes>"
      ]
     },
     "metadata": {
      "needs_background": "light"
     },
     "output_type": "display_data"
    }
   ],
   "source": [
    "plt.figure(dpi=100)\n",
    "plt.plot(cubic_oscillator[:, 0], label='x')\n",
    "plt.plot(cubic_oscillator[:, 1], label='y')\n",
    "plt.legend()\n",
    "plt.xlabel('time')\n",
    "plt.ylabel('state')\n",
    "plt.title('Cubic oscillator')\n",
    "plt.show()"
   ]
  },
  {
   "cell_type": "code",
   "execution_count": 4,
   "metadata": {
    "hideCode": false,
    "hidePrompt": false,
    "scrolled": false,
    "slideshow": {
     "slide_type": "subslide"
    }
   },
   "outputs": [
    {
     "data": {
      "text/markdown": [
       "| function   |   $\\dot{x}$ |   $\\dot{y}$ |\n",
       "|:-----------|------------:|------------:|\n",
       "| $1$        |     0       |   0         |\n",
       "| $ x$       |     0       |   0         |\n",
       "| $ y$       |     0       |   0         |\n",
       "| $ x^2$     |     0       |   0         |\n",
       "| $ x y$     |     0       |   0         |\n",
       "| $ y^2$     |     0       |   0         |\n",
       "| $ x^3$     |    -0.10289 |  -1.983     |\n",
       "| $ x^2 y$   |     0       |   0         |\n",
       "| $ x y^2$   |     0       |   0         |\n",
       "| $ y^3$     |     1.98221 |  -0.0941117 |"
      ],
      "text/plain": [
       "<IPython.core.display.Markdown object>"
      ]
     },
     "metadata": {},
     "output_type": "display_data"
    }
   ],
   "source": [
    "X_dot, X = make_targets(cubic_oscillator, derivative=True)\n",
    "\n",
    "theta_X, _ = make_polynomials(X, max_degree=3)\n",
    "\n",
    "weights, _ = sparse_regression(theta_X, X_dot, cutoff=1e-3)\n",
    "weights /= t[1]\n",
    "\n",
    "show_weights(weights, derivative=True)"
   ]
  },
  {
   "cell_type": "markdown",
   "metadata": {
    "hideCode": false,
    "hidePrompt": false,
    "slideshow": {
     "slide_type": "slide"
    }
   },
   "source": [
    "## 2. Applying system identification to COVID-19\n",
    "\n",
    "The trajectories of cumulative cases:"
   ]
  },
  {
   "cell_type": "code",
   "execution_count": 5,
   "metadata": {
    "hideCode": true,
    "hidePrompt": false,
    "scrolled": false
   },
   "outputs": [
    {
     "data": {
      "image/png": "[encoded data removed]",
      "text/plain": [
       "<Figure size 780x520 with 1 Axes>"
      ]
     },
     "metadata": {
      "needs_background": "light"
     },
     "output_type": "display_data"
    }
   ],
   "source": [
    "countries_to_display = ['China', 'South Korea', 'France', 'Spain', 'Germany', 'Uruguay']\n",
    "\n",
    "plt.figure(dpi=130)\n",
    "for country in countries_to_display:\n",
    "    values = get_data(country)\n",
    "    plt.plot(values['ConfirmedCases'].values, label=country)\n",
    "plt.legend()\n",
    "plt.xlabel('time')\n",
    "plt.ylabel('cumulative cases')\n",
    "plt.show()"
   ]
  },
  {
   "cell_type": "code",
   "execution_count": 129,
   "metadata": {
    "hideCode": false,
    "hidePrompt": false,
    "scrolled": false,
    "slideshow": {
     "slide_type": "subslide"
    }
   },
   "outputs": [
    {
     "data": {
      "text/markdown": [
       "| function   |    $\\dot{x}$ |\n",
       "|:-----------|-------------:|\n",
       "| $1$        |  0.00896544  |\n",
       "| $ x$       |  0.221242    |\n",
       "| $ x^2$     | -0.00180733  |\n",
       "| $ x^3$     |  3.79674e-06 |"
      ],
      "text/plain": [
       "<IPython.core.display.Markdown object>"
      ]
     },
     "metadata": {},
     "output_type": "display_data"
    },
    {
     "data": {
      "image/png": "[encoded data removed]",
      "text/plain": [
       "<Figure size 600x400 with 1 Axes>"
      ]
     },
     "metadata": {
      "needs_background": "light"
     },
     "output_type": "display_data"
    }
   ],
   "source": [
    "country = 'Spain'\n",
    "X_dot, X = make_targets(get_trajectory(country, rescaling=1000)[:-1], derivative=(derivative:=True))\n",
    "theta_X, _ = make_polynomials(X, max_degree=3)\n",
    "weights, _ = sparse_regression(theta_X, X_dot, cutoff=1e-7)\n",
    "show_weights(weights, derivative=derivative)\n",
    "show_trajectory(country)"
   ]
  },
  {
   "cell_type": "markdown",
   "metadata": {
    "hideCode": false,
    "hidePrompt": false,
    "slideshow": {
     "slide_type": "subslide"
    }
   },
   "source": [
    "### Observations\n",
    "\n",
    "- A single trajectory can be described by only two or three parameters.\n",
    "- We do not have the complete evolutions for most of the countries.\n",
    "\n",
    "How can we use the information from countries that are more advanced into the epidemic to make predictions for countries at a more early stage ?"
   ]
  },
  {
   "cell_type": "markdown",
   "metadata": {
    "hideCode": false,
    "hidePrompt": false,
    "slideshow": {
     "slide_type": "slide"
    }
   },
   "source": [
    "## 3. Global model\n",
    "\n",
    "What if the evolution of the number of cases in several countries could be governed by a single formula?\n",
    "\n",
    "This would require additional information:\n",
    "- Information about the countries\n",
    "- Information about the measures taken by the governments to tackle the spread of the disease\n",
    "\n",
    "We would like to find a function $f$ such that for any country $c$, at any day $t$, we have:\n",
    "\n",
    "$$x_{t+1, c} = f(x_{t, c}, i_{t, c})$$\n",
    "\n",
    "Where $i$ is this additional information.\n"
   ]
  },
  {
   "cell_type": "markdown",
   "metadata": {
    "hideCode": false,
    "hidePrompt": false,
    "slideshow": {
     "slide_type": "slide"
    }
   },
   "source": [
    "### Information about the countries\n",
    "\n",
    "List of country indicators relevant to the pandemic by the World Bank [2], divided into 3 categories:\n",
    "\n",
    "- Health: general information about health infrastructure, economics and mortality causes.\n",
    "- Water & Sanitation: information about hygiene.\n",
    "- Age & Population: demographic indicators.\n",
    "\n"
   ]
  },
  {
   "cell_type": "markdown",
   "metadata": {
    "hideCode": false,
    "hidePrompt": false,
    "slideshow": {
     "slide_type": "slide"
    }
   },
   "source": [
    "\n",
    "### Information about the government measures\n",
    "\n",
    "Social distancing measures had a huge impact on the development of the disease and we want to take them into account. We use a \"Stringency Index\" provided by a group of researchers from Oxford [3].\n",
    "- An aggregation of policy indicators: information on containment and closure policies, such as school closures and restrictions in movement.\n",
    "- Should not be interpreted as effectiveness of the measures.\n"
   ]
  },
  {
   "cell_type": "markdown",
   "metadata": {
    "hideCode": false,
    "hidePrompt": false,
    "slideshow": {
     "slide_type": "subslide"
    }
   },
   "source": [
    "#### Examples of Sringency Index"
   ]
  },
  {
   "cell_type": "code",
   "execution_count": 41,
   "metadata": {
    "hideCode": true,
    "hidePrompt": false,
    "scrolled": false
   },
   "outputs": [
    {
     "data": {
      "application/vnd.jupyter.widget-view+json": {
       "model_id": "d6638019f4a84accbafb1ab6e2675ea8",
       "version_major": 2,
       "version_minor": 0
      },
      "text/plain": [
       "interactive(children=(Dropdown(description='country', options=('Aruba', 'Afghanistan', 'Angola', 'Albania', 'A…"
      ]
     },
     "metadata": {},
     "output_type": "display_data"
    }
   ],
   "source": [
    "list_countries = list(filter(lambda x: x!= 0, original_data['CountryName'].unique()))\n",
    "\n",
    "\n",
    "def plot_cases_and_stringency(country):\n",
    "    country_data = get_data(country)\n",
    "\n",
    "    fig, ax1 = plt.subplots(dpi=100)\n",
    "\n",
    "    color = 'tab:red'\n",
    "    ax1.set_xlabel('time')\n",
    "    ax1.set_ylabel('Cases')\n",
    "    ax1.plot(country_data['ConfirmedCases'].values[:-1], 'k.', label='cases')\n",
    "    ax1.tick_params(axis='y')\n",
    "\n",
    "    ax2 = ax1.twinx()\n",
    "\n",
    "    color = 'tab:blue'\n",
    "    ax2.set_ylabel('Stringency', color=color)\n",
    "    ax2.plot(country_data['StringencyIndexForDisplay'].values[:-1], color=color)\n",
    "    ax2.tick_params(axis='y', labelcolor=color)\n",
    "\n",
    "    fig.tight_layout()\n",
    "    plt.title(country)\n",
    "    plt.show()\n",
    "    \n",
    "widgets.interact(plot_cases_and_stringency, country=list_countries);"
   ]
  },
  {
   "cell_type": "markdown",
   "metadata": {
    "hideCode": false,
    "hidePrompt": false,
    "slideshow": {
     "slide_type": "slide"
    }
   },
   "source": [
    "### Putting it all together\n",
    "\n",
    "Here is a description of the information that was used for the model:\n",
    "\n",
    "| Variable  | Explanation  | Nature  |\n",
    "|---|---|---|\n",
    "| $x_t$  | The state of the system: the number of cases in the country  | The state, time-dependent  |\n",
    "| $i_{1, t}$  |  Stringency index: how severe are the containment measures. (the control) | Time-dependent  |\n",
    "| $i_{2}$ | Human development index  | Constant  |\n",
    "| $i_{3}$ | Total population  | Constant  |\n",
    "| $i_{4}$ | Population ages 65 and above (% of total)  | Constant  |\n",
    "| $i_{5}$ | Hospital beds (per 1,000 people)  |  Constant |\n",
    "| ... | ...  | ...  |\n",
    "| $i_{40}$ | Cause of death, by injury (% of total)  | Constant  |\n",
    "\n",
    "\n",
    "\n",
    "We want to find a general formula of the following form<small><sup>1</sup></small>:\n",
    "\n",
    "$$x_{t+1} = f(x_t, i_{1, t}, i_2, i_3, i_4, ... , i_{40})$$ \n",
    "\n",
    "-----\n",
    "<small><sup>1</sup>The country indexes were omitted for better readability.</small>"
   ]
  },
  {
   "cell_type": "markdown",
   "metadata": {
    "hideCode": false,
    "hidePrompt": false,
    "slideshow": {
     "slide_type": "subslide"
    }
   },
   "source": [
    "This what the two matrices will look like for a single country:\n",
    "\n",
    "$$\n",
    "X_{2, c} = \n",
    "\\begin{bmatrix}\n",
    "x_{t_2, c} \\\\\n",
    "x_{t_3, c} \\\\\n",
    "\\vdots \\\\\n",
    "x_{t_n, c} \\\\\n",
    "\\end{bmatrix}\n",
    "\\text{ and }\n",
    "X_{1, c} = \n",
    "\\begin{bmatrix}\n",
    "x_{t_1, c} & i_{t_1, 1, c} & i_{2, c} & \\cdots & i_{40, c} & \\\\\n",
    "x_{t_2, c} & i_{t_2, 1, c} & i_{2, c} & \\cdots& i_{40, c} & \\\\\n",
    "\\vdots  & \\vdots & \\vdots & \\ddots & \\vdots & \\\\\n",
    "x_{t_{n - 1}, c} & i_{t_{n - 1}, 1, c} & i_{2, c} & \\cdots & i_{40, c}\n",
    "\\end{bmatrix}\n",
    "$$\n",
    "\n",
    "And then we stack them:\n",
    "\n",
    "$$\n",
    "X_{2} = \n",
    "\\begin{bmatrix}\n",
    "X_{2, c_1} \\\\\n",
    "X_{2, c_2} \\\\\n",
    "\\vdots \\\\\n",
    "X_{2, c_m} \\\\\n",
    "\\end{bmatrix}\n",
    "\\text{ and }\n",
    "X = \n",
    "\\begin{bmatrix}\n",
    "X_{1, c_1} \\\\\n",
    "X_{1, c_2} \\\\\n",
    "\\vdots \\\\\n",
    "X_{1, c_m} \\\\\n",
    "\\end{bmatrix}\n",
    "$$\n"
   ]
  },
  {
   "cell_type": "markdown",
   "metadata": {
    "hideCode": false,
    "hidePrompt": false,
    "slideshow": {
     "slide_type": "slide"
    }
   },
   "source": [
    "### Fitting\n",
    "\n",
    "Experimental setting:\n",
    "\n",
    "- 4857 training examples (rows in the $X$ and $X_2$ matrices) and 1028 test examples for 105 and 26 countries respectively. \n",
    "- 42 variables (state + stringency + indicators). \n",
    "- Polynomial terms with a maximum degree of 3.\n",
    "- We neglect the terms that are constant with respect to the state.\n",
    "- This yields more than 800 polynomial terms. \n",
    "\n",
    "The number of polynomial terms is equal to $\\frac{(n + r - 1)!}{ r! (n - 1)! }$ where $n$ is the number of variables and $r$ the maximum degree.\n",
    "\n"
   ]
  },
  {
   "cell_type": "markdown",
   "metadata": {
    "hideCode": false,
    "hidePrompt": false,
    "slideshow": {
     "slide_type": "slide"
    }
   },
   "source": [
    "### Influence of the cutoff value\n",
    "\n",
    "Choosing a cutoff value is not trivial.\n",
    "\n",
    "![](../sparsity_vs_mse.png)"
   ]
  },
  {
   "cell_type": "markdown",
   "metadata": {
    "hideCode": false,
    "hidePrompt": false,
    "slideshow": {
     "slide_type": "slide"
    }
   },
   "source": [
    "### Results on countries from the training set"
   ]
  },
  {
   "cell_type": "code",
   "execution_count": 4,
   "metadata": {
    "hideCode": true,
    "hidePrompt": false
   },
   "outputs": [
    {
     "data": {
      "application/vnd.jupyter.widget-view+json": {
       "model_id": "5b4e7f50ccfa412392db27aadd8bbdbe",
       "version_major": 2,
       "version_minor": 0
      },
      "text/plain": [
       "interactive(children=(Dropdown(description='country', options=('United Arab Emirates', 'Australia', 'Austria',…"
      ]
     },
     "metadata": {},
     "output_type": "display_data"
    }
   ],
   "source": [
    "train_countries = ['United Arab Emirates', 'Australia', 'Austria', 'Belgium', 'Brazil', 'Canada', 'Switzerland', 'China', 'Czech Republic', 'Germany', 'Dominican Republic', 'Ecuador', 'Egypt', 'Spain', 'France', 'United Kingdom', 'Indonesia', 'India', 'Iran', 'Israel', 'Italy', 'Japan', 'South Korea', 'Mexico', 'Malaysia', 'Netherlands', 'Norway', 'Pakistan', 'Peru', 'Philippines', 'Portugal', 'Romania', 'Russia', 'Saudi Arabia', 'Singapore', 'Serbia', 'Sweden', 'Turkey', 'Ukraine', 'United States']\n",
    "test_countries = ['Poland', 'Chile', 'Colombia', 'South Africa', 'Panama', 'Ireland', 'Qatar', 'Denmark', 'Bangladesh']\n",
    "configs = [('cutoff=1e-4, sparsity=0%', 'plots'), ('cutoff=1, sparsity=98%', 'test_plots')]\n",
    "\n",
    "def plot(country, config):\n",
    "    plt.figure(dpi=150)\n",
    "    img = mpimg.imread(f'../{config}/{country}.png')\n",
    "    imgplot = plt.imshow(img)\n",
    "    plt.axis('off')\n",
    "    plt.show()\n",
    "\n",
    "widgets.interact(plot, country=train_countries, config=configs);"
   ]
  },
  {
   "cell_type": "markdown",
   "metadata": {
    "hideCode": false,
    "hidePrompt": false,
    "slideshow": {
     "slide_type": "slide"
    }
   },
   "source": [
    "### Results on test countries"
   ]
  },
  {
   "cell_type": "code",
   "execution_count": 5,
   "metadata": {
    "hideCode": true,
    "hidePrompt": false,
    "scrolled": false
   },
   "outputs": [
    {
     "data": {
      "application/vnd.jupyter.widget-view+json": {
       "model_id": "0e2ed06a9d4b47568f6c1238728f9767",
       "version_major": 2,
       "version_minor": 0
      },
      "text/plain": [
       "interactive(children=(Dropdown(description='country', options=('Poland', 'Chile', 'Colombia', 'South Africa', …"
      ]
     },
     "metadata": {},
     "output_type": "display_data"
    }
   ],
   "source": [
    "widgets.interact(plot, country=test_countries, config=configs);"
   ]
  },
  {
   "cell_type": "markdown",
   "metadata": {
    "hideCode": false,
    "hidePrompt": false,
    "slideshow": {
     "slide_type": "slide"
    }
   },
   "source": [
    "### Other configurations\n",
    "\n",
    "Other configurations were tried:\n",
    "\n",
    "- Different state: cumulative number of cases divided by the total population.\n",
    "- Including different precedent states of both the state and stringency.\n",
    "\n",
    "But not all possible:\n",
    "\n",
    "- Number of tests per countries.\n",
    "- Climatic indicators an others.\n",
    "- Excluding countries with low numbers and very chaotic trajectories."
   ]
  },
  {
   "cell_type": "markdown",
   "metadata": {
    "hideCode": false,
    "hidePrompt": false,
    "slideshow": {
     "slide_type": "subslide"
    }
   },
   "source": [
    "### From a Machine Learning perspective\n",
    "\n",
    "We are trying to do two tasks at the same time:\n",
    "\n",
    "1. Predict the global parameters of the evolution in a country given the indicators (general regression).\n",
    "2. Predict the day by day evolution (time-series forecasting).\n",
    "\n",
    "We should probably use different models.\n"
   ]
  },
  {
   "cell_type": "markdown",
   "metadata": {
    "slideshow": {
     "slide_type": "subslide"
    }
   },
   "source": [
    "### From an epidemiological perspective\n",
    "\n",
    "Standard epidemiological models study the interaction between different compartments of the population:\n",
    " - $S$ the number of susceptible people, \n",
    " - $I$ the number of infected, \n",
    " - $R$ the number of recovered people.\n",
    "\n",
    "They were first introduced in [4].\n",
    "\n",
    "We might want to use this well-established knowledge."
   ]
  },
  {
   "cell_type": "markdown",
   "metadata": {
    "slideshow": {
     "slide_type": "slide"
    }
   },
   "source": [
    "## Conclusion - Future directions\n",
    "\n",
    "- Single-country evolutions are learned well.\n",
    "- With a big amount of variables the model overfits.\n",
    "\n",
    "We will:\n",
    "\n",
    "- Try to get closer to SIR-based models\n",
    "- Try to keep the idea of working with multiple countries at the same time to extract knowledge.\n",
    "\n"
   ]
  },
  {
   "cell_type": "markdown",
   "metadata": {
    "hideCode": false,
    "hidePrompt": false,
    "slideshow": {
     "slide_type": "slide"
    }
   },
   "source": [
    "## References\n",
    "\n",
    "\n",
    "[1] Brunton, Steven L., Joshua L. Proctor, and J. Nathan Kutz. 2016. “Discovering Governing Equations from Data by Sparse Identification of Nonlinear Dynamical Systems.” <em>Proceedings of the National Academy of Sciences</em> 113 (15): 3932–7. <a href=\"https://doi.org/10.1073/pnas.1517384113\">https://doi.org/10.1073/pnas.1517384113</a>.\n",
    "\n",
    "\n",
    "[2] Hale, Thomas, Sam Webster, Anna Petherick, Toby Phillips, and Beatriz Kira. 2020. “Oxford COVID-19 Government Response Tracker.” <em>Blavatnik School of Government</em>. <a href=\"https://github.com/OxCGRT/covid-policy-tracker/\">https://github.com/OxCGRT/covid-policy-tracker/</a>.\n",
    "\n",
    "[3] “Understanding the Coronavirus (COVID-19) Pandemic Through Data. World Bank.” n.d. <a href=\"http://datatopics.worldbank.org/universal-health-coverage/covid19/\">http://datatopics.worldbank.org/universal-health-coverage/covid19/</a>.\n",
    "\n",
    "[4] Kermack, William Ogilvy, A. G. McKendrick, and Gilbert Thomas Walker. 1997. “A Contribution to the Mathematical Theory of Epidemics.” <em>Proc. R. Soc. Lond.</em> 12: 700–721. <a href=\"https://doi.org/10.1098/rspa.1927.0118\">https://doi.org/10.1098/rspa.1927.0118</a>."
   ]
  },
  {
   "cell_type": "markdown",
   "metadata": {
    "hideCode": false,
    "hidePrompt": false,
    "slideshow": {
     "slide_type": "skip"
    }
   },
   "source": [
    "## Appendix"
   ]
  },
  {
   "cell_type": "markdown",
   "metadata": {
    "hideCode": false,
    "hidePrompt": false,
    "slideshow": {
     "slide_type": "skip"
    }
   },
   "source": [
    "### Indicators\n",
    "\n",
    "```\n",
    "Hospital beds (per 1,000 people),\n",
    "Physicians (per 1,000 people),\n",
    "Nurses and midwives (per 1,000 people),\n",
    "UHC service coverage index,\n",
    "Human development index,\n",
    "Current health expenditure (% of GDP),\n",
    "Current health expenditure per capita (current US$),\n",
    "Current health expenditure per capita, PPP (current international $),\n",
    "Out-of-pocket expenditure (% of current health expenditure),\n",
    "Out-of-pocket expenditure per capita (current US$),\n",
    "Out-of-pocket expenditure per capita, PPP (current international $),\n",
    "Diabetes prevalence (% of population ages 20 to 79),\n",
    "Life expectancy at birth, female (years),\n",
    "Life expectancy at birth, total (years),\n",
    "Life expectancy at birth, male (years),\n",
    "Mortality rate, adult, female (per 1,000 female adults),\n",
    "Mortality rate, adult, male (per 1,000 male adults),\n",
    "Mortality from CVD, cancer, diabetes or CRD between exact ages 30 and 70 (%),\n",
    "Mortality from CVD, cancer, diabetes or CRD between exact ages 30 and 70, female (%),\n",
    "Mortality from CVD, cancer, diabetes or CRD between exact ages 30 and 70, male (%),\n",
    "Cause of death, by communicable diseases and maternal, prenatal and nutrition conditions (% of total),\n",
    "Cause of death, by injury (% of total),\n",
    "Cause of death, by non-communicable diseases (% of total),\n",
    "People using at least basic drinking water services (% of population),\n",
    "People using at least basic sanitation services (% of population),\n",
    "Population ages 80 and above, female (% of female population),\n",
    "Population ages 80 and above, male (% of male population),\n",
    "Population ages 65 and above, female (% of total),\n",
    "Population ages 65 and above, male (% of total),\n",
    "Population ages 65 and above (% of total),\n",
    "Population ages 0-14, female (% of female population),\n",
    "Population ages 0-14, male (% of male population),\n",
    "Population ages 0-14 (% of total population),\n",
    "Population ages 15-64, female (% of female population),\n",
    "Population ages 15-64, male (% of male population),\n",
    "Population ages 15-64 (% of total population),\n",
    "Total population\n",
    "```"
   ]
  },
  {
   "cell_type": "markdown",
   "metadata": {
    "hideCode": false,
    "hidePrompt": false,
    "slideshow": {
     "slide_type": "skip"
    }
   },
   "source": [
    "### Importance of the indicators\n",
    "\n",
    "Let the importance of a variable be the normalized sum of the absolute value of the coefficients of the polynomial terms where this variable appears.\n",
    "\n"
   ]
  },
  {
   "cell_type": "markdown",
   "metadata": {
    "hideCode": false,
    "hidePrompt": false,
    "slideshow": {
     "slide_type": "skip"
    }
   },
   "source": [
    "#### For a cutoff value of $10^{-4}$ and sparsity of $0$%\n",
    "\n",
    "<img src='importances_train.png' width='700'></img>\n",
    "\n",
    "<!-- ![](importances_train.png) -->"
   ]
  },
  {
   "cell_type": "markdown",
   "metadata": {
    "hideCode": false,
    "hidePrompt": false,
    "slideshow": {
     "slide_type": "skip"
    }
   },
   "source": [
    "#### For a cutoff value of $1$ and sparsity of $98$%\n",
    "\n",
    "![](importances_test.png)"
   ]
  },
  {
   "cell_type": "markdown",
   "metadata": {
    "hideCode": false,
    "hidePrompt": false,
    "slideshow": {
     "slide_type": "skip"
    }
   },
   "source": [
    "### Logistic trajectories\n",
    "\n",
    "Most of the trajectories have an evolution close to a logistic function:\n",
    "\n",
    "$$x(t) = \\frac{a}{1+e^{-b(t-c)}}$$\n",
    "\n",
    "Where $a, b$ and $c$ are the parameters.\n",
    "\n",
    "Since the derivative of a logistic function is: $\\frac{dx}{dt}(t) = x(t)\\times (1 - x(t))$ we should be able to have some baseline results with polynomials of a maximum degree of 2.\n",
    "\n",
    "\n"
   ]
  },
  {
   "cell_type": "markdown",
   "metadata": {
    "hideCode": false,
    "hidePrompt": false,
    "slideshow": {
     "slide_type": "skip"
    }
   },
   "source": [
    "### Integrating the identified system\n",
    "\n",
    "We can easily generate a trajectory with $\\: x_{k+1} = \\theta(x_k)\\xi \\:$ or using the differential formulation $\\: \\dot{x} = \\theta(x)\\xi \\:$ and solving the ODE. But synchronizing is difficult."
   ]
  },
  {
   "cell_type": "code",
   "execution_count": null,
   "metadata": {
    "hideCode": false,
    "hidePrompt": false,
    "slideshow": {
     "slide_type": "skip"
    }
   },
   "outputs": [],
   "source": []
  }
 ],
 "metadata": {
  "celltoolbar": "Slideshow",
  "hide_code_all_hidden": false,
  "kernelspec": {
   "display_name": "Python 3",
   "language": "python",
   "name": "python3"
  },
  "language_info": {
   "codemirror_mode": {
    "name": "ipython",
    "version": 3
   },
   "file_extension": ".py",
   "mimetype": "text/x-python",
   "name": "python",
   "nbconvert_exporter": "python",
   "pygments_lexer": "ipython3",
   "version": "3.8.2"
  },
  "rise": {
   "scroll": true
  }
 },
 "nbformat": 4,
 "nbformat_minor": 4
}
