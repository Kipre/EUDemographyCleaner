{
 "cells": [
  {
   "cell_type": "code",
   "execution_count": null,
   "metadata": {
    "scrolled": false,
    "slideshow": {
     "slide_type": "skip"
    }
   },
   "outputs": [],
   "source": [
    "!jupyter nbconvert approach.ipynb --to slides --post serve "
   ]
  },
  {
   "cell_type": "markdown",
   "metadata": {
    "slideshow": {
     "slide_type": "slide"
    }
   },
   "source": [
    "# Data-driven system identification of COVID-19 cases in several countries\n",
    "\n",
    "Goals:\n",
    "\n",
    "- Find a global model for the evolution of the cases in several countries\n",
    "- Based on country indicators\n",
    "\n",
    "The approach consists in finding a function $f$ such that for any country $c$ and at any day $t$:\n",
    "\n",
    "$$y_{c, t+1} = f(y_{c, t}, i_{c, t})$$ \n",
    "\n",
    "Where $y_{c, t}$ is the number of cases in country $c$ at day $t$ and $i_{c, t}$ is the information about the country at day $t$.\n",
    "\n",
    "\n",
    "-----\n",
    "<small>Author: Cyprien Neverov under the supervision of Prof. Zuazua</small>"
   ]
  },
  {
   "cell_type": "markdown",
   "metadata": {
    "slideshow": {
     "slide_type": "slide"
    }
   },
   "source": [
    "## Data\n",
    "\n",
    "Here is a description of the information that was used for the model:\n",
    "\n",
    "| Variable  | Explanation  | Nature  |\n",
    "|---|---|---|\n",
    "| $y_t$  | The state of the system: the number of cases in the country  | The state, time-dependent  |\n",
    "| $i_{1, t}$  |  Stringency index: how severe are the containment measures. (the control) | Time-dependent  |\n",
    "| $i_{2}$ | Human development index  | Constant  |\n",
    "| $i_{3}$ | Total population  | Constant  |\n",
    "| $i_{4}$ | Population ages 65 and above (% of total)  | Constant  |\n",
    "| $i_{5}$ | Hospital beds (per 1,000 people)  |  Constant |\n",
    "| $i_{6}$ | People using at least basic sanitation services (% of population)  | Constant  |\n",
    "| $i_{7}$ | Life expectancy at birth, total (years)  |  Constant |\n",
    "| ... | ...  |   |\n",
    "| $i_{40}$ | Cause of death, by injury (% of total)  | Constant  |\n",
    "\n",
    "\n",
    "\n",
    "\n",
    "We want to find a general formula of the following form<small><sup>1</sup></small>:\n",
    "\n",
    "$$y_{t+1} = f(y_t, i_{1, t}, i_2, i_3, i_4, ... , i_{40})$$ \n",
    "\n",
    "-----\n",
    "<small>Data retrieved from [2] and [3].</small>\n",
    "\n",
    "<small><sup>1</sup>The country indexes were omitted for better readability.</small>"
   ]
  },
  {
   "cell_type": "markdown",
   "metadata": {
    "slideshow": {
     "slide_type": "subslide"
    }
   },
   "source": [
    "### Example plots\n",
    "\n",
    "Cases and stringency for Austria and China.\n",
    "\n",
    "\n",
    "\n",
    "\n",
    "Austria             |  China\n",
    ":-------------------------:|:-------------------------:\n",
    "![Austria](https://github.com/Kipre/files/blob/master/internship/reports/austria.png?raw=true)  |  ![China](https://github.com/Kipre/files/blob/master/internship/reports/china.png?raw=true)"
   ]
  },
  {
   "cell_type": "markdown",
   "metadata": {
    "slideshow": {
     "slide_type": "slide"
    }
   },
   "source": [
    "## Model\n",
    "\n",
    "Using sparse system identification proposed by S. Brunton in [1].\n",
    "\n",
    "If we call $V = \\{y, i_1, i_2, i_3, i_4, ... , i_{40}\\}$ the set of all the variables and $\\theta$ the coefficients.\n",
    "\n",
    "$$y_{t+1} = f(y_t, i_{1, t}, i_2, i_3, i_4, ... , i_{40}) = \\sum_{v_1, v_2, v_3 \\in V^3, y \\in \\{v_1, v_2, v_3\\}} \\theta_{v_1, v_2, v_3} \\times v_1 v_2 v_3$$\n",
    "\n",
    "Humanly speaking if we had only 3 variables $y, i_1$ and $i_2$ this would be:\n",
    "\n",
    "\n",
    "\\begin{equation*}\n",
    "\\begin{split}\n",
    "f(y_t, i_{1, t}, i_2) & = \\theta_1 \\cdot y_t + \\theta_2 \\cdot y_t  \\cdot i_{1, t} + \\theta_3 \\cdot y_t \\cdot i_2\\\\ \n",
    "                      & + \\theta_4 \\cdot y_t \\cdot i_{1, t}^2 + \\theta_5 \\cdot y_t \\cdot i_{1, t} \\cdot i_2 + \\theta_6 \\cdot y_t \\cdot i_2^2\\\\ \n",
    "                      & + \\theta_7 \\cdot y_t^2 \\cdot i_{1, t} + \\theta_8 \\cdot y_t^2 \\cdot i_2\\\\ \n",
    "                      & + \\theta_9 \\cdot y_t^3\n",
    "\\end{split}\n",
    "\\end{equation*}\n",
    "\n",
    "We search for the best $(\\theta_i | i \\in [1..9])$ in the least squares sense.\n"
   ]
  },
  {
   "cell_type": "markdown",
   "metadata": {
    "slideshow": {
     "slide_type": "skip"
    }
   },
   "source": [
    "\\begin{equation*}\n",
    "\\begin{split}\n",
    "f(y_t, i_{1, t}, i_2) & = \\theta_1 y_t + \\theta_2 y_t i_{1, t} + \\theta_3 y_t i_2\\\\ \n",
    "                      & + \\theta_4 y_t i_{1, t}^2 + \\theta_5 y_t i_{1, t} i_2 + \\theta_6 y_t i_2^2\\\\ \n",
    "                      & + \\theta_7 y_t^2 i_{1, t} + \\theta_8 y_t^2 i_2\\\\ \n",
    "                      & + \\theta_9 y_t^3\n",
    "\\end{split}\n",
    "\\end{equation*}"
   ]
  },
  {
   "cell_type": "markdown",
   "metadata": {
    "slideshow": {
     "slide_type": "slide"
    }
   },
   "source": [
    "## Comparison to other approaches\n",
    "\n",
    "Our approach is different from usual SIR based models because:\n",
    "- Our goal is not to propose but to find a model.\n",
    "- We want our model to be valid on all countries.\n",
    "- We want to find a mapping between the descriptive characteristics of a country and the impact of the pandemic in this country."
   ]
  },
  {
   "cell_type": "markdown",
   "metadata": {
    "slideshow": {
     "slide_type": "slide"
    }
   },
   "source": [
    "## Experimental setup\n",
    "\n",
    "\n",
    "\n",
    "- 4857 training examples ($((y_t, i_{1, t}, i_2, ... , i_{40}), y_{t+1})$ pairs) and 1028 test examples for 105 and 26 countries respectively. \n",
    "- 42 variables (state + stringency + indicators). \n",
    "- Maximum degree of 3.\n",
    "- This yields more than 800 polynomial terms.\n",
    "\n",
    "## Results\n",
    "\n",
    "- Training data can be relatively precisely fitted\n",
    "- The model does not generalize outside of the training countries and completely fails to make any sensible predictions on the test samples.\n",
    "\n"
   ]
  },
  {
   "cell_type": "markdown",
   "metadata": {
    "slideshow": {
     "slide_type": "subslide"
    }
   },
   "source": [
    "### Realistic-looking trajectories\n",
    "\n",
    "Those are from the training set.\n",
    "\n",
    "<!-- ![successful](successful_4.png) -->\n",
    "<img src=\"https://github.com/Kipre/files/blob/master/internship/reports/successful_4.png?raw=true\" alt=\"successful\" width=\"700\"/>\n",
    "     "
   ]
  },
  {
   "cell_type": "markdown",
   "metadata": {
    "slideshow": {
     "slide_type": "subslide"
    }
   },
   "source": [
    "### Failing trajectories\n",
    "\n",
    "Australia and Japan are from the train set, somehow they did not fit correctly. Chile and Denmark are from the test set and none of the countries from the test set have a plausible trajectory. (The $y$ scale is wrong)\n",
    "\n",
    "<!-- ![unsuccessful](unsuccessful.png) -->\n",
    "<img src=\"https://github.com/Kipre/files/blob/master/internship/reports/unsuccessful.png?raw=true\" alt=\"unsuccessful\" width=\"700\"/>\n"
   ]
  },
  {
   "cell_type": "markdown",
   "metadata": {
    "slideshow": {
     "slide_type": "slide"
    }
   },
   "source": [
    "## Conclusion\n",
    "\n",
    "This is a very ambitious approach, because if it worked it would allow us to have a good idea of how a country will be impacted by the virus.\n",
    "So far it is not working since it doesn't generalize and doesn't allow to use knowledge from more advanced countries to infer the evolution of less advanced into the epidemic countries.\n"
   ]
  },
  {
   "cell_type": "markdown",
   "metadata": {
    "slideshow": {
     "slide_type": "slide"
    }
   },
   "source": [
    "## References\n",
    "\n",
    "[1] Brunton, Steven L, and J Nathan Kutz. 2019. <em>Data-Driven Science and Engineering: Machine Learning, Dynamical Systems, and Control</em>. Cambridge University Press.\n",
    "\n",
    "\n",
    "[2] Hale, Thomas, Sam Webster, Anna Petherick, Toby Phillips, and Beatriz Kira. 2020. “Oxford COVID-19 Government Response Tracker.” <em>Blavatnik School of Government</em>. <a href=\"https://www.bsg.ox.ac.uk/research/research-projects/coronavirus-government-response-tracker\">https://www.bsg.ox.ac.uk/research/research-projects/coronavirus-government-response-tracker</a>.\n",
    "\n",
    "\n",
    "[3] “Understanding the Coronavirus (COVID-19) Pandemic Through Data. World Bank.” n.d. <a href=\"http://datatopics.worldbank.org/universal-health-coverage/covid19/\">http://datatopics.worldbank.org/universal-health-coverage/covid19/</a>.\n",
    "\n",
    "\n",
    "\n",
    "\n",
    "\n",
    "Additionnal information can be found here [](https://github.com/Kipre/files/blob/master/internship/reports/mail.pdf) and I will be happy to discuss about this.\n",
    "\n",
    "\n",
    "\n",
    "\n",
    "\n",
    "\n"
   ]
  },
  {
   "cell_type": "code",
   "execution_count": null,
   "metadata": {
    "slideshow": {
     "slide_type": "skip"
    }
   },
   "outputs": [],
   "source": [
    "\n",
    "# <br>\n",
    "# <style type=\"text/css\">\n",
    "# #limit {\n",
    "#     max-height: 500px;\n",
    "# <!--     overflow-y: scroll; -->\n",
    "# }\n",
    "# </style>\n",
    "\n",
    "# <div id=\"limit\"><img class=\"sucessful\" src=\"successful.png\"></div>\n",
    "\n",
    "\n",
    "\n",
    "import pandas as pd\n",
    "import matplotlib.pyplot as plt\n",
    "\n",
    "# raw_data = pd.read_csv('https://ocgptweb.azurewebsites.net/CSVDownload', parse_dates=['Date'])\n",
    "\n",
    "original_data = raw_data.sort_values(['CountryCode', 'Date']).copy()\n",
    "first_values = original_data.sort_values(['CountryCode', 'Date'])['CountryCode'].drop_duplicates()\n",
    "today_values = original_data[original_data['Date'].dt.date == pd.Timestamp.today().date()]\n",
    "original_data = original_data[['CountryName', 'CountryCode', 'Date', 'ConfirmedCases', 'ConfirmedDeaths', 'StringencyIndexForDisplay']].drop(today_values.index)\n",
    "original_data.loc[first_values.index] = 0\n",
    "original_data = original_data.fillna(method='bfill')\n",
    "\n",
    "country_data = original_data[original_data['CountryCode'] == 'CHN'].copy()\n",
    "values = country_data.sort_values('Date')[['ConfirmedCases', 'ConfirmedDeaths']].values[1:]\n",
    "\n",
    "rescaling = 100\n",
    "\n",
    "t = range(len(values))\n",
    "fig, ax1 = plt.subplots()\n",
    "\n",
    "color = 'tab:red'\n",
    "ax1.set_xlabel('time')\n",
    "ax1.set_ylabel('Cases', color=color)\n",
    "ax1.plot(t, values[:, 0], label='cases', color=color)\n",
    "# ax1.plot(t, values[:, 1], label='deaths', color=color)\n",
    "ax1.tick_params(axis='y', labelcolor=color)\n",
    "\n",
    "ax2 = ax1.twinx()\n",
    "\n",
    "color = 'tab:blue'\n",
    "ax2.set_ylabel('Stringency', color=color)\n",
    "ax2.plot(t, country_data['StringencyIndexForDisplay'].iloc[:-1], color=color)\n",
    "ax2.tick_params(axis='y', labelcolor=color)\n",
    "\n",
    "# fig.tight_layout()\n",
    "# plt.title(country_data['CountryName'].unique()[0])\n",
    "plt.savefig('china.png')"
   ]
  }
 ],
 "metadata": {
  "celltoolbar": "Slideshow",
  "kernelspec": {
   "display_name": "Python 3",
   "language": "python",
   "name": "python3"
  },
  "language_info": {
   "codemirror_mode": {
    "name": "ipython",
    "version": 3
   },
   "file_extension": ".py",
   "mimetype": "text/x-python",
   "name": "python",
   "nbconvert_exporter": "python",
   "pygments_lexer": "ipython3",
   "version": "3.8.2"
  }
 },
 "nbformat": 4,
 "nbformat_minor": 4
}
