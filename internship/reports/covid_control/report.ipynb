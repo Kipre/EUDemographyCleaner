{
 "cells": [
  {
   "cell_type": "markdown",
   "metadata": {},
   "source": [
    "# Learning the evolutions with control measures\n",
    "\n",
    "## Introduction\n",
    "\n",
    "In precedent work we explained how we used [sparse system identification of nonlinear dynamics](#) in order to identify dynamics from the number of cumulative cases in different countries. We were identifying a function $f$ that described the dynamics of $\\mathbf{x}$ the number of cumulative cases:\n",
    "\n",
    "$$\\dot{\\mathbf{x}} = f(\\mathbf{x})$$\n",
    "\n",
    "In this work, the idea is to add the different controls from the government measures. A group of researchers from Oxford gathers all information about the measures being applied worldwide and provides all of this information in [their repository](https://github.com/OxCGRT/covid-policy-tracker).\n",
    "\n",
    "| Name | Description |\n",
    "|:--- |:--- |\n",
    "| School closing | Record closings of schools and universities |\n",
    "| Workplace closing | Record closings of workplaces |\n",
    "| Cancel public events | Record cancelling public events |\n",
    "| Restrictions on gatherings | Record limits on private gatherings |\n",
    "| Close public transport | Record closing of public transport | \n",
    "| Stay at home requirements | Record orders to \"shelter-in-place\" and otherwise confine to the home | \n",
    "| Restrictions on internal movement | Record restrictions on internal movement between cities/regions |\n",
    "| International travel controls | Record restrictions on international travel <br/><br/><small>Note: this records policy for foreign travellers, not citizens</small> | \n",
    "\n",
    "These measures are coded as an ordinal value. For example for school closing here how the values are interpreted:\n",
    "\n",
    "| Value | Meaning |\n",
    "| ---- | ---- |\n",
    "| 0 | no measures |\n",
    "| 1 | recommend closing |\n",
    "| 2 | require closing <br/>(only some levels or categories, eg just <br/>high school, or just public schools) |\n",
    "| 3 | require closing all levels | \n",
    "| Blank | no data | \n",
    "\n",
    "For other indicators the ordinal scale is similar and traduces the severity of the measures being taken. Additionally, each of the aforementioned indicators has a flag (a boolean value) informing about whether the measure is implemented locally or globally in the country. Indeed, in countries where the local authorities have more power the measures can vary a lot in different regions. In a similar manner, some countries chose to apply more severe measures in the most affected regions and this flag is designed to inform about this.\n",
    "\n",
    "Now, we can consider these measures as time-dependent variables in our system $(h_1(t), h_2(t), h_3(t), ..., h_k(t))$ and our ODE becomes:\n",
    "\n",
    "$$\\dot{\\mathbf{x}} = f(\\mathbf{x}, h_1(t), h_2(t), h_3(t), ..., h_k(t))$$"
   ]
  }
 ],
 "metadata": {
  "kernelspec": {
   "display_name": "Python 3",
   "language": "python",
   "name": "python3"
  },
  "language_info": {
   "codemirror_mode": {
    "name": "ipython",
    "version": 3
   },
   "file_extension": ".py",
   "mimetype": "text/x-python",
   "name": "python",
   "nbconvert_exporter": "python",
   "pygments_lexer": "ipython3",
   "version": "3.8.2"
  }
 },
 "nbformat": 4,
 "nbformat_minor": 4
}
