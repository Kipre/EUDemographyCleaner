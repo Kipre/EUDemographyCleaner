{
 "cells": [
  {
   "cell_type": "code",
   "execution_count": null,
   "metadata": {
    "scrolled": true,
    "slideshow": {
     "slide_type": "skip"
    }
   },
   "outputs": [],
   "source": [
    "!jupyter nbconvert soutenance.ipynb --to slides --post serve "
   ]
  },
  {
   "cell_type": "code",
   "execution_count": 13,
   "metadata": {
    "hideCode": false,
    "hidePrompt": false,
    "slideshow": {
     "slide_type": "skip"
    }
   },
   "outputs": [
    {
     "name": "stdout",
     "output_type": "stream",
     "text": [
      "The autoreload extension is already loaded. To reload it, use:\n",
      "  %reload_ext autoreload\n"
     ]
    }
   ],
   "source": [
    "import numpy as np\n",
    "from scipy.io import loadmat\n",
    "import pandas as pd\n",
    "import matplotlib.pyplot as plt\n",
    "# import matplotlib.image as mpimg\n",
    "import ipywidgets as widgets\n",
    "from IPython.display import display\n",
    "\n",
    "# difficult relative import\n",
    "import sys\n",
    "import os\n",
    "sys.path.append(os.path.abspath('..'))\n",
    "import codebase\n",
    "from codebase.sparse_regression import *\n",
    "from codebase.utils import *\n",
    "\n",
    "%load_ext autoreload"
   ]
  },
  {
   "cell_type": "code",
   "execution_count": 14,
   "metadata": {
    "slideshow": {
     "slide_type": "skip"
    }
   },
   "outputs": [
    {
     "name": "stderr",
     "output_type": "stream",
     "text": [
      "C:\\Users\\kipr\\AppData\\Roaming\\Python\\Python38\\site-packages\\IPython\\core\\interactiveshell.py:3254: DtypeWarning: Columns (2,3) have mixed types.Specify dtype option on import or set low_memory=False.\n",
      "  if (await self.run_code(code, result,  async_=asy)):\n"
     ]
    }
   ],
   "source": [
    "ds = CountryDataset()"
   ]
  },
  {
   "cell_type": "code",
   "execution_count": 15,
   "metadata": {
    "hideCode": false,
    "hidePrompt": false,
    "slideshow": {
     "slide_type": "skip"
    }
   },
   "outputs": [],
   "source": [
    "py_odes = loadmat('C:/Users/kipr/Documents/GitHub/files/internship/data/py_odes.mat')\n",
    "cubic_oscillator = py_odes['cubic_oscillator']\n",
    "t_ode = py_odes['t'][0]\n",
    "\n",
    "def show_trajectory(data, weights):\n",
    "    guess = integrate(weights, [0.5], \n",
    "                      np.arange(0, len(data)), \n",
    "                      derivative=derivative)\n",
    "\n",
    "    guess = np.clip(guess, a_min=-1, a_max=2*max(data))\n",
    "\n",
    "    plt.figure(dpi=100)\n",
    "    plt.plot(data, 'k.', label='real')\n",
    "    plt.plot(guess[:, 0], label='predicted') # problem\n",
    "    plt.title(country)\n",
    "    plt.legend()\n",
    "    plt.show()\n"
   ]
  },
  {
   "cell_type": "code",
   "execution_count": 16,
   "metadata": {
    "slideshow": {
     "slide_type": "skip"
    }
   },
   "outputs": [],
   "source": [
    "total_population = 1e2\n",
    "t = np.arange(200)\n",
    "initial_value = np.array([total_population*0.99, total_population*0.01, 0])\n",
    "\n",
    "def integrate_sir(r0):\n",
    "    def func(t, x, gamma=0.065, total_pop=total_population):\n",
    "        [s, i, r] = x\n",
    "        isn = gamma*r0(t)*s*i/total_pop\n",
    "        return np.array([-isn, isn - gamma*i, gamma*i])\n",
    "    res = solve_ivp(func, (t[0], t[-1]), initial_value, t_eval=t)\n",
    "\n",
    "    f, ax = plt.subplots(dpi=130)\n",
    "    \n",
    "    ax.plot(res.y[0], label='S', linewidth=3)\n",
    "    ax.plot(res.y[1], label='I', linewidth=3)\n",
    "    ax.plot(res.y[2], label='R', linewidth=3)\n",
    "\n",
    "    ax1 = ax.twinx()\n",
    "    \n",
    "    ax.set_ylabel('% of population')\n",
    "    ax1.set_ylabel('R0 value', color='r')\n",
    "    ax.set_xlabel('days')\n",
    "\n",
    "    ax1.plot(np.vectorize(r0)(t), 'r--', label='r0')\n",
    "    ax1.tick_params(axis='y', labelcolor='r')\n",
    "    ax.legend()\n",
    "    \n",
    "def constant_r0(t):\n",
    "    return 2\n",
    "\n",
    "def piece_r0(t):\n",
    "    if t < 10:\n",
    "        return 2.5\n",
    "    elif t < 55:\n",
    "        return 1.\n",
    "    elif t < 90:\n",
    "        return 0.8\n",
    "    elif t < 130:\n",
    "        return 1.1\n",
    "    else:\n",
    "        return 2.\n",
    "\n",
    "def exp_r0(t):\n",
    "    return min(3., 20*np.exp(-t*0.1))  + np.random.randn()*0.2"
   ]
  },
  {
   "cell_type": "markdown",
   "metadata": {
    "hideCode": false,
    "hidePrompt": false,
    "slideshow": {
     "slide_type": "slide"
    }
   },
   "source": [
    "<center>\n",
    "    <h1> Data-driven COVID-19 modeling </h1>\n",
    "</center>\n",
    "<center>\n",
    "<img src=\"image.png\" width=\"400\"></img>\n",
    "</center>\n",
    "<center>\n",
    "Cyprien Neverov<small><sup>1</sup></small>\n",
    "    </center>\n",
    "<center>\n",
    "August 28<sup>th</sup>, 2020\n",
    "</center>\n",
    "\n",
    "---\n",
    "<small>\n",
    "<sup>1</sup>\n",
    "Student at IMT Mines Ales and intern at FAU Erlangen-Nurnberg under the supervision of Prof. Enrique Zuazua.\n",
    "</small>"
   ]
  },
  {
   "cell_type": "markdown",
   "metadata": {
    "hideCode": false,
    "hidePrompt": false,
    "slideshow": {
     "slide_type": "slide"
    }
   },
   "source": [
    "## Table of Contents\n",
    "\n",
    "1. Data-driven system identification\n",
    "2. Modeling COVID-19\n",
    "3. Conclusion\n",
    "\n"
   ]
  },
  {
   "cell_type": "markdown",
   "metadata": {
    "hideCode": true,
    "hidePrompt": false,
    "slideshow": {
     "slide_type": "slide"
    }
   },
   "source": [
    "## 1. Data-driven system identification\n",
    "\n",
    "Identifying the dynamics from data is becoming a key challenge because:\n",
    " - Data acquisition is getting cheaper\n",
    " - Problems are getting more complex\n",
    " - Computational power is cheaper\n",
    "\n",
    "\n"
   ]
  },
  {
   "cell_type": "markdown",
   "metadata": {
    "hideCode": false,
    "hidePrompt": false,
    "slideshow": {
     "slide_type": "slide"
    }
   },
   "source": [
    "### Sparse identification of nonlinear dynamical systems\n",
    "\n",
    "Approach proposed by S. Brunton in [1]. \n",
    "\n",
    "- Uses sparse regression\n",
    "- Relies on a set of candidate functions\n",
    "\n",
    "Expresses the dynamics as a function $f$ which is a linear combination of the candidate functions:\n",
    "\n",
    "$$\\frac{dx}{dt}(t) = f(x(t))$$\n",
    "\n",
    "where $x$ is the state of the system."
   ]
  },
  {
   "cell_type": "markdown",
   "metadata": {
    "hideCode": false,
    "hidePrompt": false,
    "slideshow": {
     "slide_type": "subslide"
    }
   },
   "source": [
    "#### 1. Make two matrices \n",
    "Let's say that we have observed the system at $t_1, t_2, ..., t_m$ and either observed or numerically computed its time derivative at those time points, then we can construct the two following matrices:\n",
    "\n",
    "$$\\dot{X} = \n",
    "\\begin{bmatrix}\n",
    "\\frac{dx}{dt}(t_1) \\\\\n",
    "\\frac{dx}{dt}(t_2) \\\\\n",
    "\\vdots \\\\\n",
    "\\frac{dx}{dt}(t_m)\n",
    "\\end{bmatrix}\n",
    "\\text{ and }\n",
    "X = \n",
    "\\begin{bmatrix}\n",
    "x(t_1) \\\\\n",
    "x(t_2) \\\\\n",
    "\\vdots \\\\\n",
    "x(t_m)\n",
    "\\end{bmatrix}\n",
    "$$\n"
   ]
  },
  {
   "cell_type": "markdown",
   "metadata": {
    "hideCode": false,
    "hidePrompt": false,
    "slideshow": {
     "slide_type": "subslide"
    }
   },
   "source": [
    "#### 2. Augment the state matrix\n",
    "And then we can augment the $X$ matrix with the candidate functions $f_1, f_2, \\dots, f_p$ this will yield $\\theta(X)$:\n",
    "$$\\theta(X) = \n",
    "\\begin{bmatrix}\n",
    "f_1(x(t_1)) & f_2(x(t_1)) & \\cdots & f_p(x(t_1))\\\\\n",
    "f_1(x(t_2)) & f_2(x(t_2)) & \\cdots & f_p(x(t_2))\\\\\n",
    "\\vdots & \\vdots  & \\ddots & \\vdots\\\\\n",
    "f_1(x(t_m)) & f_2(x(t_m)) & \\cdots & f_p(x(t_m))\\\\\n",
    "\\end{bmatrix}\n",
    "$$\n",
    "\n"
   ]
  },
  {
   "cell_type": "markdown",
   "metadata": {
    "hideCode": false,
    "hidePrompt": false,
    "slideshow": {
     "slide_type": "subslide"
    }
   },
   "source": [
    "#### 3. Solve the linear least squares\n",
    "\n",
    "Now we want to find a matrix $\\xi$ that is a solution to:\n",
    "\n",
    "$$\\dot{X} = \\theta(X)\\xi$$\n",
    "\n",
    "in the least squares sense. The sparsity is achieved by running the optimization several times and gradually zeroing out the values that are under a cut-off value."
   ]
  },
  {
   "cell_type": "markdown",
   "metadata": {
    "hideCode": false,
    "hidePrompt": false,
    "slideshow": {
     "slide_type": "subslide"
    }
   },
   "source": [
    "#### Discretized formulation\n",
    "\n",
    "This algorithm also works in an iterative manner, when instead of $\\dot{X}$ we have $X_2$:\n",
    "\n",
    "$$\n",
    "X_2 = \n",
    "\\begin{bmatrix}\n",
    "x(t_2) \\\\\n",
    "x(t_3) \\\\\n",
    "\\vdots \\\\\n",
    "x(t_m)\n",
    "\\end{bmatrix}\n",
    "\\text{ and }\n",
    "X = \n",
    "\\begin{bmatrix}\n",
    "x(t_1) \\\\\n",
    "x(t_2) \\\\\n",
    "\\vdots \\\\\n",
    "x(t_{m-1})\n",
    "\\end{bmatrix}\n",
    "$$\n",
    "\n",
    "and then we seek to solve $X_2 = \\theta(X)\\xi$\n"
   ]
  },
  {
   "cell_type": "markdown",
   "metadata": {
    "hideCode": false,
    "hidePrompt": false,
    "slideshow": {
     "slide_type": "slide"
    }
   },
   "source": [
    "### Simple example\n",
    "\n",
    "Oscillator with a cubic nonlinearity:\n",
    "\n",
    "\\begin{align}\n",
    "    \\dot{x} & = -0.1x^3 + 2y^3 \\\\\n",
    "    \\dot{y} & = -2x^3 -0.1y^3 \n",
    "\\end{align}\n",
    "\n",
    "From now on we will consider only polynomial terms of the variables as candidate functions: $1, x, y, x^2, xy, y^2, x^3, \\dots, y^p$.\n"
   ]
  },
  {
   "cell_type": "code",
   "execution_count": 15,
   "metadata": {
    "hideCode": true,
    "hidePrompt": false,
    "slideshow": {
     "slide_type": "fragment"
    }
   },
   "outputs": [
    {
     "data": {
      "image/png": "[encoded data removed]",
      "text/plain": [
       "<Figure size 600x400 with 1 Axes>"
      ]
     },
     "metadata": {
      "needs_background": "light"
     },
     "output_type": "display_data"
    }
   ],
   "source": [
    "plt.figure(dpi=100)\n",
    "plt.plot(cubic_oscillator[:, 0], label='x')\n",
    "plt.plot(cubic_oscillator[:, 1], label='y')\n",
    "plt.legend()\n",
    "plt.xlabel('time')\n",
    "plt.ylabel('state')\n",
    "plt.title('Cubic oscillator')\n",
    "plt.show()"
   ]
  },
  {
   "cell_type": "markdown",
   "metadata": {
    "slideshow": {
     "slide_type": "subslide"
    }
   },
   "source": [
    "### Simple example"
   ]
  },
  {
   "cell_type": "code",
   "execution_count": 27,
   "metadata": {
    "hideCode": false,
    "hidePrompt": false,
    "scrolled": false,
    "slideshow": {
     "slide_type": "-"
    }
   },
   "outputs": [
    {
     "data": {
      "text/markdown": [
       "| function   |   $x_{k+1}$ |   $y_{k+1}$ |\n",
       "|:-----------|------------:|------------:|\n",
       "| $1$        |  0          |  0          |\n",
       "| $ x$       |  1.00577    | -0.0013371  |\n",
       "| $ y$       |  0          |  1.00572    |\n",
       "| $ x^2$     |  0          |  0          |\n",
       "| $ x y$     |  0          |  0          |\n",
       "| $ y^2$     |  0          |  0          |\n",
       "| $ x^3$     | -0.00816922 | -0.0645619  |\n",
       "| $ x^2 y$   |  0          | -0.00932543 |\n",
       "| $ x y^2$   | -0.00826491 |  0          |\n",
       "| $ y^3$     |  0.0654499  | -0.00740647 |"
      ],
      "text/plain": [
       "<IPython.core.display.Markdown object>"
      ]
     },
     "metadata": {},
     "output_type": "display_data"
    }
   ],
   "source": [
    "X_dot, X = make_targets(cubic_oscillator, derivative=(derivative:=False))\n",
    "  \n",
    "theta_X, _ = make_polynomials(X, max_degree=3)\n",
    "\n",
    "weights, _ = sparse_regression(theta_X, X_dot, cutoff=1e-3)\n",
    "if derivative: weights /= t_ode[1]\n",
    "\n",
    "show_weights(weights, derivative=derivative)"
   ]
  },
  {
   "cell_type": "markdown",
   "metadata": {
    "hideCode": false,
    "hidePrompt": false,
    "slideshow": {
     "slide_type": "slide"
    }
   },
   "source": [
    "## 2.  Modeling COVID-19\n",
    "\n",
    "The trajectories of cumulative cases:"
   ]
  },
  {
   "cell_type": "code",
   "execution_count": 15,
   "metadata": {
    "hideCode": true,
    "hidePrompt": false,
    "scrolled": false
   },
   "outputs": [
    {
     "data": {
      "image/png": "[encoded data removed]",
      "text/plain": [
       "<Figure size 780x520 with 1 Axes>"
      ]
     },
     "metadata": {
      "needs_background": "light"
     },
     "output_type": "display_data"
    }
   ],
   "source": [
    "countries_to_display = ['China', 'South Korea', 'France', 'Spain', 'Germany', 'Uruguay']\n",
    "\n",
    "plt.figure(dpi=130)\n",
    "for country in countries_to_display:\n",
    "    values = ds.cumulative(country)\n",
    "    plt.plot(values, label=country)\n",
    "plt.legend()\n",
    "plt.xlabel('days')\n",
    "plt.ylabel('cumulative cases')\n",
    "plt.show()"
   ]
  },
  {
   "cell_type": "markdown",
   "metadata": {
    "slideshow": {
     "slide_type": "subslide"
    }
   },
   "source": [
    "### Single country trajectory"
   ]
  },
  {
   "cell_type": "code",
   "execution_count": 31,
   "metadata": {
    "hideCode": false,
    "hidePrompt": false,
    "scrolled": false,
    "slideshow": {
     "slide_type": "-"
    }
   },
   "outputs": [
    {
     "data": {
      "text/markdown": [
       "| function   |    $\\dot{x}$ |\n",
       "|:-----------|-------------:|\n",
       "| $1$        | -0.000900268 |\n",
       "| $ x$       |  0.372269    |\n",
       "| $ x^2$     | -1.44715     |\n",
       "| $ x^3$     |  2.3851      |\n",
       "| $ x^4$     | -1.59452     |\n",
       "| $ x^5$     |  0.36289     |"
      ],
      "text/plain": [
       "<IPython.core.display.Markdown object>"
      ]
     },
     "metadata": {},
     "output_type": "display_data"
    },
    {
     "data": {
      "image/png": "[encoded data removed]",
      "text/plain": [
       "<Figure size 600x400 with 1 Axes>"
      ]
     },
     "metadata": {
      "needs_background": "light"
     },
     "output_type": "display_data"
    }
   ],
   "source": [
    "country = 'France'\n",
    "data = ds.cumulative(country, rescaling=100000)[:100]\n",
    "X_dot, X = make_targets(data[..., np.newaxis], derivative=(derivative:=True))\n",
    "theta_X, _ = make_polynomials(X, max_degree=5)\n",
    "weights, _ = sparse_regression(theta_X, X_dot, cutoff=1e-15)\n",
    "show_weights(weights, derivative=derivative)\n",
    "show_trajectory(data, weights)"
   ]
  },
  {
   "cell_type": "markdown",
   "metadata": {
    "hideCode": false,
    "hidePrompt": false,
    "slideshow": {
     "slide_type": "subslide"
    }
   },
   "source": [
    "### Observations\n",
    "\n",
    "- A single trajectory can be described by only two or three parameters.\n",
    "- The algorithm is not robust.\n",
    "- We did not have the complete evolutions for most of the countries at the time of writing.\n",
    "\n",
    "How can we use the information from countries that are more advanced into the epidemic to make predictions for countries at a more early stage ?"
   ]
  },
  {
   "cell_type": "markdown",
   "metadata": {
    "hideCode": false,
    "hidePrompt": false,
    "slideshow": {
     "slide_type": "slide"
    }
   },
   "source": [
    "### Multi-country model\n",
    "\n",
    "What if the evolution of the number of cases in several countries could be governed by a single formula?\n",
    "\n",
    "This would require additional information:\n",
    "- Information about the countries, the cultures;\n",
    "- Information about the measures taken by the governments to tackle the spread of the disease.\n",
    "\n",
    "We would like to find a function $f$ such that for any country $c$, at any day $t$, we have:\n",
    "\n",
    "$$x_{t+1, c} = f(x_{t, c}, i_{t, c})$$\n",
    "\n",
    "Where $i$ is this additional information.\n"
   ]
  },
  {
   "cell_type": "markdown",
   "metadata": {
    "slideshow": {
     "slide_type": "slide"
    }
   },
   "source": [
    "### SINDy vs ARIMA\n",
    "\n",
    "[ARIMA](https://en.wikipedia.org/wiki/Autoregressive_integrated_moving_average) seems to be the preferred tool of statisticians to make COVID forecasting: [6, 7]. We compared the performance of our techniques to an ARIMA model for forecasting purposes:\n",
    "\n",
    "<center><img src='Germany_forecast.png' width=\"1200\"/></center>"
   ]
  },
  {
   "cell_type": "markdown",
   "metadata": {
    "slideshow": {
     "slide_type": "subslide"
    }
   },
   "source": [
    "### SINDy vs ARIMA\n",
    "\n",
    "But it doesn't always work as expected.\n",
    "\n",
    "<center><img src='Guinea_forecast.png' width=\"1200\"/></center>"
   ]
  },
  {
   "cell_type": "markdown",
   "metadata": {
    "slideshow": {
     "slide_type": "subslide"
    }
   },
   "source": [
    "### SINDy vs ARIMA\n",
    "\n",
    "| Percentage of best guesses | Error on 1 week forecast horizon  | Error on 2 weeks forecast horizon   |\n",
    "|---|---|---|\n",
    "| <img src='forecasting.png' width=\"600\"/> | <img src='one_week.png' width=\"600\"/>  | <img src='two_weeks.png' width=\"600\"/>  |\n"
   ]
  },
  {
   "cell_type": "markdown",
   "metadata": {
    "hideCode": false,
    "hidePrompt": false,
    "slideshow": {
     "slide_type": "subslide"
    }
   },
   "source": [
    "### Other approaches/experiments\n",
    "\n",
    "- [Rational basis functions](https://kipre.github.io/files/internship/reports/non-linear/nonlinear.html)\n",
    "- [Time dependent dynamics](https://kipre.github.io/files/internship/reports/covid_time/index.html) \n",
    "- [Control measures](https://kipre.github.io/files/internship/reports/covid_control/report.html)\n",
    "- N-Beats and NNs\n",
    "- SIR fitting and recovering\n",
    "- More precedent states ($x_{n-1}$, $x_{n-2}$) - autoregression."
   ]
  },
  {
   "cell_type": "markdown",
   "metadata": {
    "slideshow": {
     "slide_type": "slide"
    }
   },
   "source": [
    "## Conclusion\n",
    "\n",
    "\n",
    "- System identification is challenging.\n",
    "- In simple settings the SINDy algorithm learns well.\n",
    "- In complex situations not so much.\n",
    "- It was quite early to work on data-driven approaches.\n",
    "- It is really sensitive to small hyperparameters changes.\n",
    "- Sensitive to small data changes.\n",
    "- Easily overfits.\n",
    "- Random events had a big impact on the evolutions.\n",
    "\n"
   ]
  },
  {
   "cell_type": "markdown",
   "metadata": {
    "slideshow": {
     "slide_type": "subslide"
    }
   },
   "source": [
    "### Other tasks\n",
    "\n",
    "- [`net2mat`](https://github.com/Kipre/net2mat) - a small program to transform GASLIB `.net` files to a MATLAB `.mat`. Written in C++.\n",
    "- [System identification as a service](https://github.com/Kipre/files/tree/master/internship/siaas) - using the implemented algorithms to deploy a service through a REST API for identifying systems from data."
   ]
  },
  {
   "cell_type": "markdown",
   "metadata": {
    "hideCode": false,
    "hidePrompt": false,
    "slideshow": {
     "slide_type": "slide"
    }
   },
   "source": [
    "## References\n",
    "\n",
    "\n",
    "[1] Brunton, Steven L., Joshua L. Proctor, and J. Nathan Kutz. 2016. “Discovering Governing Equations from Data by Sparse Identification of Nonlinear Dynamical Systems.” <em>Proceedings of the National Academy of Sciences</em> 113 (15): 3932–7. <a href=\"https://doi.org/10.1073/pnas.1517384113\">https://doi.org/10.1073/pnas.1517384113</a>.\n",
    "\n",
    "\n",
    "[2] Hale, Thomas, Sam Webster, Anna Petherick, Toby Phillips, and Beatriz Kira. 2020. “Oxford COVID-19 Government Response Tracker.” <em>Blavatnik School of Government</em>. <a href=\"https://github.com/OxCGRT/covid-policy-tracker/\">https://github.com/OxCGRT/covid-policy-tracker/</a>.\n",
    "\n",
    "[3] “Understanding the Coronavirus (COVID-19) Pandemic Through Data. World Bank.” n.d. <a href=\"http://datatopics.worldbank.org/universal-health-coverage/covid19/\">http://datatopics.worldbank.org/universal-health-coverage/covid19/</a>.\n",
    "\n",
    "[4] Kermack, William Ogilvy, A. G. McKendrick, and Gilbert Thomas Walker. 1997. “A Contribution to the Mathematical Theory of Epidemics.” <em>Proc. R. Soc. Lond.</em> 12: 700–721. <a href=\"https://doi.org/10.1098/rspa.1927.0118\">https://doi.org/10.1098/rspa.1927.0118</a>.\n",
    "\n",
    "[5] Andreas Kergassner, Christian Burkhardt, Dorothee Lippold, Sarah Nistler, Matthias Kergassner, Paul Steinmann, Dominik Budday, Silvia Budday. 2020. “Meso-scale modeling of COVID-19 spatio-temporal outbreak dynamics in Germany”\n",
    "<em>medRxiv 2020.06.10.20126771; doi</em> <a>https://doi.org/10.1101/2020.06.10.20126771</a>\n",
    "\n",
    "[6] Guorong Ding, Xinru Li, Yang Shen, Jiao Fan. 2020. “Brief Analysis of the ARIMA model on the COVID-19 in Italy”\n",
    "<em>medRxiv 2020.04.08.20058636; doi:</em> <a> https://doi.org/10.1101/2020.04.08.20058636</a>\n",
    "\n",
    "[7] Lutfi Bayyurt, Burcu Bayyurt. 2020. “Forecasting of COVID-19 Cases and Deaths Using ARIMA Models”\n",
    "<em>medRxiv 2020.04.17.20069237; doi:</em> <a>https://doi.org/10.1101/2020.04.17.20069237</a>\n",
    "\n",
    "[8] Keimer, Alexander & Pflug, Lukas. (2020). “Modeling infectious diseases using integro-differential equations: Optimal control strategies for policy decisions and Applications in COVID-19”. <em>10.13140/RG.2.2.10845.44000.</em> [link](https://www.researchgate.net/publication/341265820_Modeling_infectious_diseases_using_integro-differential_equations_Optimal_control_strategies_for_policy_decisions_and_Applications_in_COVID-19?channel=doi&linkId=5eb6577f299bf1287f77ed58&showFulltext=true)"
   ]
  },
  {
   "cell_type": "markdown",
   "metadata": {
    "hideCode": false,
    "hidePrompt": false,
    "slideshow": {
     "slide_type": "slide"
    }
   },
   "source": [
    "## Appendix"
   ]
  },
  {
   "cell_type": "markdown",
   "metadata": {
    "slideshow": {
     "slide_type": "slide"
    }
   },
   "source": [
    "## Quick introduction to epidemiology\n",
    "\n",
    "The most basic compartmental model is the SIR (Susceptible, Infected, Recovered) introduced in [4] and is governed by the following dynamics:\n",
    "\n",
    "\\begin{align*}\n",
    "\\dot{S} &= -\\frac{\\beta I S}{N} \\\\ \n",
    "\\dot{I} &= \\frac{\\beta I S}{N} - \\gamma I \\\\ \n",
    "\\dot{R} &= \\gamma I \n",
    "\\end{align*}\n",
    "\n",
    "Where $N$ is the total population, $\\beta$ and $\\gamma$ are the parameters of the disease, $\\frac{\\beta}{\\gamma}$ is called $r_0$.\n"
   ]
  },
  {
   "cell_type": "markdown",
   "metadata": {
    "slideshow": {
     "slide_type": "slide"
    }
   },
   "source": [
    "### Examples for different $r_0$s\n",
    "\n",
    "`constant_r0`: $x \\mapsto 2$\n",
    "\n",
    "`piece_r0`: $x \\mapsto \\begin{cases}\n",
    "               2.5,  & \\text{if $x < 10$} \\\\\n",
    "               1, & \\text{if $x < 55$} \\\\\n",
    "               0.8, & \\text{if $x < 90$} \\\\\n",
    "               1.1, & \\text{if $x < 130$} \\\\\n",
    "               1, & \\text{else}\n",
    "               \\end{cases}\\!$\n",
    "\n",
    "`exp_r0`: $x \\mapsto 20 \\times e^{-0.1 x} + \\epsilon$"
   ]
  },
  {
   "cell_type": "code",
   "execution_count": 9,
   "metadata": {
    "scrolled": false,
    "slideshow": {
     "slide_type": "subslide"
    }
   },
   "outputs": [
    {
     "data": {
      "image/png": "[encoded data removed]",
      "text/plain": [
       "<Figure size 780x520 with 2 Axes>"
      ]
     },
     "metadata": {
      "needs_background": "light"
     },
     "output_type": "display_data"
    }
   ],
   "source": [
    "integrate_sir(constant_r0)"
   ]
  },
  {
   "cell_type": "markdown",
   "metadata": {
    "slideshow": {
     "slide_type": "subslide"
    }
   },
   "source": [
    "### In practice\n",
    "\n",
    "Proposed by [5]\n",
    "\n",
    "\\begin{align*}\n",
    "\\dot{S}_k = &-\\beta I_k S_k &- \\sum_l^{n_c} \\tilde{\\beta}_{kl} S_k I_l \\\\ \n",
    "\\dot{I}_k = &+\\beta I_k S_k &+ \\sum_l^{n_c} \\tilde{\\beta}_{kl} S_k I_l &- \\frac{\\gamma_1}{\\omega - 1} I_k &- \\gamma_1 I_k \\\\ \n",
    "\\dot{Q}_k = &&&+ \\frac{\\gamma_1}{\\omega - 1} I_k  &&- \\gamma_2Q_k &- \\gamma_2 \\frac{\\mu \\omega}{1 - \\mu \\omega} Q_k \\\\\n",
    "\\dot{R}_k = &&&&+ \\gamma_1 I &+ \\gamma_2 Q_k \\\\\n",
    "\\dot{D}_k = &&&&&&+ \\gamma_2 \\frac{\\mu \\omega}{1 - \\mu \\omega} Q_k \n",
    "\\end{align*}\n",
    "\n",
    "With $\\tilde{\\beta}_{kl} = \\beta_{CC}\\sqrt{\\beta_k \\beta_l} \\frac{N^\\xi_k N^\\lambda_l }{N^{\\xi + \\lambda}_max} e^{-\\frac{r_{kl}}{r}}$"
   ]
  },
  {
   "cell_type": "markdown",
   "metadata": {
    "hideCode": false,
    "hidePrompt": false,
    "slideshow": {
     "slide_type": "slide"
    }
   },
   "source": [
    "### Influence of the cutoff value\n",
    "\n",
    "Choosing a cutoff value is not trivial.\n",
    "\n",
    "![](../sparsity_vs_mse.png)"
   ]
  },
  {
   "cell_type": "markdown",
   "metadata": {
    "hideCode": false,
    "hidePrompt": false,
    "slideshow": {
     "slide_type": "slide"
    }
   },
   "source": [
    "#### Information about the countries\n",
    "\n",
    "List of country indicators relevant to the pandemic by the World Bank [2], divided into 3 categories:\n",
    "\n",
    "- Health: general information about health infrastructure, economics and mortality causes.\n",
    "- Water & Sanitation: information about hygiene.\n",
    "- Age & Population: demographic indicators.\n",
    "\n"
   ]
  },
  {
   "cell_type": "markdown",
   "metadata": {
    "hideCode": false,
    "hidePrompt": false,
    "slideshow": {
     "slide_type": "slide"
    }
   },
   "source": [
    "\n",
    "#### Information about the government measures\n",
    "\n",
    "Social distancing measures had a huge impact on the development of the disease and we want to take them into account. We use a \"Stringency Index\" provided by a group of researchers from Oxford [3].\n",
    "- An aggregation of policy indicators: information on containment and closure policies, such as school closures and restrictions in movement.\n",
    "- Should not be interpreted as effectiveness of the measures.\n"
   ]
  },
  {
   "cell_type": "code",
   "execution_count": 14,
   "metadata": {
    "hideCode": true,
    "hidePrompt": false,
    "scrolled": false,
    "slideshow": {
     "slide_type": "fragment"
    }
   },
   "outputs": [
    {
     "data": {
      "application/vnd.jupyter.widget-view+json": {
       "model_id": "5ffb0fcf638b40f89fabf57ba31fa04b",
       "version_major": 2,
       "version_minor": 0
      },
      "text/plain": [
       "interactive(children=(Dropdown(description='country', options=('Aruba', 'Afghanistan', 'Angola', 'Anguilla', '…"
      ]
     },
     "metadata": {},
     "output_type": "display_data"
    }
   ],
   "source": [
    "def plot_cases_and_stringency(country):\n",
    "    country_data = ds.cumulative(country)\n",
    "\n",
    "    fig, ax1 = plt.subplots(dpi=80)\n",
    "\n",
    "    color = 'tab:red'\n",
    "    ax1.set_xlabel('time')\n",
    "    ax1.set_ylabel('Cases')\n",
    "    ax1.plot(country_data[:-1], 'k.', label='cases')\n",
    "    ax1.tick_params(axis='y')\n",
    "\n",
    "    ax2 = ax1.twinx()\n",
    "\n",
    "    color = 'tab:blue'\n",
    "    ax2.set_ylabel('Stringency', color=color)\n",
    "    ax2.plot(ds.stringency(country)[:-1], color=color)\n",
    "    ax2.tick_params(axis='y', labelcolor=color)\n",
    "\n",
    "    fig.tight_layout()\n",
    "    plt.title(country)\n",
    "    plt.show()\n",
    "    \n",
    "widgets.interact(plot_cases_and_stringency, country=ds.all_ox_countries()[1:]);"
   ]
  },
  {
   "cell_type": "markdown",
   "metadata": {
    "hideCode": false,
    "hidePrompt": false,
    "slideshow": {
     "slide_type": "slide"
    }
   },
   "source": [
    "### Fitting\n",
    "\n",
    "Experimental setting:\n",
    "\n",
    "- 4857 training examples (rows in the $X$ and $X_2$ matrices) and 1028 test examples for 105 and 26 countries respectively. \n",
    "- 42 variables (state + stringency + indicators). \n",
    "- Polynomial terms with a maximum degree of 3.\n",
    "- We neglect the terms that are constant with respect to the state.\n",
    "- This yields more than 800 polynomial terms. \n",
    "\n",
    "The number of polynomial terms is equal to $\\frac{(n + r - 1)!}{ r! (n - 1)! }$ where $n$ is the number of variables and $r$ the maximum degree.\n",
    "\n"
   ]
  },
  {
   "cell_type": "markdown",
   "metadata": {
    "hideCode": false,
    "hidePrompt": false,
    "slideshow": {
     "slide_type": "slide"
    }
   },
   "source": [
    "### Putting it all together\n",
    "\n",
    "Here is a description of the information that was used for the model:\n",
    "\n",
    "| Variable  | Explanation  | Nature  |\n",
    "|---|---|---|\n",
    "| $x_t$  | The state of the system: the number of cases in the country  | The state, time-dependent  |\n",
    "| $i_{1, t}$  |  Stringency index: how severe are the containment measures. (the control) | Time-dependent  |\n",
    "| $i_{2}$ | Human development index  | Constant  |\n",
    "| $i_{3}$ | Total population  | Constant  |\n",
    "| $i_{4}$ | Population ages 65 and above (% of total)  | Constant  |\n",
    "| $i_{5}$ | Hospital beds (per 1,000 people)  |  Constant |\n",
    "| ... | ...  | ...  |\n",
    "| $i_{40}$ | Cause of death, by injury (% of total)  | Constant  |\n",
    "\n",
    "\n",
    "\n",
    "We want to find a general formula of the following form<small><sup>1</sup></small>:\n",
    "\n",
    "$$x_{t+1} = f(x_t, i_{1, t}, i_2, i_3, i_4, ... , i_{40})$$ \n",
    "\n",
    "-----\n",
    "<small><sup>1</sup>The country indexes were omitted for better readability.</small>"
   ]
  },
  {
   "cell_type": "markdown",
   "metadata": {
    "slideshow": {
     "slide_type": "slide"
    }
   },
   "source": [
    "### Study of the influence of the delay\n",
    "\n",
    "It is obvious that the influence of the delay in the dynamics of the pandemic is very important [8]. But we couldn't find any delay that would give significantly better results than no delay.\n",
    "\n",
    "<center><img src='delay_study.png' width=\"700\"/></center>"
   ]
  },
  {
   "cell_type": "markdown",
   "metadata": {
    "hideCode": false,
    "hidePrompt": false,
    "slideshow": {
     "slide_type": "subslide"
    }
   },
   "source": [
    "### Indicators\n",
    "\n",
    "```\n",
    "Hospital beds (per 1,000 people),\n",
    "Physicians (per 1,000 people),\n",
    "Nurses and midwives (per 1,000 people),\n",
    "UHC service coverage index,\n",
    "Human development index,\n",
    "Current health expenditure (% of GDP),\n",
    "Current health expenditure per capita (current US$),\n",
    "Current health expenditure per capita, PPP (current international $),\n",
    "Out-of-pocket expenditure (% of current health expenditure),\n",
    "Out-of-pocket expenditure per capita (current US$),\n",
    "Out-of-pocket expenditure per capita, PPP (current international $),\n",
    "Diabetes prevalence (% of population ages 20 to 79),\n",
    "Life expectancy at birth, female (years),\n",
    "Life expectancy at birth, total (years),\n",
    "Life expectancy at birth, male (years),\n",
    "Mortality rate, adult, female (per 1,000 female adults),\n",
    "Mortality rate, adult, male (per 1,000 male adults),\n",
    "Mortality from CVD, cancer, diabetes or CRD between exact ages 30 and 70 (%),\n",
    "Mortality from CVD, cancer, diabetes or CRD between exact ages 30 and 70, female (%),\n",
    "Mortality from CVD, cancer, diabetes or CRD between exact ages 30 and 70, male (%),\n",
    "Cause of death, by communicable diseases and maternal, prenatal and nutrition conditions (% of total),\n",
    "Cause of death, by injury (% of total),\n",
    "Cause of death, by non-communicable diseases (% of total),\n",
    "People using at least basic drinking water services (% of population),\n",
    "People using at least basic sanitation services (% of population),\n",
    "Population ages 80 and above, female (% of female population),\n",
    "Population ages 80 and above, male (% of male population),\n",
    "Population ages 65 and above, female (% of total),\n",
    "Population ages 65 and above, male (% of total),\n",
    "Population ages 65 and above (% of total),\n",
    "Population ages 0-14, female (% of female population),\n",
    "Population ages 0-14, male (% of male population),\n",
    "Population ages 0-14 (% of total population),\n",
    "Population ages 15-64, female (% of female population),\n",
    "Population ages 15-64, male (% of male population),\n",
    "Population ages 15-64 (% of total population),\n",
    "Total population\n",
    "```"
   ]
  },
  {
   "cell_type": "markdown",
   "metadata": {
    "hideCode": false,
    "hidePrompt": false,
    "slideshow": {
     "slide_type": "slide"
    }
   },
   "source": [
    "### Importance of the indicators\n",
    "\n",
    "Let the importance of a variable be the normalized sum of the absolute value of the coefficients of the polynomial terms where this variable appears.\n",
    "\n"
   ]
  },
  {
   "cell_type": "markdown",
   "metadata": {
    "hideCode": false,
    "hidePrompt": false,
    "slideshow": {
     "slide_type": "subslide"
    }
   },
   "source": [
    "#### For a cutoff value of $10^{-4}$ and sparsity of $0$%\n",
    "\n",
    "<img src='importances_train.png' width='700'></img>\n",
    "\n",
    "<!-- ![](importances_train.png) -->"
   ]
  },
  {
   "cell_type": "markdown",
   "metadata": {
    "hideCode": false,
    "hidePrompt": false,
    "slideshow": {
     "slide_type": "subslide"
    }
   },
   "source": [
    "#### For a cutoff value of $1$ and sparsity of $98$%\n",
    "\n",
    "![](importances_test.png)"
   ]
  },
  {
   "cell_type": "markdown",
   "metadata": {
    "hideCode": false,
    "hidePrompt": false,
    "slideshow": {
     "slide_type": "slide"
    }
   },
   "source": [
    "### Logistic trajectories\n",
    "\n",
    "Most of the trajectories have an evolution close to a logistic function:\n",
    "\n",
    "$$x(t) = \\frac{a}{1+e^{-b(t-c)}}$$\n",
    "\n",
    "Where $a, b$ and $c$ are the parameters.\n",
    "\n",
    "Since the derivative of a logistic function is: $\\frac{dx}{dt}(t) = x(t)\\times (1 - x(t))$ we should be able to have some baseline results with polynomials of a maximum degree of 2.\n",
    "\n",
    "\n"
   ]
  },
  {
   "cell_type": "markdown",
   "metadata": {
    "hideCode": false,
    "hidePrompt": false,
    "slideshow": {
     "slide_type": "slide"
    }
   },
   "source": [
    "### Integrating the identified system\n",
    "\n",
    "We can easily generate a trajectory with $\\: x_{k+1} = \\theta(x_k)\\xi \\:$ or using the differential formulation $\\: \\dot{x} = \\theta(x)\\xi \\:$ and solving the ODE. But synchronizing is difficult."
   ]
  },
  {
   "cell_type": "code",
   "execution_count": null,
   "metadata": {
    "hideCode": false,
    "hidePrompt": false,
    "slideshow": {
     "slide_type": "skip"
    }
   },
   "outputs": [],
   "source": []
  }
 ],
 "metadata": {
  "celltoolbar": "Slideshow",
  "hide_code_all_hidden": false,
  "kernelspec": {
   "display_name": "Python 3",
   "language": "python",
   "name": "python3"
  },
  "language_info": {
   "codemirror_mode": {
    "name": "ipython",
    "version": 3
   },
   "file_extension": ".py",
   "mimetype": "text/x-python",
   "name": "python",
   "nbconvert_exporter": "python",
   "pygments_lexer": "ipython3",
   "version": "3.8.2"
  },
  "rise": {
   "scroll": true
  }
 },
 "nbformat": 4,
 "nbformat_minor": 4
}
